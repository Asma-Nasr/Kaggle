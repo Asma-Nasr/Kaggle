{
 "cells": [
  {
   "cell_type": "code",
   "execution_count": 1,
   "id": "6eabd14b",
   "metadata": {
    "_cell_guid": "b1076dfc-b9ad-4769-8c92-a6c4dae69d19",
    "_uuid": "8f2839f25d086af736a60e9eeb907d3b93b6e0e5",
    "execution": {
     "iopub.execute_input": "2025-02-01T12:30:12.340220Z",
     "iopub.status.busy": "2025-02-01T12:30:12.339686Z",
     "iopub.status.idle": "2025-02-01T12:30:15.217846Z",
     "shell.execute_reply": "2025-02-01T12:30:15.216786Z"
    },
    "papermill": {
     "duration": 2.887326,
     "end_time": "2025-02-01T12:30:15.219710",
     "exception": false,
     "start_time": "2025-02-01T12:30:12.332384",
     "status": "completed"
    },
    "tags": []
   },
   "outputs": [],
   "source": [
    "import numpy as np # linear algebra\n",
    "import pandas as pd # data processing, CSV file I/O (e.g. pd.read_csv)\n",
    "from sklearn.model_selection import train_test_split\n",
    "from sklearn.ensemble import RandomForestRegressor\n",
    "from sklearn.metrics import mean_squared_error\n",
    "from sklearn.impute import KNNImputer"
   ]
  },
  {
   "cell_type": "code",
   "execution_count": 2,
   "id": "7d096483",
   "metadata": {
    "execution": {
     "iopub.execute_input": "2025-02-01T12:30:15.230863Z",
     "iopub.status.busy": "2025-02-01T12:30:15.230340Z",
     "iopub.status.idle": "2025-02-01T12:30:16.381921Z",
     "shell.execute_reply": "2025-02-01T12:30:16.380749Z"
    },
    "papermill": {
     "duration": 1.159195,
     "end_time": "2025-02-01T12:30:16.383879",
     "exception": false,
     "start_time": "2025-02-01T12:30:15.224684",
     "status": "completed"
    },
    "tags": []
   },
   "outputs": [],
   "source": [
    "train_data = pd.read_csv('/kaggle/input/playground-series-s5e2/train.csv')\n",
    "test_data = pd.read_csv('/kaggle/input/playground-series-s5e2/test.csv')\n",
    "sam_data = pd.read_csv('/kaggle/input/playground-series-s5e2/sample_submission.csv')"
   ]
  },
  {
   "cell_type": "code",
   "execution_count": 3,
   "id": "a0248d79",
   "metadata": {
    "execution": {
     "iopub.execute_input": "2025-02-01T12:30:16.394432Z",
     "iopub.status.busy": "2025-02-01T12:30:16.394097Z",
     "iopub.status.idle": "2025-02-01T12:30:16.423852Z",
     "shell.execute_reply": "2025-02-01T12:30:16.422758Z"
    },
    "papermill": {
     "duration": 0.037009,
     "end_time": "2025-02-01T12:30:16.425662",
     "exception": false,
     "start_time": "2025-02-01T12:30:16.388653",
     "status": "completed"
    },
    "tags": []
   },
   "outputs": [
    {
     "data": {
      "text/html": [
       "<div>\n",
       "<style scoped>\n",
       "    .dataframe tbody tr th:only-of-type {\n",
       "        vertical-align: middle;\n",
       "    }\n",
       "\n",
       "    .dataframe tbody tr th {\n",
       "        vertical-align: top;\n",
       "    }\n",
       "\n",
       "    .dataframe thead th {\n",
       "        text-align: right;\n",
       "    }\n",
       "</style>\n",
       "<table border=\"1\" class=\"dataframe\">\n",
       "  <thead>\n",
       "    <tr style=\"text-align: right;\">\n",
       "      <th></th>\n",
       "      <th>id</th>\n",
       "      <th>Brand</th>\n",
       "      <th>Material</th>\n",
       "      <th>Size</th>\n",
       "      <th>Compartments</th>\n",
       "      <th>Laptop Compartment</th>\n",
       "      <th>Waterproof</th>\n",
       "      <th>Style</th>\n",
       "      <th>Color</th>\n",
       "      <th>Weight Capacity (kg)</th>\n",
       "      <th>Price</th>\n",
       "    </tr>\n",
       "  </thead>\n",
       "  <tbody>\n",
       "    <tr>\n",
       "      <th>0</th>\n",
       "      <td>0</td>\n",
       "      <td>Jansport</td>\n",
       "      <td>Leather</td>\n",
       "      <td>Medium</td>\n",
       "      <td>7.0</td>\n",
       "      <td>Yes</td>\n",
       "      <td>No</td>\n",
       "      <td>Tote</td>\n",
       "      <td>Black</td>\n",
       "      <td>11.611723</td>\n",
       "      <td>112.15875</td>\n",
       "    </tr>\n",
       "    <tr>\n",
       "      <th>1</th>\n",
       "      <td>1</td>\n",
       "      <td>Jansport</td>\n",
       "      <td>Canvas</td>\n",
       "      <td>Small</td>\n",
       "      <td>10.0</td>\n",
       "      <td>Yes</td>\n",
       "      <td>Yes</td>\n",
       "      <td>Messenger</td>\n",
       "      <td>Green</td>\n",
       "      <td>27.078537</td>\n",
       "      <td>68.88056</td>\n",
       "    </tr>\n",
       "    <tr>\n",
       "      <th>2</th>\n",
       "      <td>2</td>\n",
       "      <td>Under Armour</td>\n",
       "      <td>Leather</td>\n",
       "      <td>Small</td>\n",
       "      <td>2.0</td>\n",
       "      <td>Yes</td>\n",
       "      <td>No</td>\n",
       "      <td>Messenger</td>\n",
       "      <td>Red</td>\n",
       "      <td>16.643760</td>\n",
       "      <td>39.17320</td>\n",
       "    </tr>\n",
       "  </tbody>\n",
       "</table>\n",
       "</div>"
      ],
      "text/plain": [
       "   id         Brand Material    Size  Compartments Laptop Compartment  \\\n",
       "0   0      Jansport  Leather  Medium           7.0                Yes   \n",
       "1   1      Jansport   Canvas   Small          10.0                Yes   \n",
       "2   2  Under Armour  Leather   Small           2.0                Yes   \n",
       "\n",
       "  Waterproof      Style  Color  Weight Capacity (kg)      Price  \n",
       "0         No       Tote  Black             11.611723  112.15875  \n",
       "1        Yes  Messenger  Green             27.078537   68.88056  \n",
       "2         No  Messenger    Red             16.643760   39.17320  "
      ]
     },
     "execution_count": 3,
     "metadata": {},
     "output_type": "execute_result"
    }
   ],
   "source": [
    "train_data.head(3)"
   ]
  },
  {
   "cell_type": "markdown",
   "id": "0169d452",
   "metadata": {
    "papermill": {
     "duration": 0.004678,
     "end_time": "2025-02-01T12:30:16.435521",
     "exception": false,
     "start_time": "2025-02-01T12:30:16.430843",
     "status": "completed"
    },
    "tags": []
   },
   "source": [
    "# Missing values"
   ]
  },
  {
   "cell_type": "code",
   "execution_count": 4,
   "id": "a7e8f130",
   "metadata": {
    "execution": {
     "iopub.execute_input": "2025-02-01T12:30:16.446546Z",
     "iopub.status.busy": "2025-02-01T12:30:16.446206Z",
     "iopub.status.idle": "2025-02-01T12:30:16.562034Z",
     "shell.execute_reply": "2025-02-01T12:30:16.560936Z"
    },
    "papermill": {
     "duration": 0.123673,
     "end_time": "2025-02-01T12:30:16.564067",
     "exception": false,
     "start_time": "2025-02-01T12:30:16.440394",
     "status": "completed"
    },
    "tags": []
   },
   "outputs": [
    {
     "data": {
      "text/plain": [
       "id                         0\n",
       "Brand                   9705\n",
       "Material                8347\n",
       "Size                    6595\n",
       "Compartments               0\n",
       "Laptop Compartment      7444\n",
       "Waterproof              7050\n",
       "Style                   7970\n",
       "Color                   9950\n",
       "Weight Capacity (kg)     138\n",
       "Price                      0\n",
       "dtype: int64"
      ]
     },
     "execution_count": 4,
     "metadata": {},
     "output_type": "execute_result"
    }
   ],
   "source": [
    "train_data.isna().sum()"
   ]
  },
  {
   "cell_type": "code",
   "execution_count": 5,
   "id": "b022262f",
   "metadata": {
    "execution": {
     "iopub.execute_input": "2025-02-01T12:30:16.575809Z",
     "iopub.status.busy": "2025-02-01T12:30:16.575446Z",
     "iopub.status.idle": "2025-02-01T12:30:16.652494Z",
     "shell.execute_reply": "2025-02-01T12:30:16.651179Z"
    },
    "papermill": {
     "duration": 0.085049,
     "end_time": "2025-02-01T12:30:16.654433",
     "exception": false,
     "start_time": "2025-02-01T12:30:16.569384",
     "status": "completed"
    },
    "tags": []
   },
   "outputs": [
    {
     "data": {
      "text/plain": [
       "id                         0\n",
       "Brand                   6227\n",
       "Material                5613\n",
       "Size                    4381\n",
       "Compartments               0\n",
       "Laptop Compartment      4962\n",
       "Waterproof              4811\n",
       "Style                   5153\n",
       "Color                   6785\n",
       "Weight Capacity (kg)      77\n",
       "dtype: int64"
      ]
     },
     "execution_count": 5,
     "metadata": {},
     "output_type": "execute_result"
    }
   ],
   "source": [
    "test_data.isna().sum()"
   ]
  },
  {
   "cell_type": "markdown",
   "id": "aa04391c",
   "metadata": {
    "papermill": {
     "duration": 0.004777,
     "end_time": "2025-02-01T12:30:16.664645",
     "exception": false,
     "start_time": "2025-02-01T12:30:16.659868",
     "status": "completed"
    },
    "tags": []
   },
   "source": [
    "# Convert to numerical"
   ]
  },
  {
   "cell_type": "code",
   "execution_count": 6,
   "id": "14930749",
   "metadata": {
    "execution": {
     "iopub.execute_input": "2025-02-01T12:30:16.677368Z",
     "iopub.status.busy": "2025-02-01T12:30:16.677010Z",
     "iopub.status.idle": "2025-02-01T12:30:17.017254Z",
     "shell.execute_reply": "2025-02-01T12:30:17.016262Z"
    },
    "papermill": {
     "duration": 0.348674,
     "end_time": "2025-02-01T12:30:17.019126",
     "exception": false,
     "start_time": "2025-02-01T12:30:16.670452",
     "status": "completed"
    },
    "tags": []
   },
   "outputs": [],
   "source": [
    "Categorical_columns = train_data.select_dtypes(include=['object', 'category']).columns\n",
    "def mapping_to_num(data, column):\n",
    "    mapping = {category: idx for idx, category in enumerate(data[column].astype('category').cat.categories)}\n",
    "    data[column] = data[column].map(mapping)\n",
    "    return data, mapping\n",
    "mappings_dict = {}\n",
    "columns_to_map = Categorical_columns\n",
    "for col in columns_to_map:\n",
    "    train_data, mapping = mapping_to_num(train_data, col)\n",
    "    mappings_dict[col] = mapping"
   ]
  },
  {
   "cell_type": "code",
   "execution_count": 7,
   "id": "73c857ac",
   "metadata": {
    "execution": {
     "iopub.execute_input": "2025-02-01T12:30:17.030730Z",
     "iopub.status.busy": "2025-02-01T12:30:17.030374Z",
     "iopub.status.idle": "2025-02-01T12:30:17.280245Z",
     "shell.execute_reply": "2025-02-01T12:30:17.279106Z"
    },
    "papermill": {
     "duration": 0.258409,
     "end_time": "2025-02-01T12:30:17.282775",
     "exception": false,
     "start_time": "2025-02-01T12:30:17.024366",
     "status": "completed"
    },
    "tags": []
   },
   "outputs": [],
   "source": [
    "for col in columns_to_map:\n",
    "    test_data, mapping = mapping_to_num(test_data, col)\n",
    "    mappings_dict[col] = mapping"
   ]
  },
  {
   "cell_type": "code",
   "execution_count": 8,
   "id": "2e703e3b",
   "metadata": {
    "execution": {
     "iopub.execute_input": "2025-02-01T12:30:17.300448Z",
     "iopub.status.busy": "2025-02-01T12:30:17.299619Z",
     "iopub.status.idle": "2025-02-01T12:30:17.319255Z",
     "shell.execute_reply": "2025-02-01T12:30:17.317257Z"
    },
    "papermill": {
     "duration": 0.0307,
     "end_time": "2025-02-01T12:30:17.321380",
     "exception": false,
     "start_time": "2025-02-01T12:30:17.290680",
     "status": "completed"
    },
    "tags": []
   },
   "outputs": [
    {
     "data": {
      "text/html": [
       "<div>\n",
       "<style scoped>\n",
       "    .dataframe tbody tr th:only-of-type {\n",
       "        vertical-align: middle;\n",
       "    }\n",
       "\n",
       "    .dataframe tbody tr th {\n",
       "        vertical-align: top;\n",
       "    }\n",
       "\n",
       "    .dataframe thead th {\n",
       "        text-align: right;\n",
       "    }\n",
       "</style>\n",
       "<table border=\"1\" class=\"dataframe\">\n",
       "  <thead>\n",
       "    <tr style=\"text-align: right;\">\n",
       "      <th></th>\n",
       "      <th>id</th>\n",
       "      <th>Brand</th>\n",
       "      <th>Material</th>\n",
       "      <th>Size</th>\n",
       "      <th>Compartments</th>\n",
       "      <th>Laptop Compartment</th>\n",
       "      <th>Waterproof</th>\n",
       "      <th>Style</th>\n",
       "      <th>Color</th>\n",
       "      <th>Weight Capacity (kg)</th>\n",
       "      <th>Price</th>\n",
       "    </tr>\n",
       "  </thead>\n",
       "  <tbody>\n",
       "    <tr>\n",
       "      <th>0</th>\n",
       "      <td>0</td>\n",
       "      <td>1.0</td>\n",
       "      <td>1.0</td>\n",
       "      <td>1.0</td>\n",
       "      <td>7.0</td>\n",
       "      <td>1.0</td>\n",
       "      <td>0.0</td>\n",
       "      <td>2.0</td>\n",
       "      <td>0.0</td>\n",
       "      <td>11.611723</td>\n",
       "      <td>112.15875</td>\n",
       "    </tr>\n",
       "    <tr>\n",
       "      <th>1</th>\n",
       "      <td>1</td>\n",
       "      <td>1.0</td>\n",
       "      <td>0.0</td>\n",
       "      <td>2.0</td>\n",
       "      <td>10.0</td>\n",
       "      <td>1.0</td>\n",
       "      <td>1.0</td>\n",
       "      <td>1.0</td>\n",
       "      <td>3.0</td>\n",
       "      <td>27.078537</td>\n",
       "      <td>68.88056</td>\n",
       "    </tr>\n",
       "    <tr>\n",
       "      <th>2</th>\n",
       "      <td>2</td>\n",
       "      <td>4.0</td>\n",
       "      <td>1.0</td>\n",
       "      <td>2.0</td>\n",
       "      <td>2.0</td>\n",
       "      <td>1.0</td>\n",
       "      <td>0.0</td>\n",
       "      <td>1.0</td>\n",
       "      <td>5.0</td>\n",
       "      <td>16.643760</td>\n",
       "      <td>39.17320</td>\n",
       "    </tr>\n",
       "  </tbody>\n",
       "</table>\n",
       "</div>"
      ],
      "text/plain": [
       "   id  Brand  Material  Size  Compartments  Laptop Compartment  Waterproof  \\\n",
       "0   0    1.0       1.0   1.0           7.0                 1.0         0.0   \n",
       "1   1    1.0       0.0   2.0          10.0                 1.0         1.0   \n",
       "2   2    4.0       1.0   2.0           2.0                 1.0         0.0   \n",
       "\n",
       "   Style  Color  Weight Capacity (kg)      Price  \n",
       "0    2.0    0.0             11.611723  112.15875  \n",
       "1    1.0    3.0             27.078537   68.88056  \n",
       "2    1.0    5.0             16.643760   39.17320  "
      ]
     },
     "execution_count": 8,
     "metadata": {},
     "output_type": "execute_result"
    }
   ],
   "source": [
    "train_data.head(3)"
   ]
  },
  {
   "cell_type": "code",
   "execution_count": 9,
   "id": "5264bc7b",
   "metadata": {
    "execution": {
     "iopub.execute_input": "2025-02-01T12:30:17.336281Z",
     "iopub.status.busy": "2025-02-01T12:30:17.335903Z",
     "iopub.status.idle": "2025-02-01T12:30:17.357511Z",
     "shell.execute_reply": "2025-02-01T12:30:17.355732Z"
    },
    "papermill": {
     "duration": 0.03086,
     "end_time": "2025-02-01T12:30:17.360028",
     "exception": false,
     "start_time": "2025-02-01T12:30:17.329168",
     "status": "completed"
    },
    "tags": []
   },
   "outputs": [
    {
     "data": {
      "text/plain": [
       "id                         0\n",
       "Brand                   9705\n",
       "Material                8347\n",
       "Size                    6595\n",
       "Compartments               0\n",
       "Laptop Compartment      7444\n",
       "Waterproof              7050\n",
       "Style                   7970\n",
       "Color                   9950\n",
       "Weight Capacity (kg)     138\n",
       "Price                      0\n",
       "dtype: int64"
      ]
     },
     "execution_count": 9,
     "metadata": {},
     "output_type": "execute_result"
    }
   ],
   "source": [
    "train_data.isna().sum()"
   ]
  },
  {
   "cell_type": "markdown",
   "id": "1fc03841",
   "metadata": {
    "papermill": {
     "duration": 0.00727,
     "end_time": "2025-02-01T12:30:17.377080",
     "exception": false,
     "start_time": "2025-02-01T12:30:17.369810",
     "status": "completed"
    },
    "tags": []
   },
   "source": [
    "# Dealing with missing data"
   ]
  },
  {
   "cell_type": "code",
   "execution_count": 10,
   "id": "bb844b1c",
   "metadata": {
    "execution": {
     "iopub.execute_input": "2025-02-01T12:30:17.390751Z",
     "iopub.status.busy": "2025-02-01T12:30:17.390355Z",
     "iopub.status.idle": "2025-02-01T12:49:30.934244Z",
     "shell.execute_reply": "2025-02-01T12:49:30.932991Z"
    },
    "papermill": {
     "duration": 1153.55346,
     "end_time": "2025-02-01T12:49:30.936358",
     "exception": false,
     "start_time": "2025-02-01T12:30:17.382898",
     "status": "completed"
    },
    "tags": []
   },
   "outputs": [],
   "source": [
    "imputer = KNNImputer(n_neighbors=5)\n",
    "train_imputed = pd.DataFrame(imputer.fit_transform(train_data), columns=train_data.columns)"
   ]
  },
  {
   "cell_type": "code",
   "execution_count": 11,
   "id": "c08a3337",
   "metadata": {
    "execution": {
     "iopub.execute_input": "2025-02-01T12:49:30.949165Z",
     "iopub.status.busy": "2025-02-01T12:49:30.948764Z",
     "iopub.status.idle": "2025-02-01T12:49:30.966842Z",
     "shell.execute_reply": "2025-02-01T12:49:30.965727Z"
    },
    "papermill": {
     "duration": 0.026124,
     "end_time": "2025-02-01T12:49:30.968420",
     "exception": false,
     "start_time": "2025-02-01T12:49:30.942296",
     "status": "completed"
    },
    "tags": []
   },
   "outputs": [
    {
     "data": {
      "text/html": [
       "<div>\n",
       "<style scoped>\n",
       "    .dataframe tbody tr th:only-of-type {\n",
       "        vertical-align: middle;\n",
       "    }\n",
       "\n",
       "    .dataframe tbody tr th {\n",
       "        vertical-align: top;\n",
       "    }\n",
       "\n",
       "    .dataframe thead th {\n",
       "        text-align: right;\n",
       "    }\n",
       "</style>\n",
       "<table border=\"1\" class=\"dataframe\">\n",
       "  <thead>\n",
       "    <tr style=\"text-align: right;\">\n",
       "      <th></th>\n",
       "      <th>id</th>\n",
       "      <th>Brand</th>\n",
       "      <th>Material</th>\n",
       "      <th>Size</th>\n",
       "      <th>Compartments</th>\n",
       "      <th>Laptop Compartment</th>\n",
       "      <th>Waterproof</th>\n",
       "      <th>Style</th>\n",
       "      <th>Color</th>\n",
       "      <th>Weight Capacity (kg)</th>\n",
       "      <th>Price</th>\n",
       "    </tr>\n",
       "  </thead>\n",
       "  <tbody>\n",
       "    <tr>\n",
       "      <th>0</th>\n",
       "      <td>0.0</td>\n",
       "      <td>1.0</td>\n",
       "      <td>1.0</td>\n",
       "      <td>1.0</td>\n",
       "      <td>7.0</td>\n",
       "      <td>1.0</td>\n",
       "      <td>0.0</td>\n",
       "      <td>2.0</td>\n",
       "      <td>0.0</td>\n",
       "      <td>11.611723</td>\n",
       "      <td>112.15875</td>\n",
       "    </tr>\n",
       "    <tr>\n",
       "      <th>1</th>\n",
       "      <td>1.0</td>\n",
       "      <td>1.0</td>\n",
       "      <td>0.0</td>\n",
       "      <td>2.0</td>\n",
       "      <td>10.0</td>\n",
       "      <td>1.0</td>\n",
       "      <td>1.0</td>\n",
       "      <td>1.0</td>\n",
       "      <td>3.0</td>\n",
       "      <td>27.078537</td>\n",
       "      <td>68.88056</td>\n",
       "    </tr>\n",
       "    <tr>\n",
       "      <th>2</th>\n",
       "      <td>2.0</td>\n",
       "      <td>4.0</td>\n",
       "      <td>1.0</td>\n",
       "      <td>2.0</td>\n",
       "      <td>2.0</td>\n",
       "      <td>1.0</td>\n",
       "      <td>0.0</td>\n",
       "      <td>1.0</td>\n",
       "      <td>5.0</td>\n",
       "      <td>16.643760</td>\n",
       "      <td>39.17320</td>\n",
       "    </tr>\n",
       "    <tr>\n",
       "      <th>3</th>\n",
       "      <td>3.0</td>\n",
       "      <td>2.0</td>\n",
       "      <td>2.0</td>\n",
       "      <td>2.0</td>\n",
       "      <td>8.0</td>\n",
       "      <td>1.0</td>\n",
       "      <td>0.0</td>\n",
       "      <td>1.0</td>\n",
       "      <td>3.0</td>\n",
       "      <td>12.937220</td>\n",
       "      <td>80.60793</td>\n",
       "    </tr>\n",
       "    <tr>\n",
       "      <th>4</th>\n",
       "      <td>4.0</td>\n",
       "      <td>0.0</td>\n",
       "      <td>0.0</td>\n",
       "      <td>1.0</td>\n",
       "      <td>1.0</td>\n",
       "      <td>1.0</td>\n",
       "      <td>1.0</td>\n",
       "      <td>1.0</td>\n",
       "      <td>3.0</td>\n",
       "      <td>17.749338</td>\n",
       "      <td>86.02312</td>\n",
       "    </tr>\n",
       "  </tbody>\n",
       "</table>\n",
       "</div>"
      ],
      "text/plain": [
       "    id  Brand  Material  Size  Compartments  Laptop Compartment  Waterproof  \\\n",
       "0  0.0    1.0       1.0   1.0           7.0                 1.0         0.0   \n",
       "1  1.0    1.0       0.0   2.0          10.0                 1.0         1.0   \n",
       "2  2.0    4.0       1.0   2.0           2.0                 1.0         0.0   \n",
       "3  3.0    2.0       2.0   2.0           8.0                 1.0         0.0   \n",
       "4  4.0    0.0       0.0   1.0           1.0                 1.0         1.0   \n",
       "\n",
       "   Style  Color  Weight Capacity (kg)      Price  \n",
       "0    2.0    0.0             11.611723  112.15875  \n",
       "1    1.0    3.0             27.078537   68.88056  \n",
       "2    1.0    5.0             16.643760   39.17320  \n",
       "3    1.0    3.0             12.937220   80.60793  \n",
       "4    1.0    3.0             17.749338   86.02312  "
      ]
     },
     "execution_count": 11,
     "metadata": {},
     "output_type": "execute_result"
    }
   ],
   "source": [
    "train_imputed.head(5)"
   ]
  },
  {
   "cell_type": "code",
   "execution_count": 12,
   "id": "2439967e",
   "metadata": {
    "execution": {
     "iopub.execute_input": "2025-02-01T12:49:30.981436Z",
     "iopub.status.busy": "2025-02-01T12:49:30.981091Z",
     "iopub.status.idle": "2025-02-01T12:49:31.000511Z",
     "shell.execute_reply": "2025-02-01T12:49:30.999318Z"
    },
    "papermill": {
     "duration": 0.028157,
     "end_time": "2025-02-01T12:49:31.002419",
     "exception": false,
     "start_time": "2025-02-01T12:49:30.974262",
     "status": "completed"
    },
    "tags": []
   },
   "outputs": [
    {
     "data": {
      "text/plain": [
       "id                      0\n",
       "Brand                   0\n",
       "Material                0\n",
       "Size                    0\n",
       "Compartments            0\n",
       "Laptop Compartment      0\n",
       "Waterproof              0\n",
       "Style                   0\n",
       "Color                   0\n",
       "Weight Capacity (kg)    0\n",
       "Price                   0\n",
       "dtype: int64"
      ]
     },
     "execution_count": 12,
     "metadata": {},
     "output_type": "execute_result"
    }
   ],
   "source": [
    "train_imputed.isna().sum()"
   ]
  },
  {
   "cell_type": "code",
   "execution_count": 13,
   "id": "dd2db8f8",
   "metadata": {
    "execution": {
     "iopub.execute_input": "2025-02-01T12:49:31.015156Z",
     "iopub.status.busy": "2025-02-01T12:49:31.014753Z",
     "iopub.status.idle": "2025-02-01T12:57:43.665202Z",
     "shell.execute_reply": "2025-02-01T12:57:43.663851Z"
    },
    "papermill": {
     "duration": 492.659331,
     "end_time": "2025-02-01T12:57:43.667526",
     "exception": false,
     "start_time": "2025-02-01T12:49:31.008195",
     "status": "completed"
    },
    "tags": []
   },
   "outputs": [],
   "source": [
    "test_imputed = pd.DataFrame(imputer.fit_transform(test_data), columns=test_data.columns)"
   ]
  },
  {
   "cell_type": "code",
   "execution_count": 14,
   "id": "f0c76105",
   "metadata": {
    "execution": {
     "iopub.execute_input": "2025-02-01T12:57:43.681494Z",
     "iopub.status.busy": "2025-02-01T12:57:43.681132Z",
     "iopub.status.idle": "2025-02-01T12:57:43.696631Z",
     "shell.execute_reply": "2025-02-01T12:57:43.695471Z"
    },
    "papermill": {
     "duration": 0.024777,
     "end_time": "2025-02-01T12:57:43.698544",
     "exception": false,
     "start_time": "2025-02-01T12:57:43.673767",
     "status": "completed"
    },
    "tags": []
   },
   "outputs": [
    {
     "data": {
      "text/plain": [
       "id                      0\n",
       "Brand                   0\n",
       "Material                0\n",
       "Size                    0\n",
       "Compartments            0\n",
       "Laptop Compartment      0\n",
       "Waterproof              0\n",
       "Style                   0\n",
       "Color                   0\n",
       "Weight Capacity (kg)    0\n",
       "dtype: int64"
      ]
     },
     "execution_count": 14,
     "metadata": {},
     "output_type": "execute_result"
    }
   ],
   "source": [
    "test_imputed.isna().sum()"
   ]
  },
  {
   "cell_type": "code",
   "execution_count": 15,
   "id": "d8456610",
   "metadata": {
    "execution": {
     "iopub.execute_input": "2025-02-01T12:57:43.712141Z",
     "iopub.status.busy": "2025-02-01T12:57:43.711652Z",
     "iopub.status.idle": "2025-02-01T12:57:43.761307Z",
     "shell.execute_reply": "2025-02-01T12:57:43.760176Z"
    },
    "papermill": {
     "duration": 0.058457,
     "end_time": "2025-02-01T12:57:43.763311",
     "exception": false,
     "start_time": "2025-02-01T12:57:43.704854",
     "status": "completed"
    },
    "tags": []
   },
   "outputs": [],
   "source": [
    "X = train_imputed.drop('Price', axis=1)\n",
    "y = train_imputed['Price']\n",
    "\n",
    "X_train, X_test, y_train, y_test = train_test_split(X, y, test_size=0.2, random_state=42)"
   ]
  },
  {
   "cell_type": "code",
   "execution_count": 16,
   "id": "03445891",
   "metadata": {
    "execution": {
     "iopub.execute_input": "2025-02-01T12:57:43.776573Z",
     "iopub.status.busy": "2025-02-01T12:57:43.776158Z",
     "iopub.status.idle": "2025-02-01T13:01:39.068158Z",
     "shell.execute_reply": "2025-02-01T13:01:39.066979Z"
    },
    "papermill": {
     "duration": 235.305008,
     "end_time": "2025-02-01T13:01:39.074308",
     "exception": false,
     "start_time": "2025-02-01T12:57:43.769300",
     "status": "completed"
    },
    "tags": []
   },
   "outputs": [
    {
     "name": "stdout",
     "output_type": "stream",
     "text": [
      "Mean Squared Error: 1565.8570850400617\n"
     ]
    }
   ],
   "source": [
    "model = RandomForestRegressor(n_estimators=100, random_state=42)\n",
    "\n",
    "# Train the model\n",
    "model.fit(X_train, y_train)\n",
    "\n",
    "# Making predictions\n",
    "y_pred = model.predict(X_test)\n",
    "\n",
    "# Evaluating the model\n",
    "mse = mean_squared_error(y_test, y_pred)\n",
    "print(f'Mean Squared Error: {mse}')"
   ]
  },
  {
   "cell_type": "code",
   "execution_count": 17,
   "id": "fbe0fbfa",
   "metadata": {
    "execution": {
     "iopub.execute_input": "2025-02-01T13:01:39.087686Z",
     "iopub.status.busy": "2025-02-01T13:01:39.087312Z",
     "iopub.status.idle": "2025-02-01T13:01:42.697546Z",
     "shell.execute_reply": "2025-02-01T13:01:42.696340Z"
    },
    "papermill": {
     "duration": 3.619388,
     "end_time": "2025-02-01T13:01:42.699639",
     "exception": false,
     "start_time": "2025-02-01T13:01:39.080251",
     "status": "completed"
    },
    "tags": []
   },
   "outputs": [],
   "source": [
    "prediction = model.predict(test_imputed)"
   ]
  },
  {
   "cell_type": "code",
   "execution_count": 18,
   "id": "42cec4c0",
   "metadata": {
    "execution": {
     "iopub.execute_input": "2025-02-01T13:01:42.712940Z",
     "iopub.status.busy": "2025-02-01T13:01:42.712544Z",
     "iopub.status.idle": "2025-02-01T13:01:43.096063Z",
     "shell.execute_reply": "2025-02-01T13:01:43.094981Z"
    },
    "papermill": {
     "duration": 0.392215,
     "end_time": "2025-02-01T13:01:43.098061",
     "exception": false,
     "start_time": "2025-02-01T13:01:42.705846",
     "status": "completed"
    },
    "tags": []
   },
   "outputs": [],
   "source": [
    "sam_data['Price']= prediction\n",
    "sam_data['id'] = test_data['id']\n",
    "sam_data.to_csv('submission.csv',index=False)"
   ]
  },
  {
   "cell_type": "code",
   "execution_count": 19,
   "id": "e878458d",
   "metadata": {
    "execution": {
     "iopub.execute_input": "2025-02-01T13:01:43.111338Z",
     "iopub.status.busy": "2025-02-01T13:01:43.110976Z",
     "iopub.status.idle": "2025-02-01T13:01:43.120263Z",
     "shell.execute_reply": "2025-02-01T13:01:43.119125Z"
    },
    "papermill": {
     "duration": 0.01786,
     "end_time": "2025-02-01T13:01:43.122099",
     "exception": false,
     "start_time": "2025-02-01T13:01:43.104239",
     "status": "completed"
    },
    "tags": []
   },
   "outputs": [
    {
     "data": {
      "text/html": [
       "<div>\n",
       "<style scoped>\n",
       "    .dataframe tbody tr th:only-of-type {\n",
       "        vertical-align: middle;\n",
       "    }\n",
       "\n",
       "    .dataframe tbody tr th {\n",
       "        vertical-align: top;\n",
       "    }\n",
       "\n",
       "    .dataframe thead th {\n",
       "        text-align: right;\n",
       "    }\n",
       "</style>\n",
       "<table border=\"1\" class=\"dataframe\">\n",
       "  <thead>\n",
       "    <tr style=\"text-align: right;\">\n",
       "      <th></th>\n",
       "      <th>id</th>\n",
       "      <th>Price</th>\n",
       "    </tr>\n",
       "  </thead>\n",
       "  <tbody>\n",
       "    <tr>\n",
       "      <th>0</th>\n",
       "      <td>300000</td>\n",
       "      <td>81.333069</td>\n",
       "    </tr>\n",
       "    <tr>\n",
       "      <th>1</th>\n",
       "      <td>300001</td>\n",
       "      <td>86.222404</td>\n",
       "    </tr>\n",
       "    <tr>\n",
       "      <th>2</th>\n",
       "      <td>300002</td>\n",
       "      <td>80.258693</td>\n",
       "    </tr>\n",
       "    <tr>\n",
       "      <th>3</th>\n",
       "      <td>300003</td>\n",
       "      <td>79.886188</td>\n",
       "    </tr>\n",
       "    <tr>\n",
       "      <th>4</th>\n",
       "      <td>300004</td>\n",
       "      <td>72.951912</td>\n",
       "    </tr>\n",
       "  </tbody>\n",
       "</table>\n",
       "</div>"
      ],
      "text/plain": [
       "       id      Price\n",
       "0  300000  81.333069\n",
       "1  300001  86.222404\n",
       "2  300002  80.258693\n",
       "3  300003  79.886188\n",
       "4  300004  72.951912"
      ]
     },
     "execution_count": 19,
     "metadata": {},
     "output_type": "execute_result"
    }
   ],
   "source": [
    "sam_data.head()"
   ]
  }
 ],
 "metadata": {
  "kaggle": {
   "accelerator": "none",
   "dataSources": [
    {
     "databundleVersionId": 10951356,
     "sourceId": 90274,
     "sourceType": "competition"
    }
   ],
   "dockerImageVersionId": 30839,
   "isGpuEnabled": false,
   "isInternetEnabled": true,
   "language": "python",
   "sourceType": "notebook"
  },
  "kernelspec": {
   "display_name": "Python 3",
   "language": "python",
   "name": "python3"
  },
  "language_info": {
   "codemirror_mode": {
    "name": "ipython",
    "version": 3
   },
   "file_extension": ".py",
   "mimetype": "text/x-python",
   "name": "python",
   "nbconvert_exporter": "python",
   "pygments_lexer": "ipython3",
   "version": "3.10.12"
  },
  "papermill": {
   "default_parameters": {},
   "duration": 1894.572348,
   "end_time": "2025-02-01T13:01:44.054776",
   "environment_variables": {},
   "exception": null,
   "input_path": "__notebook__.ipynb",
   "output_path": "__notebook__.ipynb",
   "parameters": {},
   "start_time": "2025-02-01T12:30:09.482428",
   "version": "2.6.0"
  }
 },
 "nbformat": 4,
 "nbformat_minor": 5
}
