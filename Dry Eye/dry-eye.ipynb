{
 "cells": [
  {
   "cell_type": "code",
   "execution_count": 1,
   "id": "d7645f6d",
   "metadata": {
    "_cell_guid": "b1076dfc-b9ad-4769-8c92-a6c4dae69d19",
    "_uuid": "8f2839f25d086af736a60e9eeb907d3b93b6e0e5",
    "execution": {
     "iopub.execute_input": "2025-02-17T19:04:13.581986Z",
     "iopub.status.busy": "2025-02-17T19:04:13.581615Z",
     "iopub.status.idle": "2025-02-17T19:04:16.857482Z",
     "shell.execute_reply": "2025-02-17T19:04:16.856315Z"
    },
    "papermill": {
     "duration": 3.282702,
     "end_time": "2025-02-17T19:04:16.859605",
     "exception": false,
     "start_time": "2025-02-17T19:04:13.576903",
     "status": "completed"
    },
    "tags": []
   },
   "outputs": [],
   "source": [
    "import numpy as np # linear algebra\n",
    "import pandas as pd # data processing, CSV file I/O (e.g. pd.read_csv)\n",
    "import matplotlib.pyplot as plt\n",
    "import seaborn as sns\n",
    "from sklearn.model_selection import train_test_split\n",
    "from sklearn.metrics import accuracy_score, classification_report, confusion_matrix, ConfusionMatrixDisplay\n",
    "from sklearn.ensemble import GradientBoostingClassifier"
   ]
  },
  {
   "cell_type": "code",
   "execution_count": 2,
   "id": "48580e58",
   "metadata": {
    "execution": {
     "iopub.execute_input": "2025-02-17T19:04:16.868295Z",
     "iopub.status.busy": "2025-02-17T19:04:16.867688Z",
     "iopub.status.idle": "2025-02-17T19:04:16.974276Z",
     "shell.execute_reply": "2025-02-17T19:04:16.973337Z"
    },
    "papermill": {
     "duration": 0.112609,
     "end_time": "2025-02-17T19:04:16.976090",
     "exception": false,
     "start_time": "2025-02-17T19:04:16.863481",
     "status": "completed"
    },
    "tags": []
   },
   "outputs": [],
   "source": [
    "data = pd.read_csv('/kaggle/input/dry-eye-disease/Dry_Eye_Dataset.csv')"
   ]
  },
  {
   "cell_type": "code",
   "execution_count": 3,
   "id": "90225848",
   "metadata": {
    "execution": {
     "iopub.execute_input": "2025-02-17T19:04:16.983605Z",
     "iopub.status.busy": "2025-02-17T19:04:16.983278Z",
     "iopub.status.idle": "2025-02-17T19:04:17.025522Z",
     "shell.execute_reply": "2025-02-17T19:04:17.024350Z"
    },
    "papermill": {
     "duration": 0.047846,
     "end_time": "2025-02-17T19:04:17.027280",
     "exception": false,
     "start_time": "2025-02-17T19:04:16.979434",
     "status": "completed"
    },
    "tags": []
   },
   "outputs": [
    {
     "data": {
      "text/html": [
       "<div>\n",
       "<style scoped>\n",
       "    .dataframe tbody tr th:only-of-type {\n",
       "        vertical-align: middle;\n",
       "    }\n",
       "\n",
       "    .dataframe tbody tr th {\n",
       "        vertical-align: top;\n",
       "    }\n",
       "\n",
       "    .dataframe thead th {\n",
       "        text-align: right;\n",
       "    }\n",
       "</style>\n",
       "<table border=\"1\" class=\"dataframe\">\n",
       "  <thead>\n",
       "    <tr style=\"text-align: right;\">\n",
       "      <th></th>\n",
       "      <th>Gender</th>\n",
       "      <th>Age</th>\n",
       "      <th>Sleep duration</th>\n",
       "      <th>Sleep quality</th>\n",
       "      <th>Stress level</th>\n",
       "      <th>Blood pressure</th>\n",
       "      <th>Heart rate</th>\n",
       "      <th>Daily steps</th>\n",
       "      <th>Physical activity</th>\n",
       "      <th>Height</th>\n",
       "      <th>...</th>\n",
       "      <th>Smoking</th>\n",
       "      <th>Medical issue</th>\n",
       "      <th>Ongoing medication</th>\n",
       "      <th>Smart device before bed</th>\n",
       "      <th>Average screen time</th>\n",
       "      <th>Blue-light filter</th>\n",
       "      <th>Discomfort Eye-strain</th>\n",
       "      <th>Redness in eye</th>\n",
       "      <th>Itchiness/Irritation in eye</th>\n",
       "      <th>Dry Eye Disease</th>\n",
       "    </tr>\n",
       "  </thead>\n",
       "  <tbody>\n",
       "    <tr>\n",
       "      <th>0</th>\n",
       "      <td>F</td>\n",
       "      <td>24</td>\n",
       "      <td>9.5</td>\n",
       "      <td>2</td>\n",
       "      <td>1</td>\n",
       "      <td>137/89</td>\n",
       "      <td>67</td>\n",
       "      <td>3000</td>\n",
       "      <td>31</td>\n",
       "      <td>161</td>\n",
       "      <td>...</td>\n",
       "      <td>N</td>\n",
       "      <td>Y</td>\n",
       "      <td>Y</td>\n",
       "      <td>N</td>\n",
       "      <td>8.7</td>\n",
       "      <td>N</td>\n",
       "      <td>Y</td>\n",
       "      <td>Y</td>\n",
       "      <td>N</td>\n",
       "      <td>Y</td>\n",
       "    </tr>\n",
       "    <tr>\n",
       "      <th>1</th>\n",
       "      <td>M</td>\n",
       "      <td>39</td>\n",
       "      <td>9.6</td>\n",
       "      <td>2</td>\n",
       "      <td>3</td>\n",
       "      <td>108/64</td>\n",
       "      <td>60</td>\n",
       "      <td>12000</td>\n",
       "      <td>74</td>\n",
       "      <td>164</td>\n",
       "      <td>...</td>\n",
       "      <td>N</td>\n",
       "      <td>Y</td>\n",
       "      <td>Y</td>\n",
       "      <td>N</td>\n",
       "      <td>9.6</td>\n",
       "      <td>Y</td>\n",
       "      <td>N</td>\n",
       "      <td>N</td>\n",
       "      <td>Y</td>\n",
       "      <td>Y</td>\n",
       "    </tr>\n",
       "    <tr>\n",
       "      <th>2</th>\n",
       "      <td>F</td>\n",
       "      <td>45</td>\n",
       "      <td>5.4</td>\n",
       "      <td>1</td>\n",
       "      <td>5</td>\n",
       "      <td>134/81</td>\n",
       "      <td>95</td>\n",
       "      <td>12000</td>\n",
       "      <td>93</td>\n",
       "      <td>179</td>\n",
       "      <td>...</td>\n",
       "      <td>N</td>\n",
       "      <td>N</td>\n",
       "      <td>N</td>\n",
       "      <td>Y</td>\n",
       "      <td>4.0</td>\n",
       "      <td>N</td>\n",
       "      <td>Y</td>\n",
       "      <td>N</td>\n",
       "      <td>N</td>\n",
       "      <td>N</td>\n",
       "    </tr>\n",
       "  </tbody>\n",
       "</table>\n",
       "<p>3 rows × 26 columns</p>\n",
       "</div>"
      ],
      "text/plain": [
       "  Gender  Age  Sleep duration  Sleep quality  Stress level Blood pressure  \\\n",
       "0      F   24             9.5              2             1         137/89   \n",
       "1      M   39             9.6              2             3         108/64   \n",
       "2      F   45             5.4              1             5         134/81   \n",
       "\n",
       "   Heart rate  Daily steps  Physical activity  Height  ...  Smoking  \\\n",
       "0          67         3000                 31     161  ...        N   \n",
       "1          60        12000                 74     164  ...        N   \n",
       "2          95        12000                 93     179  ...        N   \n",
       "\n",
       "  Medical issue Ongoing medication Smart device before bed  \\\n",
       "0             Y                  Y                       N   \n",
       "1             Y                  Y                       N   \n",
       "2             N                  N                       Y   \n",
       "\n",
       "  Average screen time Blue-light filter Discomfort Eye-strain Redness in eye  \\\n",
       "0                 8.7                 N                     Y              Y   \n",
       "1                 9.6                 Y                     N              N   \n",
       "2                 4.0                 N                     Y              N   \n",
       "\n",
       "  Itchiness/Irritation in eye Dry Eye Disease  \n",
       "0                           N               Y  \n",
       "1                           Y               Y  \n",
       "2                           N               N  \n",
       "\n",
       "[3 rows x 26 columns]"
      ]
     },
     "execution_count": 3,
     "metadata": {},
     "output_type": "execute_result"
    }
   ],
   "source": [
    "data.head(3)"
   ]
  },
  {
   "cell_type": "code",
   "execution_count": 4,
   "id": "d11024d2",
   "metadata": {
    "execution": {
     "iopub.execute_input": "2025-02-17T19:04:17.035660Z",
     "iopub.status.busy": "2025-02-17T19:04:17.035323Z",
     "iopub.status.idle": "2025-02-17T19:04:17.059978Z",
     "shell.execute_reply": "2025-02-17T19:04:17.058959Z"
    },
    "papermill": {
     "duration": 0.030514,
     "end_time": "2025-02-17T19:04:17.061518",
     "exception": false,
     "start_time": "2025-02-17T19:04:17.031004",
     "status": "completed"
    },
    "tags": []
   },
   "outputs": [
    {
     "data": {
      "text/plain": [
       "Gender                         0\n",
       "Age                            0\n",
       "Sleep duration                 0\n",
       "Sleep quality                  0\n",
       "Stress level                   0\n",
       "Blood pressure                 0\n",
       "Heart rate                     0\n",
       "Daily steps                    0\n",
       "Physical activity              0\n",
       "Height                         0\n",
       "Weight                         0\n",
       "Sleep disorder                 0\n",
       "Wake up during night           0\n",
       "Feel sleepy during day         0\n",
       "Caffeine consumption           0\n",
       "Alcohol consumption            0\n",
       "Smoking                        0\n",
       "Medical issue                  0\n",
       "Ongoing medication             0\n",
       "Smart device before bed        0\n",
       "Average screen time            0\n",
       "Blue-light filter              0\n",
       "Discomfort Eye-strain          0\n",
       "Redness in eye                 0\n",
       "Itchiness/Irritation in eye    0\n",
       "Dry Eye Disease                0\n",
       "dtype: int64"
      ]
     },
     "execution_count": 4,
     "metadata": {},
     "output_type": "execute_result"
    }
   ],
   "source": [
    "data.isna().sum()"
   ]
  },
  {
   "cell_type": "code",
   "execution_count": 5,
   "id": "cfa9299f",
   "metadata": {
    "execution": {
     "iopub.execute_input": "2025-02-17T19:04:17.070075Z",
     "iopub.status.busy": "2025-02-17T19:04:17.069689Z",
     "iopub.status.idle": "2025-02-17T19:04:17.075976Z",
     "shell.execute_reply": "2025-02-17T19:04:17.075035Z"
    },
    "papermill": {
     "duration": 0.012396,
     "end_time": "2025-02-17T19:04:17.077576",
     "exception": false,
     "start_time": "2025-02-17T19:04:17.065180",
     "status": "completed"
    },
    "tags": []
   },
   "outputs": [],
   "source": [
    "Categorical_columns = data.select_dtypes(include=['object', 'category']).columns"
   ]
  },
  {
   "cell_type": "code",
   "execution_count": 6,
   "id": "6b2c1ce8",
   "metadata": {
    "execution": {
     "iopub.execute_input": "2025-02-17T19:04:17.086263Z",
     "iopub.status.busy": "2025-02-17T19:04:17.085853Z",
     "iopub.status.idle": "2025-02-17T19:04:17.090706Z",
     "shell.execute_reply": "2025-02-17T19:04:17.089803Z"
    },
    "papermill": {
     "duration": 0.010983,
     "end_time": "2025-02-17T19:04:17.092307",
     "exception": false,
     "start_time": "2025-02-17T19:04:17.081324",
     "status": "completed"
    },
    "tags": []
   },
   "outputs": [],
   "source": [
    "def mapping_to_num(data, column):\n",
    "    mapping = {category: idx for idx, category in enumerate(data[column].astype('category').cat.categories)}\n",
    "    data[column] = data[column].map(mapping)\n",
    "    return data, mapping"
   ]
  },
  {
   "cell_type": "code",
   "execution_count": 7,
   "id": "582edf5e",
   "metadata": {
    "execution": {
     "iopub.execute_input": "2025-02-17T19:04:17.100696Z",
     "iopub.status.busy": "2025-02-17T19:04:17.100380Z",
     "iopub.status.idle": "2025-02-17T19:04:17.155094Z",
     "shell.execute_reply": "2025-02-17T19:04:17.154167Z"
    },
    "papermill": {
     "duration": 0.061,
     "end_time": "2025-02-17T19:04:17.156990",
     "exception": false,
     "start_time": "2025-02-17T19:04:17.095990",
     "status": "completed"
    },
    "tags": []
   },
   "outputs": [],
   "source": [
    "mappings_dict = {}\n",
    "columns_to_map = Categorical_columns\n",
    "for col in columns_to_map:\n",
    "    data, mapping = mapping_to_num(data, col)\n",
    "    mappings_dict[col] = mapping"
   ]
  },
  {
   "cell_type": "code",
   "execution_count": 8,
   "id": "6b9e79d8",
   "metadata": {
    "execution": {
     "iopub.execute_input": "2025-02-17T19:04:17.165514Z",
     "iopub.status.busy": "2025-02-17T19:04:17.165190Z",
     "iopub.status.idle": "2025-02-17T19:04:17.171727Z",
     "shell.execute_reply": "2025-02-17T19:04:17.170845Z"
    },
    "papermill": {
     "duration": 0.012567,
     "end_time": "2025-02-17T19:04:17.173296",
     "exception": false,
     "start_time": "2025-02-17T19:04:17.160729",
     "status": "completed"
    },
    "tags": []
   },
   "outputs": [],
   "source": [
    "X = data.drop(columns=['Dry Eye Disease'])\n",
    "y = data['Dry Eye Disease']"
   ]
  },
  {
   "cell_type": "code",
   "execution_count": 9,
   "id": "25c47a14",
   "metadata": {
    "execution": {
     "iopub.execute_input": "2025-02-17T19:04:17.181753Z",
     "iopub.status.busy": "2025-02-17T19:04:17.181427Z",
     "iopub.status.idle": "2025-02-17T19:04:17.194748Z",
     "shell.execute_reply": "2025-02-17T19:04:17.193669Z"
    },
    "papermill": {
     "duration": 0.019783,
     "end_time": "2025-02-17T19:04:17.196867",
     "exception": false,
     "start_time": "2025-02-17T19:04:17.177084",
     "status": "completed"
    },
    "tags": []
   },
   "outputs": [],
   "source": [
    "X_train, X_test, y_train, y_test = train_test_split(X, y, test_size=0.3, random_state=42)"
   ]
  },
  {
   "cell_type": "code",
   "execution_count": 10,
   "id": "0b7d599b",
   "metadata": {
    "execution": {
     "iopub.execute_input": "2025-02-17T19:04:17.205262Z",
     "iopub.status.busy": "2025-02-17T19:04:17.204939Z",
     "iopub.status.idle": "2025-02-17T19:12:07.762396Z",
     "shell.execute_reply": "2025-02-17T19:12:07.761300Z"
    },
    "papermill": {
     "duration": 470.56394,
     "end_time": "2025-02-17T19:12:07.764512",
     "exception": false,
     "start_time": "2025-02-17T19:04:17.200572",
     "status": "completed"
    },
    "tags": []
   },
   "outputs": [],
   "source": [
    "gbm_model = GradientBoostingClassifier(n_estimators=10000, learning_rate=0.01, max_depth=80, random_state=42)\n",
    "gbm_model.fit(X_train, y_train)\n",
    "\n",
    "y_pred = gbm_model.predict(X_test)"
   ]
  },
  {
   "cell_type": "code",
   "execution_count": 11,
   "id": "20a7485f",
   "metadata": {
    "execution": {
     "iopub.execute_input": "2025-02-17T19:12:07.773413Z",
     "iopub.status.busy": "2025-02-17T19:12:07.773082Z",
     "iopub.status.idle": "2025-02-17T19:12:07.795459Z",
     "shell.execute_reply": "2025-02-17T19:12:07.794045Z"
    },
    "papermill": {
     "duration": 0.028894,
     "end_time": "2025-02-17T19:12:07.797515",
     "exception": false,
     "start_time": "2025-02-17T19:12:07.768621",
     "status": "completed"
    },
    "tags": []
   },
   "outputs": [
    {
     "name": "stdout",
     "output_type": "stream",
     "text": [
      "Classification Report:\n",
      "              precision    recall  f1-score   support\n",
      "\n",
      "           0       0.37      0.39      0.38      1986\n",
      "           1       0.69      0.67      0.68      4014\n",
      "\n",
      "    accuracy                           0.58      6000\n",
      "   macro avg       0.53      0.53      0.53      6000\n",
      "weighted avg       0.58      0.58      0.58      6000\n",
      "\n"
     ]
    }
   ],
   "source": [
    "print(\"Classification Report:\")\n",
    "print(classification_report(y_test, y_pred))"
   ]
  },
  {
   "cell_type": "code",
   "execution_count": 12,
   "id": "a6e3abfc",
   "metadata": {
    "execution": {
     "iopub.execute_input": "2025-02-17T19:12:07.806060Z",
     "iopub.status.busy": "2025-02-17T19:12:07.805680Z",
     "iopub.status.idle": "2025-02-17T19:12:08.106292Z",
     "shell.execute_reply": "2025-02-17T19:12:08.104967Z"
    },
    "papermill": {
     "duration": 0.306938,
     "end_time": "2025-02-17T19:12:08.108166",
     "exception": false,
     "start_time": "2025-02-17T19:12:07.801228",
     "status": "completed"
    },
    "tags": []
   },
   "outputs": [
    {
     "data": {
      "image/png": "[encoded data removed]",
      "text/plain": [
       "<Figure size 640x480 with 2 Axes>"
      ]
     },
     "metadata": {},
     "output_type": "display_data"
    }
   ],
   "source": [
    "sns.heatmap(confusion_matrix(y_test, y_pred), annot=True, fmt='d')\n",
    "plt.title('Confusion Matrix')\n",
    "plt.xlabel('Predicted')\n",
    "plt.ylabel('Actual')\n",
    "plt.show()"
   ]
  }
 ],
 "metadata": {
  "kaggle": {
   "accelerator": "none",
   "dataSources": [
    {
     "datasetId": 6660578,
     "sourceId": 10741021,
     "sourceType": "datasetVersion"
    }
   ],
   "dockerImageVersionId": 30886,
   "isGpuEnabled": false,
   "isInternetEnabled": true,
   "language": "python",
   "sourceType": "notebook"
  },
  "kernelspec": {
   "display_name": "Python 3",
   "language": "python",
   "name": "python3"
  },
  "language_info": {
   "codemirror_mode": {
    "name": "ipython",
    "version": 3
   },
   "file_extension": ".py",
   "mimetype": "text/x-python",
   "name": "python",
   "nbconvert_exporter": "python",
   "pygments_lexer": "ipython3",
   "version": "3.10.12"
  },
  "papermill": {
   "default_parameters": {},
   "duration": 478.114661,
   "end_time": "2025-02-17T19:12:08.934613",
   "environment_variables": {},
   "exception": null,
   "input_path": "__notebook__.ipynb",
   "output_path": "__notebook__.ipynb",
   "parameters": {},
   "start_time": "2025-02-17T19:04:10.819952",
   "version": "2.6.0"
  }
 },
 "nbformat": 4,
 "nbformat_minor": 5
}
