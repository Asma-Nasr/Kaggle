{
 "cells": [
  {
   "cell_type": "markdown",
   "id": "c0cd5181",
   "metadata": {
    "papermill": {
     "duration": 0.006198,
     "end_time": "2025-01-31T21:04:37.563996",
     "exception": false,
     "start_time": "2025-01-31T21:04:37.557798",
     "status": "completed"
    },
    "tags": []
   },
   "source": [
    "# Impoting libraries"
   ]
  },
  {
   "cell_type": "code",
   "execution_count": 1,
   "id": "5fd81788",
   "metadata": {
    "_cell_guid": "b1076dfc-b9ad-4769-8c92-a6c4dae69d19",
    "_uuid": "8f2839f25d086af736a60e9eeb907d3b93b6e0e5",
    "execution": {
     "iopub.execute_input": "2025-01-31T21:04:37.576364Z",
     "iopub.status.busy": "2025-01-31T21:04:37.575943Z",
     "iopub.status.idle": "2025-01-31T21:04:40.971963Z",
     "shell.execute_reply": "2025-01-31T21:04:40.970704Z"
    },
    "papermill": {
     "duration": 3.404469,
     "end_time": "2025-01-31T21:04:40.974067",
     "exception": false,
     "start_time": "2025-01-31T21:04:37.569598",
     "status": "completed"
    },
    "tags": []
   },
   "outputs": [],
   "source": [
    "import numpy as np # linear algebra\n",
    "import pandas as pd # data processing, CSV file I/O (e.g. pd.read_csv)\n",
    "from sklearn.model_selection import train_test_split\n",
    "from sklearn.tree import DecisionTreeClassifier\n",
    "from sklearn.metrics import accuracy_score, classification_report, confusion_matrix, ConfusionMatrixDisplay\n",
    "import matplotlib.pyplot as plt\n",
    "import seaborn as sns\n",
    "from sklearn.ensemble import GradientBoostingClassifier"
   ]
  },
  {
   "cell_type": "markdown",
   "id": "91f841a6",
   "metadata": {
    "papermill": {
     "duration": 0.005154,
     "end_time": "2025-01-31T21:04:40.984958",
     "exception": false,
     "start_time": "2025-01-31T21:04:40.979804",
     "status": "completed"
    },
    "tags": []
   },
   "source": [
    "# Loading the data"
   ]
  },
  {
   "cell_type": "code",
   "execution_count": 2,
   "id": "5588938b",
   "metadata": {
    "execution": {
     "iopub.execute_input": "2025-01-31T21:04:40.997116Z",
     "iopub.status.busy": "2025-01-31T21:04:40.996581Z",
     "iopub.status.idle": "2025-01-31T21:04:41.424319Z",
     "shell.execute_reply": "2025-01-31T21:04:41.423235Z"
    },
    "papermill": {
     "duration": 0.436072,
     "end_time": "2025-01-31T21:04:41.426366",
     "exception": false,
     "start_time": "2025-01-31T21:04:40.990294",
     "status": "completed"
    },
    "tags": []
   },
   "outputs": [],
   "source": [
    "data = pd.read_csv('/kaggle/input/alzheimers-prediction-dataset-global/alzheimers_prediction_dataset.csv')"
   ]
  },
  {
   "cell_type": "code",
   "execution_count": 3,
   "id": "e670e1dc",
   "metadata": {
    "execution": {
     "iopub.execute_input": "2025-01-31T21:04:41.438583Z",
     "iopub.status.busy": "2025-01-31T21:04:41.438226Z",
     "iopub.status.idle": "2025-01-31T21:04:41.478050Z",
     "shell.execute_reply": "2025-01-31T21:04:41.476885Z"
    },
    "papermill": {
     "duration": 0.047743,
     "end_time": "2025-01-31T21:04:41.479798",
     "exception": false,
     "start_time": "2025-01-31T21:04:41.432055",
     "status": "completed"
    },
    "tags": []
   },
   "outputs": [
    {
     "data": {
      "text/html": [
       "<div>\n",
       "<style scoped>\n",
       "    .dataframe tbody tr th:only-of-type {\n",
       "        vertical-align: middle;\n",
       "    }\n",
       "\n",
       "    .dataframe tbody tr th {\n",
       "        vertical-align: top;\n",
       "    }\n",
       "\n",
       "    .dataframe thead th {\n",
       "        text-align: right;\n",
       "    }\n",
       "</style>\n",
       "<table border=\"1\" class=\"dataframe\">\n",
       "  <thead>\n",
       "    <tr style=\"text-align: right;\">\n",
       "      <th></th>\n",
       "      <th>Country</th>\n",
       "      <th>Age</th>\n",
       "      <th>Gender</th>\n",
       "      <th>Education Level</th>\n",
       "      <th>BMI</th>\n",
       "      <th>Physical Activity Level</th>\n",
       "      <th>Smoking Status</th>\n",
       "      <th>Alcohol Consumption</th>\n",
       "      <th>Diabetes</th>\n",
       "      <th>Hypertension</th>\n",
       "      <th>...</th>\n",
       "      <th>Dietary Habits</th>\n",
       "      <th>Air Pollution Exposure</th>\n",
       "      <th>Employment Status</th>\n",
       "      <th>Marital Status</th>\n",
       "      <th>Genetic Risk Factor (APOE-ε4 allele)</th>\n",
       "      <th>Social Engagement Level</th>\n",
       "      <th>Income Level</th>\n",
       "      <th>Stress Levels</th>\n",
       "      <th>Urban vs Rural Living</th>\n",
       "      <th>Alzheimer’s Diagnosis</th>\n",
       "    </tr>\n",
       "  </thead>\n",
       "  <tbody>\n",
       "    <tr>\n",
       "      <th>0</th>\n",
       "      <td>Spain</td>\n",
       "      <td>90</td>\n",
       "      <td>Male</td>\n",
       "      <td>1</td>\n",
       "      <td>33.0</td>\n",
       "      <td>Medium</td>\n",
       "      <td>Never</td>\n",
       "      <td>Occasionally</td>\n",
       "      <td>No</td>\n",
       "      <td>No</td>\n",
       "      <td>...</td>\n",
       "      <td>Healthy</td>\n",
       "      <td>High</td>\n",
       "      <td>Retired</td>\n",
       "      <td>Single</td>\n",
       "      <td>No</td>\n",
       "      <td>Low</td>\n",
       "      <td>Medium</td>\n",
       "      <td>High</td>\n",
       "      <td>Urban</td>\n",
       "      <td>No</td>\n",
       "    </tr>\n",
       "    <tr>\n",
       "      <th>1</th>\n",
       "      <td>Argentina</td>\n",
       "      <td>72</td>\n",
       "      <td>Male</td>\n",
       "      <td>7</td>\n",
       "      <td>29.9</td>\n",
       "      <td>Medium</td>\n",
       "      <td>Former</td>\n",
       "      <td>Never</td>\n",
       "      <td>No</td>\n",
       "      <td>No</td>\n",
       "      <td>...</td>\n",
       "      <td>Healthy</td>\n",
       "      <td>Medium</td>\n",
       "      <td>Unemployed</td>\n",
       "      <td>Widowed</td>\n",
       "      <td>No</td>\n",
       "      <td>High</td>\n",
       "      <td>Low</td>\n",
       "      <td>High</td>\n",
       "      <td>Urban</td>\n",
       "      <td>No</td>\n",
       "    </tr>\n",
       "    <tr>\n",
       "      <th>2</th>\n",
       "      <td>South Africa</td>\n",
       "      <td>86</td>\n",
       "      <td>Female</td>\n",
       "      <td>19</td>\n",
       "      <td>22.9</td>\n",
       "      <td>High</td>\n",
       "      <td>Current</td>\n",
       "      <td>Occasionally</td>\n",
       "      <td>No</td>\n",
       "      <td>Yes</td>\n",
       "      <td>...</td>\n",
       "      <td>Average</td>\n",
       "      <td>Medium</td>\n",
       "      <td>Employed</td>\n",
       "      <td>Single</td>\n",
       "      <td>No</td>\n",
       "      <td>Low</td>\n",
       "      <td>Medium</td>\n",
       "      <td>High</td>\n",
       "      <td>Rural</td>\n",
       "      <td>No</td>\n",
       "    </tr>\n",
       "  </tbody>\n",
       "</table>\n",
       "<p>3 rows × 25 columns</p>\n",
       "</div>"
      ],
      "text/plain": [
       "        Country  Age  Gender  Education Level   BMI Physical Activity Level  \\\n",
       "0         Spain   90    Male                1  33.0                  Medium   \n",
       "1     Argentina   72    Male                7  29.9                  Medium   \n",
       "2  South Africa   86  Female               19  22.9                    High   \n",
       "\n",
       "  Smoking Status Alcohol Consumption Diabetes Hypertension  ...  \\\n",
       "0          Never        Occasionally       No           No  ...   \n",
       "1         Former               Never       No           No  ...   \n",
       "2        Current        Occasionally       No          Yes  ...   \n",
       "\n",
       "  Dietary Habits Air Pollution Exposure  Employment Status Marital Status  \\\n",
       "0        Healthy                   High            Retired         Single   \n",
       "1        Healthy                 Medium         Unemployed        Widowed   \n",
       "2        Average                 Medium           Employed         Single   \n",
       "\n",
       "  Genetic Risk Factor (APOE-ε4 allele) Social Engagement Level Income Level  \\\n",
       "0                                   No                     Low       Medium   \n",
       "1                                   No                    High          Low   \n",
       "2                                   No                     Low       Medium   \n",
       "\n",
       "  Stress Levels Urban vs Rural Living Alzheimer’s Diagnosis  \n",
       "0          High                 Urban                    No  \n",
       "1          High                 Urban                    No  \n",
       "2          High                 Rural                    No  \n",
       "\n",
       "[3 rows x 25 columns]"
      ]
     },
     "execution_count": 3,
     "metadata": {},
     "output_type": "execute_result"
    }
   ],
   "source": [
    "data.head(3)"
   ]
  },
  {
   "cell_type": "markdown",
   "id": "4e9476ae",
   "metadata": {
    "papermill": {
     "duration": 0.004963,
     "end_time": "2025-01-31T21:04:41.490449",
     "exception": false,
     "start_time": "2025-01-31T21:04:41.485486",
     "status": "completed"
    },
    "tags": []
   },
   "source": [
    "# Checking for missing data"
   ]
  },
  {
   "cell_type": "code",
   "execution_count": 4,
   "id": "f0f3d855",
   "metadata": {
    "execution": {
     "iopub.execute_input": "2025-01-31T21:04:41.502397Z",
     "iopub.status.busy": "2025-01-31T21:04:41.501963Z",
     "iopub.status.idle": "2025-01-31T21:04:41.587788Z",
     "shell.execute_reply": "2025-01-31T21:04:41.586552Z"
    },
    "papermill": {
     "duration": 0.094273,
     "end_time": "2025-01-31T21:04:41.589862",
     "exception": false,
     "start_time": "2025-01-31T21:04:41.495589",
     "status": "completed"
    },
    "tags": []
   },
   "outputs": [
    {
     "data": {
      "text/plain": [
       "Country                                 0\n",
       "Age                                     0\n",
       "Gender                                  0\n",
       "Education Level                         0\n",
       "BMI                                     0\n",
       "Physical Activity Level                 0\n",
       "Smoking Status                          0\n",
       "Alcohol Consumption                     0\n",
       "Diabetes                                0\n",
       "Hypertension                            0\n",
       "Cholesterol Level                       0\n",
       "Family History of Alzheimer’s           0\n",
       "Cognitive Test Score                    0\n",
       "Depression Level                        0\n",
       "Sleep Quality                           0\n",
       "Dietary Habits                          0\n",
       "Air Pollution Exposure                  0\n",
       "Employment Status                       0\n",
       "Marital Status                          0\n",
       "Genetic Risk Factor (APOE-ε4 allele)    0\n",
       "Social Engagement Level                 0\n",
       "Income Level                            0\n",
       "Stress Levels                           0\n",
       "Urban vs Rural Living                   0\n",
       "Alzheimer’s Diagnosis                   0\n",
       "dtype: int64"
      ]
     },
     "execution_count": 4,
     "metadata": {},
     "output_type": "execute_result"
    }
   ],
   "source": [
    "data.isna().sum()"
   ]
  },
  {
   "cell_type": "markdown",
   "id": "74c1804d",
   "metadata": {
    "papermill": {
     "duration": 0.005611,
     "end_time": "2025-01-31T21:04:41.601929",
     "exception": false,
     "start_time": "2025-01-31T21:04:41.596318",
     "status": "completed"
    },
    "tags": []
   },
   "source": [
    "# Converting categorical data to numerical"
   ]
  },
  {
   "cell_type": "code",
   "execution_count": 5,
   "id": "9261f9cd",
   "metadata": {
    "execution": {
     "iopub.execute_input": "2025-01-31T21:04:41.615092Z",
     "iopub.status.busy": "2025-01-31T21:04:41.614701Z",
     "iopub.status.idle": "2025-01-31T21:04:41.628345Z",
     "shell.execute_reply": "2025-01-31T21:04:41.627307Z"
    },
    "papermill": {
     "duration": 0.022752,
     "end_time": "2025-01-31T21:04:41.630558",
     "exception": false,
     "start_time": "2025-01-31T21:04:41.607806",
     "status": "completed"
    },
    "tags": []
   },
   "outputs": [],
   "source": [
    "Categorical_columns = data.select_dtypes(include=['object', 'category']).columns"
   ]
  },
  {
   "cell_type": "code",
   "execution_count": 6,
   "id": "8dc8b3f0",
   "metadata": {
    "execution": {
     "iopub.execute_input": "2025-01-31T21:04:41.644113Z",
     "iopub.status.busy": "2025-01-31T21:04:41.643770Z",
     "iopub.status.idle": "2025-01-31T21:04:41.648822Z",
     "shell.execute_reply": "2025-01-31T21:04:41.647648Z"
    },
    "papermill": {
     "duration": 0.013907,
     "end_time": "2025-01-31T21:04:41.650566",
     "exception": false,
     "start_time": "2025-01-31T21:04:41.636659",
     "status": "completed"
    },
    "tags": []
   },
   "outputs": [],
   "source": [
    "def mapping_to_num(data, column):\n",
    "    mapping = {category: idx for idx, category in enumerate(data[column].astype('category').cat.categories)}\n",
    "    data[column] = data[column].map(mapping)\n",
    "    return data, mapping"
   ]
  },
  {
   "cell_type": "code",
   "execution_count": 7,
   "id": "8d64071b",
   "metadata": {
    "execution": {
     "iopub.execute_input": "2025-01-31T21:04:41.663119Z",
     "iopub.status.busy": "2025-01-31T21:04:41.662706Z",
     "iopub.status.idle": "2025-01-31T21:04:41.878929Z",
     "shell.execute_reply": "2025-01-31T21:04:41.877818Z"
    },
    "papermill": {
     "duration": 0.224487,
     "end_time": "2025-01-31T21:04:41.880824",
     "exception": false,
     "start_time": "2025-01-31T21:04:41.656337",
     "status": "completed"
    },
    "tags": []
   },
   "outputs": [],
   "source": [
    "mappings_dict = {}\n",
    "columns_to_map = Categorical_columns\n",
    "for col in columns_to_map:\n",
    "    data, mapping = mapping_to_num(data, col)\n",
    "    mappings_dict[col] = mapping"
   ]
  },
  {
   "cell_type": "markdown",
   "id": "74703f81",
   "metadata": {
    "papermill": {
     "duration": 0.005517,
     "end_time": "2025-01-31T21:04:41.892252",
     "exception": false,
     "start_time": "2025-01-31T21:04:41.886735",
     "status": "completed"
    },
    "tags": []
   },
   "source": [
    "# Splitting data"
   ]
  },
  {
   "cell_type": "code",
   "execution_count": 8,
   "id": "4a2f321c",
   "metadata": {
    "execution": {
     "iopub.execute_input": "2025-01-31T21:04:41.905429Z",
     "iopub.status.busy": "2025-01-31T21:04:41.904927Z",
     "iopub.status.idle": "2025-01-31T21:04:41.922747Z",
     "shell.execute_reply": "2025-01-31T21:04:41.921656Z"
    },
    "papermill": {
     "duration": 0.027082,
     "end_time": "2025-01-31T21:04:41.924780",
     "exception": false,
     "start_time": "2025-01-31T21:04:41.897698",
     "status": "completed"
    },
    "tags": []
   },
   "outputs": [],
   "source": [
    "X = data.drop(columns=['Alzheimer’s Diagnosis'])\n",
    "y = data['Alzheimer’s Diagnosis']"
   ]
  },
  {
   "cell_type": "code",
   "execution_count": 9,
   "id": "14454835",
   "metadata": {
    "execution": {
     "iopub.execute_input": "2025-01-31T21:04:41.937104Z",
     "iopub.status.busy": "2025-01-31T21:04:41.936703Z",
     "iopub.status.idle": "2025-01-31T21:04:41.993418Z",
     "shell.execute_reply": "2025-01-31T21:04:41.992294Z"
    },
    "papermill": {
     "duration": 0.065428,
     "end_time": "2025-01-31T21:04:41.995590",
     "exception": false,
     "start_time": "2025-01-31T21:04:41.930162",
     "status": "completed"
    },
    "tags": []
   },
   "outputs": [],
   "source": [
    "X_train, X_test, y_train, y_test = train_test_split(X, y, test_size=0.3, random_state=42)"
   ]
  },
  {
   "cell_type": "markdown",
   "id": "ce35f1d0",
   "metadata": {
    "papermill": {
     "duration": 0.005083,
     "end_time": "2025-01-31T21:04:42.006234",
     "exception": false,
     "start_time": "2025-01-31T21:04:42.001151",
     "status": "completed"
    },
    "tags": []
   },
   "source": [
    "# Decision Tree classifier"
   ]
  },
  {
   "cell_type": "code",
   "execution_count": 10,
   "id": "e207a0ce",
   "metadata": {
    "execution": {
     "iopub.execute_input": "2025-01-31T21:04:42.018330Z",
     "iopub.status.busy": "2025-01-31T21:04:42.017891Z",
     "iopub.status.idle": "2025-01-31T21:04:42.128755Z",
     "shell.execute_reply": "2025-01-31T21:04:42.127319Z"
    },
    "papermill": {
     "duration": 0.119372,
     "end_time": "2025-01-31T21:04:42.130836",
     "exception": false,
     "start_time": "2025-01-31T21:04:42.011464",
     "status": "completed"
    },
    "tags": []
   },
   "outputs": [
    {
     "name": "stderr",
     "output_type": "stream",
     "text": [
      "/usr/local/lib/python3.10/dist-packages/sklearn/tree/_classes.py:269: FutureWarning: `max_features='auto'` has been deprecated in 1.1 and will be removed in 1.3. To keep the past behaviour, explicitly set `max_features='sqrt'`.\n",
      "  warnings.warn(\n"
     ]
    }
   ],
   "source": [
    "model = DecisionTreeClassifier(criterion='entropy', \n",
    "    max_depth=10, \n",
    "    min_samples_split=4, \n",
    "    min_samples_leaf=2,\n",
    "    max_features='auto',\n",
    "    class_weight='balanced',\n",
    "    random_state = 0)\n",
    "\n",
    "# Train the classifier\n",
    "model.fit(X_train, y_train)\n",
    "\n",
    "# Make predictions\n",
    "y_pred = model.predict(X_test)"
   ]
  },
  {
   "cell_type": "markdown",
   "id": "a90a494b",
   "metadata": {
    "papermill": {
     "duration": 0.005318,
     "end_time": "2025-01-31T21:04:42.141894",
     "exception": false,
     "start_time": "2025-01-31T21:04:42.136576",
     "status": "completed"
    },
    "tags": []
   },
   "source": [
    "## Accuracy Score"
   ]
  },
  {
   "cell_type": "code",
   "execution_count": 11,
   "id": "29d871ae",
   "metadata": {
    "execution": {
     "iopub.execute_input": "2025-01-31T21:04:42.154709Z",
     "iopub.status.busy": "2025-01-31T21:04:42.154261Z",
     "iopub.status.idle": "2025-01-31T21:04:42.163734Z",
     "shell.execute_reply": "2025-01-31T21:04:42.162484Z"
    },
    "papermill": {
     "duration": 0.018129,
     "end_time": "2025-01-31T21:04:42.165493",
     "exception": false,
     "start_time": "2025-01-31T21:04:42.147364",
     "status": "completed"
    },
    "tags": []
   },
   "outputs": [
    {
     "name": "stdout",
     "output_type": "stream",
     "text": [
      "Accuracy: 0.7103881534664572\n"
     ]
    }
   ],
   "source": [
    "# Evaluate the model\n",
    "print(\"Accuracy:\", accuracy_score(y_test, y_pred))"
   ]
  },
  {
   "cell_type": "markdown",
   "id": "cf046ce0",
   "metadata": {
    "papermill": {
     "duration": 0.00566,
     "end_time": "2025-01-31T21:04:42.177328",
     "exception": false,
     "start_time": "2025-01-31T21:04:42.171668",
     "status": "completed"
    },
    "tags": []
   },
   "source": [
    "## Classification Report"
   ]
  },
  {
   "cell_type": "code",
   "execution_count": 12,
   "id": "5ffbd2a5",
   "metadata": {
    "execution": {
     "iopub.execute_input": "2025-01-31T21:04:42.189980Z",
     "iopub.status.busy": "2025-01-31T21:04:42.189621Z",
     "iopub.status.idle": "2025-01-31T21:04:42.238857Z",
     "shell.execute_reply": "2025-01-31T21:04:42.237698Z"
    },
    "papermill": {
     "duration": 0.057865,
     "end_time": "2025-01-31T21:04:42.240866",
     "exception": false,
     "start_time": "2025-01-31T21:04:42.183001",
     "status": "completed"
    },
    "tags": []
   },
   "outputs": [
    {
     "name": "stdout",
     "output_type": "stream",
     "text": [
      "              precision    recall  f1-score   support\n",
      "\n",
      "           0       0.79      0.69      0.74     13065\n",
      "           1       0.63      0.74      0.68      9220\n",
      "\n",
      "    accuracy                           0.71     22285\n",
      "   macro avg       0.71      0.71      0.71     22285\n",
      "weighted avg       0.72      0.71      0.71     22285\n",
      "\n"
     ]
    }
   ],
   "source": [
    "print(classification_report(y_test, y_pred))"
   ]
  },
  {
   "cell_type": "markdown",
   "id": "5ca6dd06",
   "metadata": {
    "papermill": {
     "duration": 0.005537,
     "end_time": "2025-01-31T21:04:42.252220",
     "exception": false,
     "start_time": "2025-01-31T21:04:42.246683",
     "status": "completed"
    },
    "tags": []
   },
   "source": [
    "## Confuion Matrix"
   ]
  },
  {
   "cell_type": "code",
   "execution_count": 13,
   "id": "6d91a844",
   "metadata": {
    "execution": {
     "iopub.execute_input": "2025-01-31T21:04:42.265287Z",
     "iopub.status.busy": "2025-01-31T21:04:42.264856Z",
     "iopub.status.idle": "2025-01-31T21:04:42.639179Z",
     "shell.execute_reply": "2025-01-31T21:04:42.637739Z"
    },
    "papermill": {
     "duration": 0.38317,
     "end_time": "2025-01-31T21:04:42.640963",
     "exception": false,
     "start_time": "2025-01-31T21:04:42.257793",
     "status": "completed"
    },
    "tags": []
   },
   "outputs": [
    {
     "data": {
      "image/png": "[encoded data removed]",
      "text/plain": [
       "<Figure size 640x480 with 2 Axes>"
      ]
     },
     "metadata": {},
     "output_type": "display_data"
    }
   ],
   "source": [
    "sns.heatmap(confusion_matrix(y_test, y_pred), annot=True, fmt='d')\n",
    "plt.title('Confusion Matrix')\n",
    "plt.xlabel('Predicted')\n",
    "plt.ylabel('Actual')\n",
    "plt.show()"
   ]
  },
  {
   "cell_type": "markdown",
   "id": "66de5b62",
   "metadata": {
    "papermill": {
     "duration": 0.006209,
     "end_time": "2025-01-31T21:04:42.653561",
     "exception": false,
     "start_time": "2025-01-31T21:04:42.647352",
     "status": "completed"
    },
    "tags": []
   },
   "source": [
    "# Gradient Boosting Machine"
   ]
  },
  {
   "cell_type": "code",
   "execution_count": 14,
   "id": "78b7dc53",
   "metadata": {
    "execution": {
     "iopub.execute_input": "2025-01-31T21:04:42.667343Z",
     "iopub.status.busy": "2025-01-31T21:04:42.666963Z",
     "iopub.status.idle": "2025-01-31T21:04:53.151089Z",
     "shell.execute_reply": "2025-01-31T21:04:53.150074Z"
    },
    "papermill": {
     "duration": 10.493287,
     "end_time": "2025-01-31T21:04:53.153026",
     "exception": false,
     "start_time": "2025-01-31T21:04:42.659739",
     "status": "completed"
    },
    "tags": []
   },
   "outputs": [],
   "source": [
    "gbm_model = GradientBoostingClassifier(n_estimators=10, learning_rate=0.098, max_depth=80, random_state=42)\n",
    "gbm_model.fit(X_train, y_train)\n",
    "\n",
    "y_pred = gbm_model.predict(X_test)"
   ]
  },
  {
   "cell_type": "markdown",
   "id": "acb26149",
   "metadata": {
    "papermill": {
     "duration": 0.005812,
     "end_time": "2025-01-31T21:04:53.165145",
     "exception": false,
     "start_time": "2025-01-31T21:04:53.159333",
     "status": "completed"
    },
    "tags": []
   },
   "source": [
    "## Classification Report"
   ]
  },
  {
   "cell_type": "code",
   "execution_count": 15,
   "id": "d3ee930f",
   "metadata": {
    "execution": {
     "iopub.execute_input": "2025-01-31T21:04:53.178519Z",
     "iopub.status.busy": "2025-01-31T21:04:53.178143Z",
     "iopub.status.idle": "2025-01-31T21:04:53.227919Z",
     "shell.execute_reply": "2025-01-31T21:04:53.226467Z"
    },
    "papermill": {
     "duration": 0.058349,
     "end_time": "2025-01-31T21:04:53.229627",
     "exception": false,
     "start_time": "2025-01-31T21:04:53.171278",
     "status": "completed"
    },
    "tags": []
   },
   "outputs": [
    {
     "name": "stdout",
     "output_type": "stream",
     "text": [
      "Classification Report:\n",
      "              precision    recall  f1-score   support\n",
      "\n",
      "           0       0.69      0.70      0.69     13065\n",
      "           1       0.56      0.55      0.55      9220\n",
      "\n",
      "    accuracy                           0.64     22285\n",
      "   macro avg       0.62      0.62      0.62     22285\n",
      "weighted avg       0.63      0.64      0.63     22285\n",
      "\n"
     ]
    }
   ],
   "source": [
    "print(\"Classification Report:\")\n",
    "print(classification_report(y_test, y_pred))"
   ]
  },
  {
   "cell_type": "markdown",
   "id": "14a5561d",
   "metadata": {
    "papermill": {
     "duration": 0.005691,
     "end_time": "2025-01-31T21:04:53.241385",
     "exception": false,
     "start_time": "2025-01-31T21:04:53.235694",
     "status": "completed"
    },
    "tags": []
   },
   "source": [
    "## Confusion Matrix"
   ]
  },
  {
   "cell_type": "code",
   "execution_count": 16,
   "id": "151bba88",
   "metadata": {
    "execution": {
     "iopub.execute_input": "2025-01-31T21:04:53.255181Z",
     "iopub.status.busy": "2025-01-31T21:04:53.254748Z",
     "iopub.status.idle": "2025-01-31T21:04:53.598691Z",
     "shell.execute_reply": "2025-01-31T21:04:53.597582Z"
    },
    "papermill": {
     "duration": 0.353089,
     "end_time": "2025-01-31T21:04:53.600702",
     "exception": false,
     "start_time": "2025-01-31T21:04:53.247613",
     "status": "completed"
    },
    "tags": []
   },
   "outputs": [
    {
     "data": {
      "image/png": "[encoded data removed]",
      "text/plain": [
       "<Figure size 640x480 with 2 Axes>"
      ]
     },
     "metadata": {},
     "output_type": "display_data"
    }
   ],
   "source": [
    "sns.heatmap(confusion_matrix(y_test, y_pred), annot=True, fmt='d')\n",
    "plt.title('Confusion Matrix')\n",
    "plt.xlabel('Predicted')\n",
    "plt.ylabel('Actual')\n",
    "plt.show()"
   ]
  }
 ],
 "metadata": {
  "kaggle": {
   "accelerator": "none",
   "dataSources": [
    {
     "datasetId": 6574594,
     "sourceId": 10618775,
     "sourceType": "datasetVersion"
    }
   ],
   "dockerImageVersionId": 30839,
   "isGpuEnabled": false,
   "isInternetEnabled": true,
   "language": "python",
   "sourceType": "notebook"
  },
  "kernelspec": {
   "display_name": "Python 3",
   "language": "python",
   "name": "python3"
  },
  "language_info": {
   "codemirror_mode": {
    "name": "ipython",
    "version": 3
   },
   "file_extension": ".py",
   "mimetype": "text/x-python",
   "name": "python",
   "nbconvert_exporter": "python",
   "pygments_lexer": "ipython3",
   "version": "3.10.12"
  },
  "papermill": {
   "default_parameters": {},
   "duration": 19.871087,
   "end_time": "2025-01-31T21:04:54.630421",
   "environment_variables": {},
   "exception": null,
   "input_path": "__notebook__.ipynb",
   "output_path": "__notebook__.ipynb",
   "parameters": {},
   "start_time": "2025-01-31T21:04:34.759334",
   "version": "2.6.0"
  }
 },
 "nbformat": 4,
 "nbformat_minor": 5
}
