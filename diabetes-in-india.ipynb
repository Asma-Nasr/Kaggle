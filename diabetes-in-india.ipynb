{
 "cells": [
  {
   "cell_type": "markdown",
   "id": "15010b7d",
   "metadata": {
    "papermill": {
     "duration": 0.005985,
     "end_time": "2025-01-27T20:01:06.880081",
     "exception": false,
     "start_time": "2025-01-27T20:01:06.874096",
     "status": "completed"
    },
    "tags": []
   },
   "source": [
    "# Importing Libraries"
   ]
  },
  {
   "cell_type": "code",
   "execution_count": 1,
   "id": "2aa87bf5",
   "metadata": {
    "_cell_guid": "b1076dfc-b9ad-4769-8c92-a6c4dae69d19",
    "_uuid": "8f2839f25d086af736a60e9eeb907d3b93b6e0e5",
    "execution": {
     "iopub.execute_input": "2025-01-27T20:01:06.888823Z",
     "iopub.status.busy": "2025-01-27T20:01:06.888570Z",
     "iopub.status.idle": "2025-01-27T20:01:09.713079Z",
     "shell.execute_reply": "2025-01-27T20:01:09.711727Z"
    },
    "papermill": {
     "duration": 2.830581,
     "end_time": "2025-01-27T20:01:09.714559",
     "exception": false,
     "start_time": "2025-01-27T20:01:06.883978",
     "status": "completed"
    },
    "tags": []
   },
   "outputs": [],
   "source": [
    "import numpy as np # linear algebra\n",
    "import pandas as pd # data processing, CSV file I/O (e.g. pd.read_csv)\n",
    "import matplotlib.pyplot as plt\n",
    "import seaborn as sns\n",
    "from sklearn.ensemble import GradientBoostingClassifier, RandomForestClassifier\n",
    "from sklearn.metrics import classification_report, confusion_matrix, ConfusionMatrixDisplay\n",
    "from sklearn.model_selection import train_test_split"
   ]
  },
  {
   "cell_type": "markdown",
   "id": "9c722086",
   "metadata": {
    "papermill": {
     "duration": 0.003464,
     "end_time": "2025-01-27T20:01:09.722088",
     "exception": false,
     "start_time": "2025-01-27T20:01:09.718624",
     "status": "completed"
    },
    "tags": []
   },
   "source": [
    "# Loading the Dataset"
   ]
  },
  {
   "cell_type": "code",
   "execution_count": 2,
   "id": "55b624d0",
   "metadata": {
    "execution": {
     "iopub.execute_input": "2025-01-27T20:01:09.730680Z",
     "iopub.status.busy": "2025-01-27T20:01:09.730225Z",
     "iopub.status.idle": "2025-01-27T20:01:09.772326Z",
     "shell.execute_reply": "2025-01-27T20:01:09.771346Z"
    },
    "papermill": {
     "duration": 0.048049,
     "end_time": "2025-01-27T20:01:09.773845",
     "exception": false,
     "start_time": "2025-01-27T20:01:09.725796",
     "status": "completed"
    },
    "tags": []
   },
   "outputs": [],
   "source": [
    "data = pd.read_csv('/kaggle/input/diabetes-prediction-in-india-dataset/diabetes_prediction_india (1).csv')"
   ]
  },
  {
   "cell_type": "code",
   "execution_count": 3,
   "id": "00f31521",
   "metadata": {
    "execution": {
     "iopub.execute_input": "2025-01-27T20:01:09.782414Z",
     "iopub.status.busy": "2025-01-27T20:01:09.782175Z",
     "iopub.status.idle": "2025-01-27T20:01:09.813695Z",
     "shell.execute_reply": "2025-01-27T20:01:09.812864Z"
    },
    "papermill": {
     "duration": 0.037008,
     "end_time": "2025-01-27T20:01:09.814885",
     "exception": false,
     "start_time": "2025-01-27T20:01:09.777877",
     "status": "completed"
    },
    "tags": []
   },
   "outputs": [
    {
     "data": {
      "text/html": [
       "<div>\n",
       "<style scoped>\n",
       "    .dataframe tbody tr th:only-of-type {\n",
       "        vertical-align: middle;\n",
       "    }\n",
       "\n",
       "    .dataframe tbody tr th {\n",
       "        vertical-align: top;\n",
       "    }\n",
       "\n",
       "    .dataframe thead th {\n",
       "        text-align: right;\n",
       "    }\n",
       "</style>\n",
       "<table border=\"1\" class=\"dataframe\">\n",
       "  <thead>\n",
       "    <tr style=\"text-align: right;\">\n",
       "      <th></th>\n",
       "      <th>Age</th>\n",
       "      <th>Gender</th>\n",
       "      <th>BMI</th>\n",
       "      <th>Family_History</th>\n",
       "      <th>Physical_Activity</th>\n",
       "      <th>Diet_Type</th>\n",
       "      <th>Smoking_Status</th>\n",
       "      <th>Alcohol_Intake</th>\n",
       "      <th>Stress_Level</th>\n",
       "      <th>Hypertension</th>\n",
       "      <th>...</th>\n",
       "      <th>Health_Insurance</th>\n",
       "      <th>Regular_Checkups</th>\n",
       "      <th>Medication_For_Chronic_Conditions</th>\n",
       "      <th>Pregnancies</th>\n",
       "      <th>Polycystic_Ovary_Syndrome</th>\n",
       "      <th>Glucose_Tolerance_Test_Result</th>\n",
       "      <th>Vitamin_D_Level</th>\n",
       "      <th>C_Protein_Level</th>\n",
       "      <th>Thyroid_Condition</th>\n",
       "      <th>Diabetes_Status</th>\n",
       "    </tr>\n",
       "  </thead>\n",
       "  <tbody>\n",
       "    <tr>\n",
       "      <th>0</th>\n",
       "      <td>48</td>\n",
       "      <td>Male</td>\n",
       "      <td>35.5</td>\n",
       "      <td>No</td>\n",
       "      <td>High</td>\n",
       "      <td>Non-Vegetarian</td>\n",
       "      <td>Never</td>\n",
       "      <td>NaN</td>\n",
       "      <td>Medium</td>\n",
       "      <td>Yes</td>\n",
       "      <td>...</td>\n",
       "      <td>No</td>\n",
       "      <td>No</td>\n",
       "      <td>No</td>\n",
       "      <td>0</td>\n",
       "      <td>0</td>\n",
       "      <td>124.3</td>\n",
       "      <td>31.5</td>\n",
       "      <td>7.46</td>\n",
       "      <td>Yes</td>\n",
       "      <td>Yes</td>\n",
       "    </tr>\n",
       "    <tr>\n",
       "      <th>1</th>\n",
       "      <td>18</td>\n",
       "      <td>Other</td>\n",
       "      <td>28.7</td>\n",
       "      <td>Yes</td>\n",
       "      <td>Medium</td>\n",
       "      <td>Non-Vegetarian</td>\n",
       "      <td>Current</td>\n",
       "      <td>Moderate</td>\n",
       "      <td>High</td>\n",
       "      <td>No</td>\n",
       "      <td>...</td>\n",
       "      <td>Yes</td>\n",
       "      <td>Yes</td>\n",
       "      <td>No</td>\n",
       "      <td>0</td>\n",
       "      <td>0</td>\n",
       "      <td>151.4</td>\n",
       "      <td>12.5</td>\n",
       "      <td>5.64</td>\n",
       "      <td>Yes</td>\n",
       "      <td>No</td>\n",
       "    </tr>\n",
       "    <tr>\n",
       "      <th>2</th>\n",
       "      <td>21</td>\n",
       "      <td>Other</td>\n",
       "      <td>30.0</td>\n",
       "      <td>Yes</td>\n",
       "      <td>High</td>\n",
       "      <td>Non-Vegetarian</td>\n",
       "      <td>Current</td>\n",
       "      <td>Moderate</td>\n",
       "      <td>High</td>\n",
       "      <td>Yes</td>\n",
       "      <td>...</td>\n",
       "      <td>No</td>\n",
       "      <td>No</td>\n",
       "      <td>Yes</td>\n",
       "      <td>0</td>\n",
       "      <td>0</td>\n",
       "      <td>106.1</td>\n",
       "      <td>35.8</td>\n",
       "      <td>7.20</td>\n",
       "      <td>No</td>\n",
       "      <td>Yes</td>\n",
       "    </tr>\n",
       "  </tbody>\n",
       "</table>\n",
       "<p>3 rows × 27 columns</p>\n",
       "</div>"
      ],
      "text/plain": [
       "   Age Gender   BMI Family_History Physical_Activity       Diet_Type  \\\n",
       "0   48   Male  35.5             No              High  Non-Vegetarian   \n",
       "1   18  Other  28.7            Yes            Medium  Non-Vegetarian   \n",
       "2   21  Other  30.0            Yes              High  Non-Vegetarian   \n",
       "\n",
       "  Smoking_Status Alcohol_Intake Stress_Level Hypertension  ...  \\\n",
       "0          Never            NaN       Medium          Yes  ...   \n",
       "1        Current       Moderate         High           No  ...   \n",
       "2        Current       Moderate         High          Yes  ...   \n",
       "\n",
       "   Health_Insurance  Regular_Checkups  Medication_For_Chronic_Conditions  \\\n",
       "0                No                No                                 No   \n",
       "1               Yes               Yes                                 No   \n",
       "2                No                No                                Yes   \n",
       "\n",
       "   Pregnancies  Polycystic_Ovary_Syndrome  Glucose_Tolerance_Test_Result  \\\n",
       "0            0                          0                          124.3   \n",
       "1            0                          0                          151.4   \n",
       "2            0                          0                          106.1   \n",
       "\n",
       "  Vitamin_D_Level C_Protein_Level Thyroid_Condition Diabetes_Status  \n",
       "0            31.5            7.46               Yes             Yes  \n",
       "1            12.5            5.64               Yes              No  \n",
       "2            35.8            7.20                No             Yes  \n",
       "\n",
       "[3 rows x 27 columns]"
      ]
     },
     "execution_count": 3,
     "metadata": {},
     "output_type": "execute_result"
    }
   ],
   "source": [
    "data.head(3)"
   ]
  },
  {
   "cell_type": "markdown",
   "id": "06fc3101",
   "metadata": {
    "papermill": {
     "duration": 0.003817,
     "end_time": "2025-01-27T20:01:09.822821",
     "exception": false,
     "start_time": "2025-01-27T20:01:09.819004",
     "status": "completed"
    },
    "tags": []
   },
   "source": [
    "# Checking for null values"
   ]
  },
  {
   "cell_type": "code",
   "execution_count": 4,
   "id": "396c6f09",
   "metadata": {
    "execution": {
     "iopub.execute_input": "2025-01-27T20:01:09.831824Z",
     "iopub.status.busy": "2025-01-27T20:01:09.831515Z",
     "iopub.status.idle": "2025-01-27T20:01:09.842813Z",
     "shell.execute_reply": "2025-01-27T20:01:09.841877Z"
    },
    "papermill": {
     "duration": 0.017369,
     "end_time": "2025-01-27T20:01:09.844175",
     "exception": false,
     "start_time": "2025-01-27T20:01:09.826806",
     "status": "completed"
    },
    "tags": []
   },
   "outputs": [
    {
     "data": {
      "text/plain": [
       "Age                                     0\n",
       "Gender                                  0\n",
       "BMI                                     0\n",
       "Family_History                          0\n",
       "Physical_Activity                       0\n",
       "Diet_Type                               0\n",
       "Smoking_Status                          0\n",
       "Alcohol_Intake                       1780\n",
       "Stress_Level                            0\n",
       "Hypertension                            0\n",
       "Cholesterol_Level                       0\n",
       "Fasting_Blood_Sugar                     0\n",
       "Postprandial_Blood_Sugar                0\n",
       "HBA1C                                   0\n",
       "Heart_Rate                              0\n",
       "Waist_Hip_Ratio                         0\n",
       "Urban_Rural                             0\n",
       "Health_Insurance                        0\n",
       "Regular_Checkups                        0\n",
       "Medication_For_Chronic_Conditions       0\n",
       "Pregnancies                             0\n",
       "Polycystic_Ovary_Syndrome               0\n",
       "Glucose_Tolerance_Test_Result           0\n",
       "Vitamin_D_Level                         0\n",
       "C_Protein_Level                         0\n",
       "Thyroid_Condition                       0\n",
       "Diabetes_Status                         0\n",
       "dtype: int64"
      ]
     },
     "execution_count": 4,
     "metadata": {},
     "output_type": "execute_result"
    }
   ],
   "source": [
    "data.isna().sum()"
   ]
  },
  {
   "cell_type": "code",
   "execution_count": 5,
   "id": "e3ade838",
   "metadata": {
    "execution": {
     "iopub.execute_input": "2025-01-27T20:01:09.853272Z",
     "iopub.status.busy": "2025-01-27T20:01:09.853023Z",
     "iopub.status.idle": "2025-01-27T20:01:09.867800Z",
     "shell.execute_reply": "2025-01-27T20:01:09.866964Z"
    },
    "papermill": {
     "duration": 0.020567,
     "end_time": "2025-01-27T20:01:09.868991",
     "exception": false,
     "start_time": "2025-01-27T20:01:09.848424",
     "status": "completed"
    },
    "tags": []
   },
   "outputs": [
    {
     "data": {
      "text/html": [
       "<div>\n",
       "<style scoped>\n",
       "    .dataframe tbody tr th:only-of-type {\n",
       "        vertical-align: middle;\n",
       "    }\n",
       "\n",
       "    .dataframe tbody tr th {\n",
       "        vertical-align: top;\n",
       "    }\n",
       "\n",
       "    .dataframe thead th {\n",
       "        text-align: right;\n",
       "    }\n",
       "</style>\n",
       "<table border=\"1\" class=\"dataframe\">\n",
       "  <thead>\n",
       "    <tr style=\"text-align: right;\">\n",
       "      <th></th>\n",
       "      <th>Age</th>\n",
       "      <th>Gender</th>\n",
       "      <th>BMI</th>\n",
       "      <th>Family_History</th>\n",
       "      <th>Physical_Activity</th>\n",
       "      <th>Diet_Type</th>\n",
       "      <th>Smoking_Status</th>\n",
       "      <th>Alcohol_Intake</th>\n",
       "      <th>Stress_Level</th>\n",
       "      <th>Hypertension</th>\n",
       "      <th>...</th>\n",
       "      <th>Health_Insurance</th>\n",
       "      <th>Regular_Checkups</th>\n",
       "      <th>Medication_For_Chronic_Conditions</th>\n",
       "      <th>Pregnancies</th>\n",
       "      <th>Polycystic_Ovary_Syndrome</th>\n",
       "      <th>Glucose_Tolerance_Test_Result</th>\n",
       "      <th>Vitamin_D_Level</th>\n",
       "      <th>C_Protein_Level</th>\n",
       "      <th>Thyroid_Condition</th>\n",
       "      <th>Diabetes_Status</th>\n",
       "    </tr>\n",
       "  </thead>\n",
       "  <tbody>\n",
       "    <tr>\n",
       "      <th>0</th>\n",
       "      <td>48</td>\n",
       "      <td>Male</td>\n",
       "      <td>35.5</td>\n",
       "      <td>No</td>\n",
       "      <td>High</td>\n",
       "      <td>Non-Vegetarian</td>\n",
       "      <td>Never</td>\n",
       "      <td>NaN</td>\n",
       "      <td>Medium</td>\n",
       "      <td>Yes</td>\n",
       "      <td>...</td>\n",
       "      <td>No</td>\n",
       "      <td>No</td>\n",
       "      <td>No</td>\n",
       "      <td>0</td>\n",
       "      <td>0</td>\n",
       "      <td>124.3</td>\n",
       "      <td>31.5</td>\n",
       "      <td>7.46</td>\n",
       "      <td>Yes</td>\n",
       "      <td>Yes</td>\n",
       "    </tr>\n",
       "    <tr>\n",
       "      <th>1</th>\n",
       "      <td>18</td>\n",
       "      <td>Other</td>\n",
       "      <td>28.7</td>\n",
       "      <td>Yes</td>\n",
       "      <td>Medium</td>\n",
       "      <td>Non-Vegetarian</td>\n",
       "      <td>Current</td>\n",
       "      <td>Moderate</td>\n",
       "      <td>High</td>\n",
       "      <td>No</td>\n",
       "      <td>...</td>\n",
       "      <td>Yes</td>\n",
       "      <td>Yes</td>\n",
       "      <td>No</td>\n",
       "      <td>0</td>\n",
       "      <td>0</td>\n",
       "      <td>151.4</td>\n",
       "      <td>12.5</td>\n",
       "      <td>5.64</td>\n",
       "      <td>Yes</td>\n",
       "      <td>No</td>\n",
       "    </tr>\n",
       "    <tr>\n",
       "      <th>2</th>\n",
       "      <td>21</td>\n",
       "      <td>Other</td>\n",
       "      <td>30.0</td>\n",
       "      <td>Yes</td>\n",
       "      <td>High</td>\n",
       "      <td>Non-Vegetarian</td>\n",
       "      <td>Current</td>\n",
       "      <td>Moderate</td>\n",
       "      <td>High</td>\n",
       "      <td>Yes</td>\n",
       "      <td>...</td>\n",
       "      <td>No</td>\n",
       "      <td>No</td>\n",
       "      <td>Yes</td>\n",
       "      <td>0</td>\n",
       "      <td>0</td>\n",
       "      <td>106.1</td>\n",
       "      <td>35.8</td>\n",
       "      <td>7.20</td>\n",
       "      <td>No</td>\n",
       "      <td>Yes</td>\n",
       "    </tr>\n",
       "  </tbody>\n",
       "</table>\n",
       "<p>3 rows × 27 columns</p>\n",
       "</div>"
      ],
      "text/plain": [
       "   Age Gender   BMI Family_History Physical_Activity       Diet_Type  \\\n",
       "0   48   Male  35.5             No              High  Non-Vegetarian   \n",
       "1   18  Other  28.7            Yes            Medium  Non-Vegetarian   \n",
       "2   21  Other  30.0            Yes              High  Non-Vegetarian   \n",
       "\n",
       "  Smoking_Status Alcohol_Intake Stress_Level Hypertension  ...  \\\n",
       "0          Never            NaN       Medium          Yes  ...   \n",
       "1        Current       Moderate         High           No  ...   \n",
       "2        Current       Moderate         High          Yes  ...   \n",
       "\n",
       "   Health_Insurance  Regular_Checkups  Medication_For_Chronic_Conditions  \\\n",
       "0                No                No                                 No   \n",
       "1               Yes               Yes                                 No   \n",
       "2                No                No                                Yes   \n",
       "\n",
       "   Pregnancies  Polycystic_Ovary_Syndrome  Glucose_Tolerance_Test_Result  \\\n",
       "0            0                          0                          124.3   \n",
       "1            0                          0                          151.4   \n",
       "2            0                          0                          106.1   \n",
       "\n",
       "  Vitamin_D_Level C_Protein_Level Thyroid_Condition Diabetes_Status  \n",
       "0            31.5            7.46               Yes             Yes  \n",
       "1            12.5            5.64               Yes              No  \n",
       "2            35.8            7.20                No             Yes  \n",
       "\n",
       "[3 rows x 27 columns]"
      ]
     },
     "execution_count": 5,
     "metadata": {},
     "output_type": "execute_result"
    }
   ],
   "source": [
    "data.head(3)"
   ]
  },
  {
   "cell_type": "code",
   "execution_count": 6,
   "id": "f79e44af",
   "metadata": {
    "execution": {
     "iopub.execute_input": "2025-01-27T20:01:09.878499Z",
     "iopub.status.busy": "2025-01-27T20:01:09.878190Z",
     "iopub.status.idle": "2025-01-27T20:01:09.883572Z",
     "shell.execute_reply": "2025-01-27T20:01:09.882526Z"
    },
    "papermill": {
     "duration": 0.01176,
     "end_time": "2025-01-27T20:01:09.885065",
     "exception": false,
     "start_time": "2025-01-27T20:01:09.873305",
     "status": "completed"
    },
    "tags": []
   },
   "outputs": [
    {
     "data": {
      "text/plain": [
       "Index(['Age', 'Gender', 'BMI', 'Family_History', 'Physical_Activity',\n",
       "       'Diet_Type', 'Smoking_Status', 'Alcohol_Intake', 'Stress_Level',\n",
       "       'Hypertension', 'Cholesterol_Level', 'Fasting_Blood_Sugar',\n",
       "       'Postprandial_Blood_Sugar', 'HBA1C', 'Heart_Rate', 'Waist_Hip_Ratio',\n",
       "       'Urban_Rural', 'Health_Insurance', 'Regular_Checkups',\n",
       "       'Medication_For_Chronic_Conditions', 'Pregnancies',\n",
       "       'Polycystic_Ovary_Syndrome', 'Glucose_Tolerance_Test_Result',\n",
       "       'Vitamin_D_Level', 'C_Protein_Level', 'Thyroid_Condition',\n",
       "       'Diabetes_Status'],\n",
       "      dtype='object')"
      ]
     },
     "execution_count": 6,
     "metadata": {},
     "output_type": "execute_result"
    }
   ],
   "source": [
    "data.columns"
   ]
  },
  {
   "cell_type": "markdown",
   "id": "f95c9de1",
   "metadata": {
    "papermill": {
     "duration": 0.003994,
     "end_time": "2025-01-27T20:01:09.893780",
     "exception": false,
     "start_time": "2025-01-27T20:01:09.889786",
     "status": "completed"
    },
    "tags": []
   },
   "source": [
    "# Converting categorical data to numerical data (mapping)"
   ]
  },
  {
   "cell_type": "code",
   "execution_count": 7,
   "id": "175db342",
   "metadata": {
    "execution": {
     "iopub.execute_input": "2025-01-27T20:01:09.903135Z",
     "iopub.status.busy": "2025-01-27T20:01:09.902856Z",
     "iopub.status.idle": "2025-01-27T20:01:09.907755Z",
     "shell.execute_reply": "2025-01-27T20:01:09.906698Z"
    },
    "papermill": {
     "duration": 0.011272,
     "end_time": "2025-01-27T20:01:09.909115",
     "exception": false,
     "start_time": "2025-01-27T20:01:09.897843",
     "status": "completed"
    },
    "tags": []
   },
   "outputs": [],
   "source": [
    "Categorical_columns = data.select_dtypes(include=['object', 'category']).columns"
   ]
  },
  {
   "cell_type": "code",
   "execution_count": 8,
   "id": "3771e9d4",
   "metadata": {
    "execution": {
     "iopub.execute_input": "2025-01-27T20:01:09.918889Z",
     "iopub.status.busy": "2025-01-27T20:01:09.918605Z",
     "iopub.status.idle": "2025-01-27T20:01:09.922793Z",
     "shell.execute_reply": "2025-01-27T20:01:09.921630Z"
    },
    "papermill": {
     "duration": 0.010312,
     "end_time": "2025-01-27T20:01:09.923868",
     "exception": false,
     "start_time": "2025-01-27T20:01:09.913556",
     "status": "completed"
    },
    "tags": []
   },
   "outputs": [],
   "source": [
    "def mapping_to_num(data, column):\n",
    "    mapping = {category: idx for idx, category in enumerate(data[column].astype('category').cat.categories)}\n",
    "    data[column] = data[column].map(mapping)\n",
    "    return data, mapping"
   ]
  },
  {
   "cell_type": "code",
   "execution_count": 9,
   "id": "9b6dc8ff",
   "metadata": {
    "execution": {
     "iopub.execute_input": "2025-01-27T20:01:09.933338Z",
     "iopub.status.busy": "2025-01-27T20:01:09.933057Z",
     "iopub.status.idle": "2025-01-27T20:01:09.955828Z",
     "shell.execute_reply": "2025-01-27T20:01:09.955004Z"
    },
    "papermill": {
     "duration": 0.02911,
     "end_time": "2025-01-27T20:01:09.957397",
     "exception": false,
     "start_time": "2025-01-27T20:01:09.928287",
     "status": "completed"
    },
    "tags": []
   },
   "outputs": [],
   "source": [
    "mappings_dict = {}\n",
    "columns_to_map = Categorical_columns\n",
    "for col in columns_to_map:\n",
    "    data, mapping = mapping_to_num(data, col)\n",
    "    mappings_dict[col] = mapping"
   ]
  },
  {
   "cell_type": "markdown",
   "id": "21ab2bd1",
   "metadata": {
    "papermill": {
     "duration": 0.004011,
     "end_time": "2025-01-27T20:01:09.966035",
     "exception": false,
     "start_time": "2025-01-27T20:01:09.962024",
     "status": "completed"
    },
    "tags": []
   },
   "source": [
    "# Impute missing data with the mean value"
   ]
  },
  {
   "cell_type": "code",
   "execution_count": 10,
   "id": "c0c222ae",
   "metadata": {
    "execution": {
     "iopub.execute_input": "2025-01-27T20:01:09.975611Z",
     "iopub.status.busy": "2025-01-27T20:01:09.975316Z",
     "iopub.status.idle": "2025-01-27T20:01:09.980013Z",
     "shell.execute_reply": "2025-01-27T20:01:09.979125Z"
    },
    "papermill": {
     "duration": 0.011056,
     "end_time": "2025-01-27T20:01:09.981283",
     "exception": false,
     "start_time": "2025-01-27T20:01:09.970227",
     "status": "completed"
    },
    "tags": []
   },
   "outputs": [
    {
     "name": "stderr",
     "output_type": "stream",
     "text": [
      "<ipython-input-10-1af6e7b5de86>:1: FutureWarning: A value is trying to be set on a copy of a DataFrame or Series through chained assignment using an inplace method.\n",
      "The behavior will change in pandas 3.0. This inplace method will never work because the intermediate object on which we are setting values always behaves as a copy.\n",
      "\n",
      "For example, when doing 'df[col].method(value, inplace=True)', try using 'df.method({col: value}, inplace=True)' or df[col] = df[col].method(value) instead, to perform the operation inplace on the original object.\n",
      "\n",
      "\n",
      "  data['Alcohol_Intake'].fillna(data['Alcohol_Intake'].mean(), inplace=True)\n"
     ]
    }
   ],
   "source": [
    "data['Alcohol_Intake'].fillna(data['Alcohol_Intake'].mean(), inplace=True)"
   ]
  },
  {
   "cell_type": "code",
   "execution_count": 11,
   "id": "ae80854a",
   "metadata": {
    "execution": {
     "iopub.execute_input": "2025-01-27T20:01:09.991299Z",
     "iopub.status.busy": "2025-01-27T20:01:09.991019Z",
     "iopub.status.idle": "2025-01-27T20:01:10.006806Z",
     "shell.execute_reply": "2025-01-27T20:01:10.006031Z"
    },
    "papermill": {
     "duration": 0.022305,
     "end_time": "2025-01-27T20:01:10.008399",
     "exception": false,
     "start_time": "2025-01-27T20:01:09.986094",
     "status": "completed"
    },
    "tags": []
   },
   "outputs": [
    {
     "data": {
      "text/html": [
       "<div>\n",
       "<style scoped>\n",
       "    .dataframe tbody tr th:only-of-type {\n",
       "        vertical-align: middle;\n",
       "    }\n",
       "\n",
       "    .dataframe tbody tr th {\n",
       "        vertical-align: top;\n",
       "    }\n",
       "\n",
       "    .dataframe thead th {\n",
       "        text-align: right;\n",
       "    }\n",
       "</style>\n",
       "<table border=\"1\" class=\"dataframe\">\n",
       "  <thead>\n",
       "    <tr style=\"text-align: right;\">\n",
       "      <th></th>\n",
       "      <th>Age</th>\n",
       "      <th>Gender</th>\n",
       "      <th>BMI</th>\n",
       "      <th>Family_History</th>\n",
       "      <th>Physical_Activity</th>\n",
       "      <th>Diet_Type</th>\n",
       "      <th>Smoking_Status</th>\n",
       "      <th>Alcohol_Intake</th>\n",
       "      <th>Stress_Level</th>\n",
       "      <th>Hypertension</th>\n",
       "      <th>...</th>\n",
       "      <th>Health_Insurance</th>\n",
       "      <th>Regular_Checkups</th>\n",
       "      <th>Medication_For_Chronic_Conditions</th>\n",
       "      <th>Pregnancies</th>\n",
       "      <th>Polycystic_Ovary_Syndrome</th>\n",
       "      <th>Glucose_Tolerance_Test_Result</th>\n",
       "      <th>Vitamin_D_Level</th>\n",
       "      <th>C_Protein_Level</th>\n",
       "      <th>Thyroid_Condition</th>\n",
       "      <th>Diabetes_Status</th>\n",
       "    </tr>\n",
       "  </thead>\n",
       "  <tbody>\n",
       "    <tr>\n",
       "      <th>0</th>\n",
       "      <td>48</td>\n",
       "      <td>1</td>\n",
       "      <td>35.5</td>\n",
       "      <td>0</td>\n",
       "      <td>0</td>\n",
       "      <td>0</td>\n",
       "      <td>2</td>\n",
       "      <td>0.497722</td>\n",
       "      <td>2</td>\n",
       "      <td>1</td>\n",
       "      <td>...</td>\n",
       "      <td>0</td>\n",
       "      <td>0</td>\n",
       "      <td>0</td>\n",
       "      <td>0</td>\n",
       "      <td>0</td>\n",
       "      <td>124.3</td>\n",
       "      <td>31.5</td>\n",
       "      <td>7.46</td>\n",
       "      <td>1</td>\n",
       "      <td>1</td>\n",
       "    </tr>\n",
       "    <tr>\n",
       "      <th>1</th>\n",
       "      <td>18</td>\n",
       "      <td>2</td>\n",
       "      <td>28.7</td>\n",
       "      <td>1</td>\n",
       "      <td>2</td>\n",
       "      <td>0</td>\n",
       "      <td>0</td>\n",
       "      <td>1.000000</td>\n",
       "      <td>0</td>\n",
       "      <td>0</td>\n",
       "      <td>...</td>\n",
       "      <td>1</td>\n",
       "      <td>1</td>\n",
       "      <td>0</td>\n",
       "      <td>0</td>\n",
       "      <td>0</td>\n",
       "      <td>151.4</td>\n",
       "      <td>12.5</td>\n",
       "      <td>5.64</td>\n",
       "      <td>1</td>\n",
       "      <td>0</td>\n",
       "    </tr>\n",
       "    <tr>\n",
       "      <th>2</th>\n",
       "      <td>21</td>\n",
       "      <td>2</td>\n",
       "      <td>30.0</td>\n",
       "      <td>1</td>\n",
       "      <td>0</td>\n",
       "      <td>0</td>\n",
       "      <td>0</td>\n",
       "      <td>1.000000</td>\n",
       "      <td>0</td>\n",
       "      <td>1</td>\n",
       "      <td>...</td>\n",
       "      <td>0</td>\n",
       "      <td>0</td>\n",
       "      <td>1</td>\n",
       "      <td>0</td>\n",
       "      <td>0</td>\n",
       "      <td>106.1</td>\n",
       "      <td>35.8</td>\n",
       "      <td>7.20</td>\n",
       "      <td>0</td>\n",
       "      <td>1</td>\n",
       "    </tr>\n",
       "  </tbody>\n",
       "</table>\n",
       "<p>3 rows × 27 columns</p>\n",
       "</div>"
      ],
      "text/plain": [
       "   Age  Gender   BMI  Family_History  Physical_Activity  Diet_Type  \\\n",
       "0   48       1  35.5               0                  0          0   \n",
       "1   18       2  28.7               1                  2          0   \n",
       "2   21       2  30.0               1                  0          0   \n",
       "\n",
       "   Smoking_Status  Alcohol_Intake  Stress_Level  Hypertension  ...  \\\n",
       "0               2        0.497722             2             1  ...   \n",
       "1               0        1.000000             0             0  ...   \n",
       "2               0        1.000000             0             1  ...   \n",
       "\n",
       "   Health_Insurance  Regular_Checkups  Medication_For_Chronic_Conditions  \\\n",
       "0                 0                 0                                  0   \n",
       "1                 1                 1                                  0   \n",
       "2                 0                 0                                  1   \n",
       "\n",
       "   Pregnancies  Polycystic_Ovary_Syndrome  Glucose_Tolerance_Test_Result  \\\n",
       "0            0                          0                          124.3   \n",
       "1            0                          0                          151.4   \n",
       "2            0                          0                          106.1   \n",
       "\n",
       "   Vitamin_D_Level  C_Protein_Level  Thyroid_Condition  Diabetes_Status  \n",
       "0             31.5             7.46                  1                1  \n",
       "1             12.5             5.64                  1                0  \n",
       "2             35.8             7.20                  0                1  \n",
       "\n",
       "[3 rows x 27 columns]"
      ]
     },
     "execution_count": 11,
     "metadata": {},
     "output_type": "execute_result"
    }
   ],
   "source": [
    "data.head(3)"
   ]
  },
  {
   "cell_type": "markdown",
   "id": "387b1327",
   "metadata": {
    "papermill": {
     "duration": 0.004339,
     "end_time": "2025-01-27T20:01:10.017606",
     "exception": false,
     "start_time": "2025-01-27T20:01:10.013267",
     "status": "completed"
    },
    "tags": []
   },
   "source": [
    "# Splitting the data"
   ]
  },
  {
   "cell_type": "code",
   "execution_count": 12,
   "id": "7b69d08b",
   "metadata": {
    "execution": {
     "iopub.execute_input": "2025-01-27T20:01:10.027411Z",
     "iopub.status.busy": "2025-01-27T20:01:10.027130Z",
     "iopub.status.idle": "2025-01-27T20:01:10.031827Z",
     "shell.execute_reply": "2025-01-27T20:01:10.031102Z"
    },
    "papermill": {
     "duration": 0.011356,
     "end_time": "2025-01-27T20:01:10.033332",
     "exception": false,
     "start_time": "2025-01-27T20:01:10.021976",
     "status": "completed"
    },
    "tags": []
   },
   "outputs": [],
   "source": [
    "X = data.drop(columns=['Diabetes_Status'])\n",
    "y = data['Diabetes_Status']"
   ]
  },
  {
   "cell_type": "code",
   "execution_count": 13,
   "id": "75213aaa",
   "metadata": {
    "execution": {
     "iopub.execute_input": "2025-01-27T20:01:10.043127Z",
     "iopub.status.busy": "2025-01-27T20:01:10.042883Z",
     "iopub.status.idle": "2025-01-27T20:01:10.049143Z",
     "shell.execute_reply": "2025-01-27T20:01:10.048439Z"
    },
    "papermill": {
     "duration": 0.012316,
     "end_time": "2025-01-27T20:01:10.050413",
     "exception": false,
     "start_time": "2025-01-27T20:01:10.038097",
     "status": "completed"
    },
    "tags": []
   },
   "outputs": [],
   "source": [
    "X_train, X_test, y_train, y_test = train_test_split(X, y, test_size=0.2, random_state=42)"
   ]
  },
  {
   "cell_type": "markdown",
   "id": "73609c07",
   "metadata": {
    "papermill": {
     "duration": 0.004035,
     "end_time": "2025-01-27T20:01:10.058973",
     "exception": false,
     "start_time": "2025-01-27T20:01:10.054938",
     "status": "completed"
    },
    "tags": []
   },
   "source": [
    "# Random Forest model"
   ]
  },
  {
   "cell_type": "code",
   "execution_count": 14,
   "id": "50bd3a38",
   "metadata": {
    "execution": {
     "iopub.execute_input": "2025-01-27T20:01:10.068498Z",
     "iopub.status.busy": "2025-01-27T20:01:10.068193Z",
     "iopub.status.idle": "2025-01-27T20:01:11.069676Z",
     "shell.execute_reply": "2025-01-27T20:01:11.068907Z"
    },
    "papermill": {
     "duration": 1.008038,
     "end_time": "2025-01-27T20:01:11.071127",
     "exception": false,
     "start_time": "2025-01-27T20:01:10.063089",
     "status": "completed"
    },
    "tags": []
   },
   "outputs": [],
   "source": [
    "model = RandomForestClassifier(n_estimators=100)\n",
    "model.fit(X_train, y_train)\n",
    "y_pred = model.predict(X_test)"
   ]
  },
  {
   "cell_type": "markdown",
   "id": "cbabad0b",
   "metadata": {
    "papermill": {
     "duration": 0.004058,
     "end_time": "2025-01-27T20:01:11.079869",
     "exception": false,
     "start_time": "2025-01-27T20:01:11.075811",
     "status": "completed"
    },
    "tags": []
   },
   "source": [
    "## Classification Report"
   ]
  },
  {
   "cell_type": "code",
   "execution_count": 15,
   "id": "586b3fb7",
   "metadata": {
    "execution": {
     "iopub.execute_input": "2025-01-27T20:01:11.089465Z",
     "iopub.status.busy": "2025-01-27T20:01:11.089185Z",
     "iopub.status.idle": "2025-01-27T20:01:11.099212Z",
     "shell.execute_reply": "2025-01-27T20:01:11.098259Z"
    },
    "papermill": {
     "duration": 0.016411,
     "end_time": "2025-01-27T20:01:11.100524",
     "exception": false,
     "start_time": "2025-01-27T20:01:11.084113",
     "status": "completed"
    },
    "tags": []
   },
   "outputs": [
    {
     "name": "stdout",
     "output_type": "stream",
     "text": [
      "              precision    recall  f1-score   support\n",
      "\n",
      "           0       0.48      0.49      0.49       517\n",
      "           1       0.50      0.49      0.49       542\n",
      "\n",
      "    accuracy                           0.49      1059\n",
      "   macro avg       0.49      0.49      0.49      1059\n",
      "weighted avg       0.49      0.49      0.49      1059\n",
      "\n"
     ]
    }
   ],
   "source": [
    "print(classification_report(y_test, y_pred))"
   ]
  },
  {
   "cell_type": "markdown",
   "id": "c622b872",
   "metadata": {
    "papermill": {
     "duration": 0.00425,
     "end_time": "2025-01-27T20:01:11.109580",
     "exception": false,
     "start_time": "2025-01-27T20:01:11.105330",
     "status": "completed"
    },
    "tags": []
   },
   "source": [
    "## Confusion Matrix"
   ]
  },
  {
   "cell_type": "code",
   "execution_count": 16,
   "id": "788c144c",
   "metadata": {
    "execution": {
     "iopub.execute_input": "2025-01-27T20:01:11.119783Z",
     "iopub.status.busy": "2025-01-27T20:01:11.119420Z",
     "iopub.status.idle": "2025-01-27T20:01:11.326953Z",
     "shell.execute_reply": "2025-01-27T20:01:11.325973Z"
    },
    "papermill": {
     "duration": 0.213999,
     "end_time": "2025-01-27T20:01:11.328147",
     "exception": false,
     "start_time": "2025-01-27T20:01:11.114148",
     "status": "completed"
    },
    "tags": []
   },
   "outputs": [
    {
     "data": {
      "image/png": "[encoded data removed]",
      "text/plain": [
       "<Figure size 640x480 with 2 Axes>"
      ]
     },
     "metadata": {},
     "output_type": "display_data"
    }
   ],
   "source": [
    "sns.heatmap(confusion_matrix(y_test, y_pred), annot=True, fmt='d')\n",
    "plt.title('Confusion Matrix')\n",
    "plt.xlabel('Predicted')\n",
    "plt.ylabel('Actual')\n",
    "plt.show()"
   ]
  },
  {
   "cell_type": "markdown",
   "id": "0fb51230",
   "metadata": {
    "papermill": {
     "duration": 0.00444,
     "end_time": "2025-01-27T20:01:11.337517",
     "exception": false,
     "start_time": "2025-01-27T20:01:11.333077",
     "status": "completed"
    },
    "tags": []
   },
   "source": [
    "# Gradient Boosting Classifier"
   ]
  },
  {
   "cell_type": "code",
   "execution_count": 17,
   "id": "2ae8ecb5",
   "metadata": {
    "execution": {
     "iopub.execute_input": "2025-01-27T20:01:11.348435Z",
     "iopub.status.busy": "2025-01-27T20:01:11.348134Z",
     "iopub.status.idle": "2025-01-27T20:01:19.170183Z",
     "shell.execute_reply": "2025-01-27T20:01:19.169372Z"
    },
    "papermill": {
     "duration": 7.829127,
     "end_time": "2025-01-27T20:01:19.171650",
     "exception": false,
     "start_time": "2025-01-27T20:01:11.342523",
     "status": "completed"
    },
    "tags": []
   },
   "outputs": [],
   "source": [
    "gbm_model = GradientBoostingClassifier(n_estimators=100, learning_rate=0.098, max_depth=80, random_state=42)\n",
    "gbm_model.fit(X_train, y_train)\n",
    "\n",
    "y_pred = gbm_model.predict(X_test)"
   ]
  },
  {
   "cell_type": "markdown",
   "id": "72eef9b1",
   "metadata": {
    "papermill": {
     "duration": 0.004837,
     "end_time": "2025-01-27T20:01:19.181950",
     "exception": false,
     "start_time": "2025-01-27T20:01:19.177113",
     "status": "completed"
    },
    "tags": []
   },
   "source": [
    "## Classification Report"
   ]
  },
  {
   "cell_type": "code",
   "execution_count": 18,
   "id": "fcefff46",
   "metadata": {
    "execution": {
     "iopub.execute_input": "2025-01-27T20:01:19.192970Z",
     "iopub.status.busy": "2025-01-27T20:01:19.192679Z",
     "iopub.status.idle": "2025-01-27T20:01:19.203817Z",
     "shell.execute_reply": "2025-01-27T20:01:19.202670Z"
    },
    "papermill": {
     "duration": 0.018108,
     "end_time": "2025-01-27T20:01:19.205036",
     "exception": false,
     "start_time": "2025-01-27T20:01:19.186928",
     "status": "completed"
    },
    "tags": []
   },
   "outputs": [
    {
     "name": "stdout",
     "output_type": "stream",
     "text": [
      "Classification Report:\n",
      "              precision    recall  f1-score   support\n",
      "\n",
      "           0       0.50      0.51      0.51       517\n",
      "           1       0.52      0.51      0.52       542\n",
      "\n",
      "    accuracy                           0.51      1059\n",
      "   macro avg       0.51      0.51      0.51      1059\n",
      "weighted avg       0.51      0.51      0.51      1059\n",
      "\n"
     ]
    }
   ],
   "source": [
    "print(\"Classification Report:\")\n",
    "print(classification_report(y_test, y_pred))"
   ]
  },
  {
   "cell_type": "markdown",
   "id": "81892103",
   "metadata": {
    "papermill": {
     "duration": 0.004557,
     "end_time": "2025-01-27T20:01:19.214652",
     "exception": false,
     "start_time": "2025-01-27T20:01:19.210095",
     "status": "completed"
    },
    "tags": []
   },
   "source": [
    "## Confusion Matrix"
   ]
  },
  {
   "cell_type": "code",
   "execution_count": 19,
   "id": "fd93c5cd",
   "metadata": {
    "execution": {
     "iopub.execute_input": "2025-01-27T20:01:19.225107Z",
     "iopub.status.busy": "2025-01-27T20:01:19.224854Z",
     "iopub.status.idle": "2025-01-27T20:01:19.440620Z",
     "shell.execute_reply": "2025-01-27T20:01:19.439618Z"
    },
    "papermill": {
     "duration": 0.222473,
     "end_time": "2025-01-27T20:01:19.441817",
     "exception": false,
     "start_time": "2025-01-27T20:01:19.219344",
     "status": "completed"
    },
    "tags": []
   },
   "outputs": [
    {
     "data": {
      "image/png": "[encoded data removed]",
      "text/plain": [
       "<Figure size 640x480 with 2 Axes>"
      ]
     },
     "metadata": {},
     "output_type": "display_data"
    }
   ],
   "source": [
    "sns.heatmap(confusion_matrix(y_test, y_pred), annot=True, fmt='d')\n",
    "plt.title('Confusion Matrix')\n",
    "plt.xlabel('Predicted')\n",
    "plt.ylabel('Actual')\n",
    "plt.show()"
   ]
  }
 ],
 "metadata": {
  "kaggle": {
   "accelerator": "none",
   "dataSources": [
    {
     "datasetId": 6557332,
     "sourceId": 10594461,
     "sourceType": "datasetVersion"
    }
   ],
   "dockerImageVersionId": 30839,
   "isGpuEnabled": false,
   "isInternetEnabled": true,
   "language": "python",
   "sourceType": "notebook"
  },
  "kernelspec": {
   "display_name": "Python 3",
   "language": "python",
   "name": "python3"
  },
  "language_info": {
   "codemirror_mode": {
    "name": "ipython",
    "version": 3
   },
   "file_extension": ".py",
   "mimetype": "text/x-python",
   "name": "python",
   "nbconvert_exporter": "python",
   "pygments_lexer": "ipython3",
   "version": "3.10.12"
  },
  "papermill": {
   "default_parameters": {},
   "duration": 15.338221,
   "end_time": "2025-01-27T20:01:20.066657",
   "environment_variables": {},
   "exception": null,
   "input_path": "__notebook__.ipynb",
   "output_path": "__notebook__.ipynb",
   "parameters": {},
   "start_time": "2025-01-27T20:01:04.728436",
   "version": "2.6.0"
  }
 },
 "nbformat": 4,
 "nbformat_minor": 5
}
