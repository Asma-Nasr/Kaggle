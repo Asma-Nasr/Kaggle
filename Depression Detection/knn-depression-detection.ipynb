{
 "cells": [
  {
   "cell_type": "code",
   "execution_count": 1,
   "id": "a513d36a",
   "metadata": {
    "_cell_guid": "b1076dfc-b9ad-4769-8c92-a6c4dae69d19",
    "_uuid": "8f2839f25d086af736a60e9eeb907d3b93b6e0e5",
    "execution": {
     "iopub.execute_input": "2023-09-22T19:00:28.923744Z",
     "iopub.status.busy": "2023-09-22T19:00:28.923335Z",
     "iopub.status.idle": "2023-09-22T19:00:28.944498Z",
     "shell.execute_reply": "2023-09-22T19:00:28.943131Z"
    },
    "papermill": {
     "duration": 0.031357,
     "end_time": "2023-09-22T19:00:28.946966",
     "exception": false,
     "start_time": "2023-09-22T19:00:28.915609",
     "status": "completed"
    },
    "tags": []
   },
   "outputs": [
    {
     "name": "stdout",
     "output_type": "stream",
     "text": [
      "/kaggle/input/depression/ALLFsubject4.npy\n",
      "/kaggle/input/depression/atsubject4.npy\n"
     ]
    }
   ],
   "source": [
    "import os\n",
    "for dirname, _, filenames in os.walk('/kaggle/input'):\n",
    "    for filename in filenames:\n",
    "        print(os.path.join(dirname, filename))"
   ]
  },
  {
   "cell_type": "markdown",
   "id": "80786780",
   "metadata": {
    "papermill": {
     "duration": 0.005305,
     "end_time": "2023-09-22T19:00:28.960067",
     "exception": false,
     "start_time": "2023-09-22T19:00:28.954762",
     "status": "completed"
    },
    "tags": []
   },
   "source": [
    "# 1 Import the necessary libraries"
   ]
  },
  {
   "cell_type": "code",
   "execution_count": 2,
   "id": "13821cbe",
   "metadata": {
    "execution": {
     "iopub.execute_input": "2023-09-22T19:00:28.973587Z",
     "iopub.status.busy": "2023-09-22T19:00:28.972388Z",
     "iopub.status.idle": "2023-09-22T19:00:32.428437Z",
     "shell.execute_reply": "2023-09-22T19:00:32.426393Z"
    },
    "papermill": {
     "duration": 3.466175,
     "end_time": "2023-09-22T19:00:32.431741",
     "exception": false,
     "start_time": "2023-09-22T19:00:28.965566",
     "status": "completed"
    },
    "tags": []
   },
   "outputs": [],
   "source": [
    "import numpy as np\n",
    "from sklearn.model_selection import train_test_split\n",
    "from sklearn.neighbors import KNeighborsClassifier\n",
    "from sklearn.metrics import accuracy_score\n",
    "from sklearn.metrics import confusion_matrix\n",
    "import seaborn as sns\n",
    "import matplotlib.pyplot as plt"
   ]
  },
  {
   "cell_type": "markdown",
   "id": "721c356a",
   "metadata": {
    "papermill": {
     "duration": 0.005767,
     "end_time": "2023-09-22T19:00:32.443935",
     "exception": false,
     "start_time": "2023-09-22T19:00:32.438168",
     "status": "completed"
    },
    "tags": []
   },
   "source": [
    "# 2 Loading the features and Targets"
   ]
  },
  {
   "cell_type": "code",
   "execution_count": 3,
   "id": "abc800ec",
   "metadata": {
    "execution": {
     "iopub.execute_input": "2023-09-22T19:00:32.457673Z",
     "iopub.status.busy": "2023-09-22T19:00:32.457107Z",
     "iopub.status.idle": "2023-09-22T19:00:34.594645Z",
     "shell.execute_reply": "2023-09-22T19:00:34.593495Z"
    },
    "papermill": {
     "duration": 2.147746,
     "end_time": "2023-09-22T19:00:34.597602",
     "exception": false,
     "start_time": "2023-09-22T19:00:32.449856",
     "status": "completed"
    },
    "tags": []
   },
   "outputs": [],
   "source": [
    "Features = np.load('/kaggle/input/depression/ALLFsubject4.npy')\n",
    "Targets = np.load('/kaggle/input/depression/atsubject4.npy').ravel()"
   ]
  },
  {
   "cell_type": "markdown",
   "id": "e4778622",
   "metadata": {
    "papermill": {
     "duration": 0.006572,
     "end_time": "2023-09-22T19:00:34.610530",
     "exception": false,
     "start_time": "2023-09-22T19:00:34.603958",
     "status": "completed"
    },
    "tags": []
   },
   "source": [
    "# 3 Split the data into training and testing sets"
   ]
  },
  {
   "cell_type": "code",
   "execution_count": 4,
   "id": "3f124f99",
   "metadata": {
    "execution": {
     "iopub.execute_input": "2023-09-22T19:00:34.625373Z",
     "iopub.status.busy": "2023-09-22T19:00:34.624461Z",
     "iopub.status.idle": "2023-09-22T19:00:34.839564Z",
     "shell.execute_reply": "2023-09-22T19:00:34.838003Z"
    },
    "papermill": {
     "duration": 0.225811,
     "end_time": "2023-09-22T19:00:34.842764",
     "exception": false,
     "start_time": "2023-09-22T19:00:34.616953",
     "status": "completed"
    },
    "tags": []
   },
   "outputs": [],
   "source": [
    "X_train,X_test, y_train, y_test = train_test_split(Features,Targets,test_size=0.8,random_state=42)"
   ]
  },
  {
   "cell_type": "markdown",
   "id": "3da1d3a3",
   "metadata": {
    "papermill": {
     "duration": 0.005655,
     "end_time": "2023-09-22T19:00:34.854349",
     "exception": false,
     "start_time": "2023-09-22T19:00:34.848694",
     "status": "completed"
    },
    "tags": []
   },
   "source": [
    "# 4 KNN Classifier"
   ]
  },
  {
   "cell_type": "code",
   "execution_count": 5,
   "id": "995bb0c7",
   "metadata": {
    "execution": {
     "iopub.execute_input": "2023-09-22T19:00:34.868602Z",
     "iopub.status.busy": "2023-09-22T19:00:34.867529Z",
     "iopub.status.idle": "2023-09-22T19:00:35.773860Z",
     "shell.execute_reply": "2023-09-22T19:00:35.772261Z"
    },
    "papermill": {
     "duration": 0.91698,
     "end_time": "2023-09-22T19:00:35.777259",
     "exception": false,
     "start_time": "2023-09-22T19:00:34.860279",
     "status": "completed"
    },
    "tags": []
   },
   "outputs": [
    {
     "data": {
      "text/html": [
       "<style>#sk-container-id-1 {color: black;background-color: white;}#sk-container-id-1 pre{padding: 0;}#sk-container-id-1 div.sk-toggleable {background-color: white;}#sk-container-id-1 label.sk-toggleable__label {cursor: pointer;display: block;width: 100%;margin-bottom: 0;padding: 0.3em;box-sizing: border-box;text-align: center;}#sk-container-id-1 label.sk-toggleable__label-arrow:before {content: \"▸\";float: left;margin-right: 0.25em;color: #696969;}#sk-container-id-1 label.sk-toggleable__label-arrow:hover:before {color: black;}#sk-container-id-1 div.sk-estimator:hover label.sk-toggleable__label-arrow:before {color: black;}#sk-container-id-1 div.sk-toggleable__content {max-height: 0;max-width: 0;overflow: hidden;text-align: left;background-color: #f0f8ff;}#sk-container-id-1 div.sk-toggleable__content pre {margin: 0.2em;color: black;border-radius: 0.25em;background-color: #f0f8ff;}#sk-container-id-1 input.sk-toggleable__control:checked~div.sk-toggleable__content {max-height: 200px;max-width: 100%;overflow: auto;}#sk-container-id-1 input.sk-toggleable__control:checked~label.sk-toggleable__label-arrow:before {content: \"▾\";}#sk-container-id-1 div.sk-estimator input.sk-toggleable__control:checked~label.sk-toggleable__label {background-color: #d4ebff;}#sk-container-id-1 div.sk-label input.sk-toggleable__control:checked~label.sk-toggleable__label {background-color: #d4ebff;}#sk-container-id-1 input.sk-hidden--visually {border: 0;clip: rect(1px 1px 1px 1px);clip: rect(1px, 1px, 1px, 1px);height: 1px;margin: -1px;overflow: hidden;padding: 0;position: absolute;width: 1px;}#sk-container-id-1 div.sk-estimator {font-family: monospace;background-color: #f0f8ff;border: 1px dotted black;border-radius: 0.25em;box-sizing: border-box;margin-bottom: 0.5em;}#sk-container-id-1 div.sk-estimator:hover {background-color: #d4ebff;}#sk-container-id-1 div.sk-parallel-item::after {content: \"\";width: 100%;border-bottom: 1px solid gray;flex-grow: 1;}#sk-container-id-1 div.sk-label:hover label.sk-toggleable__label {background-color: #d4ebff;}#sk-container-id-1 div.sk-serial::before {content: \"\";position: absolute;border-left: 1px solid gray;box-sizing: border-box;top: 0;bottom: 0;left: 50%;z-index: 0;}#sk-container-id-1 div.sk-serial {display: flex;flex-direction: column;align-items: center;background-color: white;padding-right: 0.2em;padding-left: 0.2em;position: relative;}#sk-container-id-1 div.sk-item {position: relative;z-index: 1;}#sk-container-id-1 div.sk-parallel {display: flex;align-items: stretch;justify-content: center;background-color: white;position: relative;}#sk-container-id-1 div.sk-item::before, #sk-container-id-1 div.sk-parallel-item::before {content: \"\";position: absolute;border-left: 1px solid gray;box-sizing: border-box;top: 0;bottom: 0;left: 50%;z-index: -1;}#sk-container-id-1 div.sk-parallel-item {display: flex;flex-direction: column;z-index: 1;position: relative;background-color: white;}#sk-container-id-1 div.sk-parallel-item:first-child::after {align-self: flex-end;width: 50%;}#sk-container-id-1 div.sk-parallel-item:last-child::after {align-self: flex-start;width: 50%;}#sk-container-id-1 div.sk-parallel-item:only-child::after {width: 0;}#sk-container-id-1 div.sk-dashed-wrapped {border: 1px dashed gray;margin: 0 0.4em 0.5em 0.4em;box-sizing: border-box;padding-bottom: 0.4em;background-color: white;}#sk-container-id-1 div.sk-label label {font-family: monospace;font-weight: bold;display: inline-block;line-height: 1.2em;}#sk-container-id-1 div.sk-label-container {text-align: center;}#sk-container-id-1 div.sk-container {/* jupyter's `normalize.less` sets `[hidden] { display: none; }` but bootstrap.min.css set `[hidden] { display: none !important; }` so we also need the `!important` here to be able to override the default hidden behavior on the sphinx rendered scikit-learn.org. See: https://github.com/scikit-learn/scikit-learn/issues/21755 */display: inline-block !important;position: relative;}#sk-container-id-1 div.sk-text-repr-fallback {display: none;}</style><div id=\"sk-container-id-1\" class=\"sk-top-container\"><div class=\"sk-text-repr-fallback\"><pre>KNeighborsClassifier(n_neighbors=15)</pre><b>In a Jupyter environment, please rerun this cell to show the HTML representation or trust the notebook. <br />On GitHub, the HTML representation is unable to render, please try loading this page with nbviewer.org.</b></div><div class=\"sk-container\" hidden><div class=\"sk-item\"><div class=\"sk-estimator sk-toggleable\"><input class=\"sk-toggleable__control sk-hidden--visually\" id=\"sk-estimator-id-1\" type=\"checkbox\" checked><label for=\"sk-estimator-id-1\" class=\"sk-toggleable__label sk-toggleable__label-arrow\">KNeighborsClassifier</label><div class=\"sk-toggleable__content\"><pre>KNeighborsClassifier(n_neighbors=15)</pre></div></div></div></div></div>"
      ],
      "text/plain": [
       "KNeighborsClassifier(n_neighbors=15)"
      ]
     },
     "execution_count": 5,
     "metadata": {},
     "output_type": "execute_result"
    }
   ],
   "source": [
    "knn = KNeighborsClassifier(n_neighbors=15)\n",
    "knn.fit(X_train, y_train)"
   ]
  },
  {
   "cell_type": "markdown",
   "id": "10c56196",
   "metadata": {
    "papermill": {
     "duration": 0.006058,
     "end_time": "2023-09-22T19:00:35.789653",
     "exception": false,
     "start_time": "2023-09-22T19:00:35.783595",
     "status": "completed"
    },
    "tags": []
   },
   "source": [
    "# 5 Predict on the testing set"
   ]
  },
  {
   "cell_type": "code",
   "execution_count": 6,
   "id": "2f848ef3",
   "metadata": {
    "execution": {
     "iopub.execute_input": "2023-09-22T19:00:35.804697Z",
     "iopub.status.busy": "2023-09-22T19:00:35.804186Z",
     "iopub.status.idle": "2023-09-22T19:06:31.278140Z",
     "shell.execute_reply": "2023-09-22T19:06:31.276908Z"
    },
    "papermill": {
     "duration": 355.485311,
     "end_time": "2023-09-22T19:06:31.281125",
     "exception": false,
     "start_time": "2023-09-22T19:00:35.795814",
     "status": "completed"
    },
    "tags": []
   },
   "outputs": [],
   "source": [
    "y_pred = knn.predict(X_test)"
   ]
  },
  {
   "cell_type": "markdown",
   "id": "9c34f1f3",
   "metadata": {
    "papermill": {
     "duration": 0.005406,
     "end_time": "2023-09-22T19:06:31.292624",
     "exception": false,
     "start_time": "2023-09-22T19:06:31.287218",
     "status": "completed"
    },
    "tags": []
   },
   "source": [
    "# 6 Calculate and print the accuracy"
   ]
  },
  {
   "cell_type": "code",
   "execution_count": 7,
   "id": "36543945",
   "metadata": {
    "execution": {
     "iopub.execute_input": "2023-09-22T19:06:31.306253Z",
     "iopub.status.busy": "2023-09-22T19:06:31.305256Z",
     "iopub.status.idle": "2023-09-22T19:06:31.412002Z",
     "shell.execute_reply": "2023-09-22T19:06:31.410600Z"
    },
    "papermill": {
     "duration": 0.117483,
     "end_time": "2023-09-22T19:06:31.415799",
     "exception": false,
     "start_time": "2023-09-22T19:06:31.298316",
     "status": "completed"
    },
    "tags": []
   },
   "outputs": [
    {
     "name": "stdout",
     "output_type": "stream",
     "text": [
      "Accuracy: 0.8013047354368601\n"
     ]
    }
   ],
   "source": [
    "accuracy = accuracy_score(y_test, y_pred)\n",
    "print(\"Accuracy:\", accuracy)"
   ]
  },
  {
   "cell_type": "markdown",
   "id": "91f9c241",
   "metadata": {
    "papermill": {
     "duration": 0.005546,
     "end_time": "2023-09-22T19:06:31.427329",
     "exception": false,
     "start_time": "2023-09-22T19:06:31.421783",
     "status": "completed"
    },
    "tags": []
   },
   "source": [
    "# 7 Plot the confusion matrix"
   ]
  },
  {
   "cell_type": "code",
   "execution_count": 8,
   "id": "80c666f1",
   "metadata": {
    "execution": {
     "iopub.execute_input": "2023-09-22T19:06:31.441184Z",
     "iopub.status.busy": "2023-09-22T19:06:31.440689Z",
     "iopub.status.idle": "2023-09-22T19:06:32.907863Z",
     "shell.execute_reply": "2023-09-22T19:06:32.906647Z"
    },
    "papermill": {
     "duration": 1.477118,
     "end_time": "2023-09-22T19:06:32.910329",
     "exception": false,
     "start_time": "2023-09-22T19:06:31.433211",
     "status": "completed"
    },
    "tags": []
   },
   "outputs": [
    {
     "data": {
      "image/png": "[encoded data removed]",
      "text/plain": [
       "<Figure size 640x480 with 2 Axes>"
      ]
     },
     "metadata": {},
     "output_type": "display_data"
    }
   ],
   "source": [
    "cm = confusion_matrix(y_test, y_pred)\n",
    "class_names = ['Healthy','Depressed']\n",
    "sns.heatmap(cm, annot=True, fmt=\"d\", xticklabels=class_names, yticklabels=class_names)\n",
    "plt.xlabel('Predicted')\n",
    "plt.ylabel('Actual')\n",
    "plt.show()"
   ]
  },
  {
   "cell_type": "markdown",
   "id": "c8962e73",
   "metadata": {
    "papermill": {
     "duration": 0.006076,
     "end_time": "2023-09-22T19:06:32.922894",
     "exception": false,
     "start_time": "2023-09-22T19:06:32.916818",
     "status": "completed"
    },
    "tags": []
   },
   "source": [
    "# 8 Scaling the confusion matrix"
   ]
  },
  {
   "cell_type": "code",
   "execution_count": 9,
   "id": "a662b808",
   "metadata": {
    "execution": {
     "iopub.execute_input": "2023-09-22T19:06:32.937473Z",
     "iopub.status.busy": "2023-09-22T19:06:32.937068Z",
     "iopub.status.idle": "2023-09-22T19:06:33.232369Z",
     "shell.execute_reply": "2023-09-22T19:06:33.231243Z"
    },
    "papermill": {
     "duration": 0.305561,
     "end_time": "2023-09-22T19:06:33.234787",
     "exception": false,
     "start_time": "2023-09-22T19:06:32.929226",
     "status": "completed"
    },
    "tags": []
   },
   "outputs": [
    {
     "data": {
      "image/png": "[encoded data removed]",
      "text/plain": [
       "<Figure size 640x480 with 2 Axes>"
      ]
     },
     "metadata": {},
     "output_type": "display_data"
    }
   ],
   "source": [
    "row_sums = cm.sum(axis=1, keepdims=True)\n",
    "scaled_cm = cm / row_sums\n",
    "class_names = ['Healthy','Depressed']\n",
    "sns.heatmap(scaled_cm, annot=True, fmt=\".2f\", xticklabels=class_names, yticklabels=class_names)\n",
    "plt.xlabel('Predicted')\n",
    "plt.ylabel('Actual')\n",
    "plt.show()"
   ]
  }
 ],
 "metadata": {
  "kernelspec": {
   "display_name": "Python 3",
   "language": "python",
   "name": "python3"
  },
  "language_info": {
   "codemirror_mode": {
    "name": "ipython",
    "version": 3
   },
   "file_extension": ".py",
   "mimetype": "text/x-python",
   "name": "python",
   "nbconvert_exporter": "python",
   "pygments_lexer": "ipython3",
   "version": "3.10.12"
  },
  "papermill": {
   "default_parameters": {},
   "duration": 369.856383,
   "end_time": "2023-09-22T19:06:33.865583",
   "environment_variables": {},
   "exception": null,
   "input_path": "__notebook__.ipynb",
   "output_path": "__notebook__.ipynb",
   "parameters": {},
   "start_time": "2023-09-22T19:00:24.009200",
   "version": "2.4.0"
  }
 },
 "nbformat": 4,
 "nbformat_minor": 5
}
