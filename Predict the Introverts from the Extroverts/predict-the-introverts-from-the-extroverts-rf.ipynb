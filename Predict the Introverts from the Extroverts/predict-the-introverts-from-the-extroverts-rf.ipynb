{
 "cells": [
  {
   "cell_type": "code",
   "execution_count": 1,
   "id": "933beba2",
   "metadata": {
    "execution": {
     "iopub.execute_input": "2025-07-05T22:13:27.293867Z",
     "iopub.status.busy": "2025-07-05T22:13:27.293372Z",
     "iopub.status.idle": "2025-07-05T22:13:32.169716Z",
     "shell.execute_reply": "2025-07-05T22:13:32.168484Z"
    },
    "papermill": {
     "duration": 4.886384,
     "end_time": "2025-07-05T22:13:32.171684",
     "exception": false,
     "start_time": "2025-07-05T22:13:27.285300",
     "status": "completed"
    },
    "tags": []
   },
   "outputs": [],
   "source": [
    "import pandas as pd\n",
    "import xgboost as xgb\n",
    "from sklearn.model_selection import train_test_split\n",
    "from sklearn.ensemble import RandomForestClassifier\n",
    "from sklearn.metrics import accuracy_score, precision_score, recall_score, classification_report\n",
    "from sklearn.preprocessing import LabelEncoder"
   ]
  },
  {
   "cell_type": "code",
   "execution_count": 2,
   "id": "4388715f",
   "metadata": {
    "execution": {
     "iopub.execute_input": "2025-07-05T22:13:32.184664Z",
     "iopub.status.busy": "2025-07-05T22:13:32.184207Z",
     "iopub.status.idle": "2025-07-05T22:13:32.255441Z",
     "shell.execute_reply": "2025-07-05T22:13:32.254452Z"
    },
    "papermill": {
     "duration": 0.079285,
     "end_time": "2025-07-05T22:13:32.257061",
     "exception": false,
     "start_time": "2025-07-05T22:13:32.177776",
     "status": "completed"
    },
    "tags": []
   },
   "outputs": [],
   "source": [
    "# Load the data\n",
    "train = pd.read_csv('/kaggle/input/playground-series-s5e7/train.csv')  \n",
    "test = pd.read_csv('/kaggle/input/playground-series-s5e7/test.csv')\n",
    "sample = pd.read_csv('/kaggle/input/playground-series-s5e7/sample_submission.csv')"
   ]
  },
  {
   "cell_type": "code",
   "execution_count": 3,
   "id": "ce3eb3ef",
   "metadata": {
    "execution": {
     "iopub.execute_input": "2025-07-05T22:13:32.270187Z",
     "iopub.status.busy": "2025-07-05T22:13:32.269791Z",
     "iopub.status.idle": "2025-07-05T22:13:32.286410Z",
     "shell.execute_reply": "2025-07-05T22:13:32.285436Z"
    },
    "papermill": {
     "duration": 0.025222,
     "end_time": "2025-07-05T22:13:32.288249",
     "exception": false,
     "start_time": "2025-07-05T22:13:32.263027",
     "status": "completed"
    },
    "tags": []
   },
   "outputs": [
    {
     "data": {
      "text/plain": [
       "id                              0\n",
       "Time_spent_Alone             1190\n",
       "Stage_fear                   1893\n",
       "Social_event_attendance      1180\n",
       "Going_outside                1466\n",
       "Drained_after_socializing    1149\n",
       "Friends_circle_size          1054\n",
       "Post_frequency               1264\n",
       "Personality                     0\n",
       "dtype: int64"
      ]
     },
     "execution_count": 3,
     "metadata": {},
     "output_type": "execute_result"
    }
   ],
   "source": [
    "train.isna().sum()"
   ]
  },
  {
   "cell_type": "code",
   "execution_count": 4,
   "id": "b7a638bc",
   "metadata": {
    "execution": {
     "iopub.execute_input": "2025-07-05T22:13:32.302225Z",
     "iopub.status.busy": "2025-07-05T22:13:32.301840Z",
     "iopub.status.idle": "2025-07-05T22:13:32.311525Z",
     "shell.execute_reply": "2025-07-05T22:13:32.310545Z"
    },
    "papermill": {
     "duration": 0.01849,
     "end_time": "2025-07-05T22:13:32.313209",
     "exception": false,
     "start_time": "2025-07-05T22:13:32.294719",
     "status": "completed"
    },
    "tags": []
   },
   "outputs": [
    {
     "data": {
      "text/plain": [
       "id                             0\n",
       "Time_spent_Alone             425\n",
       "Stage_fear                   598\n",
       "Social_event_attendance      397\n",
       "Going_outside                466\n",
       "Drained_after_socializing    432\n",
       "Friends_circle_size          350\n",
       "Post_frequency               408\n",
       "dtype: int64"
      ]
     },
     "execution_count": 4,
     "metadata": {},
     "output_type": "execute_result"
    }
   ],
   "source": [
    "test.isna().sum()"
   ]
  },
  {
   "cell_type": "markdown",
   "id": "2d6579d9",
   "metadata": {
    "papermill": {
     "duration": 0.005108,
     "end_time": "2025-07-05T22:13:32.323801",
     "exception": false,
     "start_time": "2025-07-05T22:13:32.318693",
     "status": "completed"
    },
    "tags": []
   },
   "source": [
    "## Numerical data + Handle missing Numerical data"
   ]
  },
  {
   "cell_type": "code",
   "execution_count": 5,
   "id": "fb956210",
   "metadata": {
    "execution": {
     "iopub.execute_input": "2025-07-05T22:13:32.336148Z",
     "iopub.status.busy": "2025-07-05T22:13:32.335694Z",
     "iopub.status.idle": "2025-07-05T22:13:32.352695Z",
     "shell.execute_reply": "2025-07-05T22:13:32.351238Z"
    },
    "papermill": {
     "duration": 0.02593,
     "end_time": "2025-07-05T22:13:32.355083",
     "exception": false,
     "start_time": "2025-07-05T22:13:32.329153",
     "status": "completed"
    },
    "tags": []
   },
   "outputs": [
    {
     "name": "stderr",
     "output_type": "stream",
     "text": [
      "/tmp/ipykernel_13/927000885.py:5: FutureWarning: A value is trying to be set on a copy of a DataFrame or Series through chained assignment using an inplace method.\n",
      "The behavior will change in pandas 3.0. This inplace method will never work because the intermediate object on which we are setting values always behaves as a copy.\n",
      "\n",
      "For example, when doing 'df[col].method(value, inplace=True)', try using 'df.method({col: value}, inplace=True)' or df[col] = df[col].method(value) instead, to perform the operation inplace on the original object.\n",
      "\n",
      "\n",
      "  train[col].fillna(train[col].mean(), inplace=True)\n",
      "/tmp/ipykernel_13/927000885.py:8: FutureWarning: A value is trying to be set on a copy of a DataFrame or Series through chained assignment using an inplace method.\n",
      "The behavior will change in pandas 3.0. This inplace method will never work because the intermediate object on which we are setting values always behaves as a copy.\n",
      "\n",
      "For example, when doing 'df[col].method(value, inplace=True)', try using 'df.method({col: value}, inplace=True)' or df[col] = df[col].method(value) instead, to perform the operation inplace on the original object.\n",
      "\n",
      "\n",
      "  test[col].fillna(test[col].mean(), inplace=True)\n"
     ]
    }
   ],
   "source": [
    "# Handle missing data for numerical columns\n",
    "numerical_cols = train.select_dtypes(include=['int64', 'float64']).columns\n",
    "\n",
    "for col in numerical_cols:\n",
    "    train[col].fillna(train[col].mean(), inplace=True) \n",
    "\n",
    "for col in numerical_cols:\n",
    "    test[col].fillna(test[col].mean(), inplace=True) "
   ]
  },
  {
   "cell_type": "code",
   "execution_count": 6,
   "id": "6547f0a2",
   "metadata": {
    "execution": {
     "iopub.execute_input": "2025-07-05T22:13:32.368007Z",
     "iopub.status.busy": "2025-07-05T22:13:32.367558Z",
     "iopub.status.idle": "2025-07-05T22:13:32.388629Z",
     "shell.execute_reply": "2025-07-05T22:13:32.387549Z"
    },
    "papermill": {
     "duration": 0.029617,
     "end_time": "2025-07-05T22:13:32.390533",
     "exception": false,
     "start_time": "2025-07-05T22:13:32.360916",
     "status": "completed"
    },
    "tags": []
   },
   "outputs": [
    {
     "data": {
      "text/plain": [
       "id                         0\n",
       "Time_spent_Alone           0\n",
       "Social_event_attendance    0\n",
       "Going_outside              0\n",
       "Friends_circle_size        0\n",
       "Post_frequency             0\n",
       "dtype: int64"
      ]
     },
     "execution_count": 6,
     "metadata": {},
     "output_type": "execute_result"
    }
   ],
   "source": [
    "test[numerical_cols].isna().sum()"
   ]
  },
  {
   "cell_type": "code",
   "execution_count": 7,
   "id": "eea94866",
   "metadata": {
    "execution": {
     "iopub.execute_input": "2025-07-05T22:13:32.403957Z",
     "iopub.status.busy": "2025-07-05T22:13:32.403595Z",
     "iopub.status.idle": "2025-07-05T22:13:32.414423Z",
     "shell.execute_reply": "2025-07-05T22:13:32.413260Z"
    },
    "papermill": {
     "duration": 0.01973,
     "end_time": "2025-07-05T22:13:32.416233",
     "exception": false,
     "start_time": "2025-07-05T22:13:32.396503",
     "status": "completed"
    },
    "tags": []
   },
   "outputs": [
    {
     "data": {
      "text/plain": [
       "id                         0\n",
       "Time_spent_Alone           0\n",
       "Social_event_attendance    0\n",
       "Going_outside              0\n",
       "Friends_circle_size        0\n",
       "Post_frequency             0\n",
       "dtype: int64"
      ]
     },
     "execution_count": 7,
     "metadata": {},
     "output_type": "execute_result"
    }
   ],
   "source": [
    "train[numerical_cols].isna().sum()"
   ]
  },
  {
   "cell_type": "markdown",
   "id": "12b45edb",
   "metadata": {
    "papermill": {
     "duration": 0.005758,
     "end_time": "2025-07-05T22:13:32.427816",
     "exception": false,
     "start_time": "2025-07-05T22:13:32.422058",
     "status": "completed"
    },
    "tags": []
   },
   "source": [
    "## Categorical data + handle missing categorical data"
   ]
  },
  {
   "cell_type": "code",
   "execution_count": 8,
   "id": "c5a13457",
   "metadata": {
    "execution": {
     "iopub.execute_input": "2025-07-05T22:13:32.441040Z",
     "iopub.status.busy": "2025-07-05T22:13:32.440676Z",
     "iopub.status.idle": "2025-07-05T22:13:32.448550Z",
     "shell.execute_reply": "2025-07-05T22:13:32.447189Z"
    },
    "papermill": {
     "duration": 0.016391,
     "end_time": "2025-07-05T22:13:32.450411",
     "exception": false,
     "start_time": "2025-07-05T22:13:32.434020",
     "status": "completed"
    },
    "tags": []
   },
   "outputs": [],
   "source": [
    "X = train.drop('Personality', axis=1)  # Features\n",
    "y = train['Personality']  # Target variable"
   ]
  },
  {
   "cell_type": "code",
   "execution_count": 9,
   "id": "b6eeb959",
   "metadata": {
    "execution": {
     "iopub.execute_input": "2025-07-05T22:13:32.462825Z",
     "iopub.status.busy": "2025-07-05T22:13:32.462518Z",
     "iopub.status.idle": "2025-07-05T22:13:32.488280Z",
     "shell.execute_reply": "2025-07-05T22:13:32.486692Z"
    },
    "papermill": {
     "duration": 0.03424,
     "end_time": "2025-07-05T22:13:32.490379",
     "exception": false,
     "start_time": "2025-07-05T22:13:32.456139",
     "status": "completed"
    },
    "tags": []
   },
   "outputs": [
    {
     "data": {
      "text/html": [
       "<div>\n",
       "<style scoped>\n",
       "    .dataframe tbody tr th:only-of-type {\n",
       "        vertical-align: middle;\n",
       "    }\n",
       "\n",
       "    .dataframe tbody tr th {\n",
       "        vertical-align: top;\n",
       "    }\n",
       "\n",
       "    .dataframe thead th {\n",
       "        text-align: right;\n",
       "    }\n",
       "</style>\n",
       "<table border=\"1\" class=\"dataframe\">\n",
       "  <thead>\n",
       "    <tr style=\"text-align: right;\">\n",
       "      <th></th>\n",
       "      <th>id</th>\n",
       "      <th>Time_spent_Alone</th>\n",
       "      <th>Stage_fear</th>\n",
       "      <th>Social_event_attendance</th>\n",
       "      <th>Going_outside</th>\n",
       "      <th>Drained_after_socializing</th>\n",
       "      <th>Friends_circle_size</th>\n",
       "      <th>Post_frequency</th>\n",
       "    </tr>\n",
       "  </thead>\n",
       "  <tbody>\n",
       "    <tr>\n",
       "      <th>0</th>\n",
       "      <td>0</td>\n",
       "      <td>0.0</td>\n",
       "      <td>No</td>\n",
       "      <td>6.0</td>\n",
       "      <td>4.0</td>\n",
       "      <td>No</td>\n",
       "      <td>15.0</td>\n",
       "      <td>5.0</td>\n",
       "    </tr>\n",
       "    <tr>\n",
       "      <th>1</th>\n",
       "      <td>1</td>\n",
       "      <td>1.0</td>\n",
       "      <td>No</td>\n",
       "      <td>7.0</td>\n",
       "      <td>3.0</td>\n",
       "      <td>No</td>\n",
       "      <td>10.0</td>\n",
       "      <td>8.0</td>\n",
       "    </tr>\n",
       "    <tr>\n",
       "      <th>2</th>\n",
       "      <td>2</td>\n",
       "      <td>6.0</td>\n",
       "      <td>Yes</td>\n",
       "      <td>1.0</td>\n",
       "      <td>0.0</td>\n",
       "      <td>NaN</td>\n",
       "      <td>3.0</td>\n",
       "      <td>0.0</td>\n",
       "    </tr>\n",
       "  </tbody>\n",
       "</table>\n",
       "</div>"
      ],
      "text/plain": [
       "   id  Time_spent_Alone Stage_fear  Social_event_attendance  Going_outside  \\\n",
       "0   0               0.0         No                      6.0            4.0   \n",
       "1   1               1.0         No                      7.0            3.0   \n",
       "2   2               6.0        Yes                      1.0            0.0   \n",
       "\n",
       "  Drained_after_socializing  Friends_circle_size  Post_frequency  \n",
       "0                        No                 15.0             5.0  \n",
       "1                        No                 10.0             8.0  \n",
       "2                       NaN                  3.0             0.0  "
      ]
     },
     "execution_count": 9,
     "metadata": {},
     "output_type": "execute_result"
    }
   ],
   "source": [
    "X.head(3)"
   ]
  },
  {
   "cell_type": "code",
   "execution_count": 10,
   "id": "4dc29d89",
   "metadata": {
    "execution": {
     "iopub.execute_input": "2025-07-05T22:13:32.504563Z",
     "iopub.status.busy": "2025-07-05T22:13:32.504079Z",
     "iopub.status.idle": "2025-07-05T22:13:32.524771Z",
     "shell.execute_reply": "2025-07-05T22:13:32.523556Z"
    },
    "papermill": {
     "duration": 0.029388,
     "end_time": "2025-07-05T22:13:32.526429",
     "exception": false,
     "start_time": "2025-07-05T22:13:32.497041",
     "status": "completed"
    },
    "tags": []
   },
   "outputs": [
    {
     "name": "stderr",
     "output_type": "stream",
     "text": [
      "/tmp/ipykernel_13/2206773140.py:6: FutureWarning: A value is trying to be set on a copy of a DataFrame or Series through chained assignment using an inplace method.\n",
      "The behavior will change in pandas 3.0. This inplace method will never work because the intermediate object on which we are setting values always behaves as a copy.\n",
      "\n",
      "For example, when doing 'df[col].method(value, inplace=True)', try using 'df.method({col: value}, inplace=True)' or df[col] = df[col].method(value) instead, to perform the operation inplace on the original object.\n",
      "\n",
      "\n",
      "  X[col].fillna(X[col].mode()[0], inplace=True)\n",
      "/tmp/ipykernel_13/2206773140.py:9: FutureWarning: A value is trying to be set on a copy of a DataFrame or Series through chained assignment using an inplace method.\n",
      "The behavior will change in pandas 3.0. This inplace method will never work because the intermediate object on which we are setting values always behaves as a copy.\n",
      "\n",
      "For example, when doing 'df[col].method(value, inplace=True)', try using 'df.method({col: value}, inplace=True)' or df[col] = df[col].method(value) instead, to perform the operation inplace on the original object.\n",
      "\n",
      "\n",
      "  test[col].fillna(test[col].mode()[0], inplace=True)\n"
     ]
    }
   ],
   "source": [
    "# Handle missing data for categorical columns\n",
    "categorical_cols = X.select_dtypes(include=['object', 'category']).columns\n",
    "\n",
    "for col in categorical_cols:\n",
    "    # Fill with the most frequent value\n",
    "    X[col].fillna(X[col].mode()[0], inplace=True)\n",
    "for col in categorical_cols:\n",
    "    # Fill with the most frequent value\n",
    "    test[col].fillna(test[col].mode()[0], inplace=True)"
   ]
  },
  {
   "cell_type": "code",
   "execution_count": 11,
   "id": "f111e20a",
   "metadata": {
    "execution": {
     "iopub.execute_input": "2025-07-05T22:13:32.540393Z",
     "iopub.status.busy": "2025-07-05T22:13:32.540024Z",
     "iopub.status.idle": "2025-07-05T22:13:32.551729Z",
     "shell.execute_reply": "2025-07-05T22:13:32.550354Z"
    },
    "papermill": {
     "duration": 0.020926,
     "end_time": "2025-07-05T22:13:32.553599",
     "exception": false,
     "start_time": "2025-07-05T22:13:32.532673",
     "status": "completed"
    },
    "tags": []
   },
   "outputs": [
    {
     "data": {
      "text/plain": [
       "Stage_fear                   0\n",
       "Drained_after_socializing    0\n",
       "dtype: int64"
      ]
     },
     "execution_count": 11,
     "metadata": {},
     "output_type": "execute_result"
    }
   ],
   "source": [
    "X[categorical_cols].isna().sum()"
   ]
  },
  {
   "cell_type": "code",
   "execution_count": 12,
   "id": "534a7f73",
   "metadata": {
    "execution": {
     "iopub.execute_input": "2025-07-05T22:13:32.567600Z",
     "iopub.status.busy": "2025-07-05T22:13:32.567236Z",
     "iopub.status.idle": "2025-07-05T22:13:32.576671Z",
     "shell.execute_reply": "2025-07-05T22:13:32.575850Z"
    },
    "papermill": {
     "duration": 0.018291,
     "end_time": "2025-07-05T22:13:32.578391",
     "exception": false,
     "start_time": "2025-07-05T22:13:32.560100",
     "status": "completed"
    },
    "tags": []
   },
   "outputs": [
    {
     "data": {
      "text/plain": [
       "Stage_fear                   0\n",
       "Drained_after_socializing    0\n",
       "dtype: int64"
      ]
     },
     "execution_count": 12,
     "metadata": {},
     "output_type": "execute_result"
    }
   ],
   "source": [
    "test[categorical_cols].isna().sum()"
   ]
  },
  {
   "cell_type": "markdown",
   "id": "2fb8000c",
   "metadata": {
    "papermill": {
     "duration": 0.006222,
     "end_time": "2025-07-05T22:13:32.591494",
     "exception": false,
     "start_time": "2025-07-05T22:13:32.585272",
     "status": "completed"
    },
    "tags": []
   },
   "source": [
    "## Convert to numerical "
   ]
  },
  {
   "cell_type": "code",
   "execution_count": 13,
   "id": "9776da6a",
   "metadata": {
    "execution": {
     "iopub.execute_input": "2025-07-05T22:13:32.604834Z",
     "iopub.status.busy": "2025-07-05T22:13:32.604523Z",
     "iopub.status.idle": "2025-07-05T22:13:32.623293Z",
     "shell.execute_reply": "2025-07-05T22:13:32.622305Z"
    },
    "papermill": {
     "duration": 0.027522,
     "end_time": "2025-07-05T22:13:32.625155",
     "exception": false,
     "start_time": "2025-07-05T22:13:32.597633",
     "status": "completed"
    },
    "tags": []
   },
   "outputs": [],
   "source": [
    "# One-hot encoding for categorical variables\n",
    "X = pd.get_dummies(X, columns=categorical_cols, drop_first=True)\n",
    "test = pd.get_dummies(test, columns=categorical_cols, drop_first=True)"
   ]
  },
  {
   "cell_type": "code",
   "execution_count": 14,
   "id": "75162e15",
   "metadata": {
    "execution": {
     "iopub.execute_input": "2025-07-05T22:13:32.638761Z",
     "iopub.status.busy": "2025-07-05T22:13:32.638412Z",
     "iopub.status.idle": "2025-07-05T22:13:32.653411Z",
     "shell.execute_reply": "2025-07-05T22:13:32.652305Z"
    },
    "papermill": {
     "duration": 0.0236,
     "end_time": "2025-07-05T22:13:32.655059",
     "exception": false,
     "start_time": "2025-07-05T22:13:32.631459",
     "status": "completed"
    },
    "tags": []
   },
   "outputs": [
    {
     "data": {
      "text/html": [
       "<div>\n",
       "<style scoped>\n",
       "    .dataframe tbody tr th:only-of-type {\n",
       "        vertical-align: middle;\n",
       "    }\n",
       "\n",
       "    .dataframe tbody tr th {\n",
       "        vertical-align: top;\n",
       "    }\n",
       "\n",
       "    .dataframe thead th {\n",
       "        text-align: right;\n",
       "    }\n",
       "</style>\n",
       "<table border=\"1\" class=\"dataframe\">\n",
       "  <thead>\n",
       "    <tr style=\"text-align: right;\">\n",
       "      <th></th>\n",
       "      <th>id</th>\n",
       "      <th>Time_spent_Alone</th>\n",
       "      <th>Social_event_attendance</th>\n",
       "      <th>Going_outside</th>\n",
       "      <th>Friends_circle_size</th>\n",
       "      <th>Post_frequency</th>\n",
       "      <th>Stage_fear_Yes</th>\n",
       "      <th>Drained_after_socializing_Yes</th>\n",
       "    </tr>\n",
       "  </thead>\n",
       "  <tbody>\n",
       "    <tr>\n",
       "      <th>0</th>\n",
       "      <td>0</td>\n",
       "      <td>0.0</td>\n",
       "      <td>6.0</td>\n",
       "      <td>4.0</td>\n",
       "      <td>15.0</td>\n",
       "      <td>5.0</td>\n",
       "      <td>False</td>\n",
       "      <td>False</td>\n",
       "    </tr>\n",
       "    <tr>\n",
       "      <th>1</th>\n",
       "      <td>1</td>\n",
       "      <td>1.0</td>\n",
       "      <td>7.0</td>\n",
       "      <td>3.0</td>\n",
       "      <td>10.0</td>\n",
       "      <td>8.0</td>\n",
       "      <td>False</td>\n",
       "      <td>False</td>\n",
       "    </tr>\n",
       "    <tr>\n",
       "      <th>2</th>\n",
       "      <td>2</td>\n",
       "      <td>6.0</td>\n",
       "      <td>1.0</td>\n",
       "      <td>0.0</td>\n",
       "      <td>3.0</td>\n",
       "      <td>0.0</td>\n",
       "      <td>True</td>\n",
       "      <td>False</td>\n",
       "    </tr>\n",
       "  </tbody>\n",
       "</table>\n",
       "</div>"
      ],
      "text/plain": [
       "   id  Time_spent_Alone  Social_event_attendance  Going_outside  \\\n",
       "0   0               0.0                      6.0            4.0   \n",
       "1   1               1.0                      7.0            3.0   \n",
       "2   2               6.0                      1.0            0.0   \n",
       "\n",
       "   Friends_circle_size  Post_frequency  Stage_fear_Yes  \\\n",
       "0                 15.0             5.0           False   \n",
       "1                 10.0             8.0           False   \n",
       "2                  3.0             0.0            True   \n",
       "\n",
       "   Drained_after_socializing_Yes  \n",
       "0                          False  \n",
       "1                          False  \n",
       "2                          False  "
      ]
     },
     "execution_count": 14,
     "metadata": {},
     "output_type": "execute_result"
    }
   ],
   "source": [
    "X.head(3)"
   ]
  },
  {
   "cell_type": "code",
   "execution_count": 15,
   "id": "9e424bfc",
   "metadata": {
    "execution": {
     "iopub.execute_input": "2025-07-05T22:13:32.669207Z",
     "iopub.status.busy": "2025-07-05T22:13:32.668834Z",
     "iopub.status.idle": "2025-07-05T22:13:32.681837Z",
     "shell.execute_reply": "2025-07-05T22:13:32.680860Z"
    },
    "papermill": {
     "duration": 0.021896,
     "end_time": "2025-07-05T22:13:32.683525",
     "exception": false,
     "start_time": "2025-07-05T22:13:32.661629",
     "status": "completed"
    },
    "tags": []
   },
   "outputs": [
    {
     "data": {
      "text/html": [
       "<div>\n",
       "<style scoped>\n",
       "    .dataframe tbody tr th:only-of-type {\n",
       "        vertical-align: middle;\n",
       "    }\n",
       "\n",
       "    .dataframe tbody tr th {\n",
       "        vertical-align: top;\n",
       "    }\n",
       "\n",
       "    .dataframe thead th {\n",
       "        text-align: right;\n",
       "    }\n",
       "</style>\n",
       "<table border=\"1\" class=\"dataframe\">\n",
       "  <thead>\n",
       "    <tr style=\"text-align: right;\">\n",
       "      <th></th>\n",
       "      <th>id</th>\n",
       "      <th>Time_spent_Alone</th>\n",
       "      <th>Social_event_attendance</th>\n",
       "      <th>Going_outside</th>\n",
       "      <th>Friends_circle_size</th>\n",
       "      <th>Post_frequency</th>\n",
       "      <th>Stage_fear_Yes</th>\n",
       "      <th>Drained_after_socializing_Yes</th>\n",
       "    </tr>\n",
       "  </thead>\n",
       "  <tbody>\n",
       "    <tr>\n",
       "      <th>0</th>\n",
       "      <td>18524</td>\n",
       "      <td>3.00000</td>\n",
       "      <td>7.0</td>\n",
       "      <td>4.0</td>\n",
       "      <td>6.0</td>\n",
       "      <td>5.028958</td>\n",
       "      <td>False</td>\n",
       "      <td>False</td>\n",
       "    </tr>\n",
       "    <tr>\n",
       "      <th>1</th>\n",
       "      <td>18525</td>\n",
       "      <td>3.11687</td>\n",
       "      <td>0.0</td>\n",
       "      <td>0.0</td>\n",
       "      <td>5.0</td>\n",
       "      <td>1.000000</td>\n",
       "      <td>True</td>\n",
       "      <td>True</td>\n",
       "    </tr>\n",
       "    <tr>\n",
       "      <th>2</th>\n",
       "      <td>18526</td>\n",
       "      <td>3.00000</td>\n",
       "      <td>5.0</td>\n",
       "      <td>6.0</td>\n",
       "      <td>15.0</td>\n",
       "      <td>9.000000</td>\n",
       "      <td>False</td>\n",
       "      <td>False</td>\n",
       "    </tr>\n",
       "  </tbody>\n",
       "</table>\n",
       "</div>"
      ],
      "text/plain": [
       "      id  Time_spent_Alone  Social_event_attendance  Going_outside  \\\n",
       "0  18524           3.00000                      7.0            4.0   \n",
       "1  18525           3.11687                      0.0            0.0   \n",
       "2  18526           3.00000                      5.0            6.0   \n",
       "\n",
       "   Friends_circle_size  Post_frequency  Stage_fear_Yes  \\\n",
       "0                  6.0        5.028958           False   \n",
       "1                  5.0        1.000000            True   \n",
       "2                 15.0        9.000000           False   \n",
       "\n",
       "   Drained_after_socializing_Yes  \n",
       "0                          False  \n",
       "1                           True  \n",
       "2                          False  "
      ]
     },
     "execution_count": 15,
     "metadata": {},
     "output_type": "execute_result"
    }
   ],
   "source": [
    "test.head(3)"
   ]
  },
  {
   "cell_type": "code",
   "execution_count": 16,
   "id": "26f7dcd5",
   "metadata": {
    "execution": {
     "iopub.execute_input": "2025-07-05T22:13:32.697949Z",
     "iopub.status.busy": "2025-07-05T22:13:32.697603Z",
     "iopub.status.idle": "2025-07-05T22:13:32.708803Z",
     "shell.execute_reply": "2025-07-05T22:13:32.707811Z"
    },
    "papermill": {
     "duration": 0.020617,
     "end_time": "2025-07-05T22:13:32.710837",
     "exception": false,
     "start_time": "2025-07-05T22:13:32.690220",
     "status": "completed"
    },
    "tags": []
   },
   "outputs": [
    {
     "data": {
      "text/html": [
       "<div>\n",
       "<style scoped>\n",
       "    .dataframe tbody tr th:only-of-type {\n",
       "        vertical-align: middle;\n",
       "    }\n",
       "\n",
       "    .dataframe tbody tr th {\n",
       "        vertical-align: top;\n",
       "    }\n",
       "\n",
       "    .dataframe thead th {\n",
       "        text-align: right;\n",
       "    }\n",
       "</style>\n",
       "<table border=\"1\" class=\"dataframe\">\n",
       "  <thead>\n",
       "    <tr style=\"text-align: right;\">\n",
       "      <th></th>\n",
       "      <th>Personality</th>\n",
       "    </tr>\n",
       "  </thead>\n",
       "  <tbody>\n",
       "    <tr>\n",
       "      <th>0</th>\n",
       "      <td>Extrovert</td>\n",
       "    </tr>\n",
       "    <tr>\n",
       "      <th>1</th>\n",
       "      <td>Extrovert</td>\n",
       "    </tr>\n",
       "    <tr>\n",
       "      <th>2</th>\n",
       "      <td>Introvert</td>\n",
       "    </tr>\n",
       "    <tr>\n",
       "      <th>3</th>\n",
       "      <td>Extrovert</td>\n",
       "    </tr>\n",
       "    <tr>\n",
       "      <th>4</th>\n",
       "      <td>Extrovert</td>\n",
       "    </tr>\n",
       "    <tr>\n",
       "      <th>...</th>\n",
       "      <td>...</td>\n",
       "    </tr>\n",
       "    <tr>\n",
       "      <th>18519</th>\n",
       "      <td>Extrovert</td>\n",
       "    </tr>\n",
       "    <tr>\n",
       "      <th>18520</th>\n",
       "      <td>Extrovert</td>\n",
       "    </tr>\n",
       "    <tr>\n",
       "      <th>18521</th>\n",
       "      <td>Introvert</td>\n",
       "    </tr>\n",
       "    <tr>\n",
       "      <th>18522</th>\n",
       "      <td>Introvert</td>\n",
       "    </tr>\n",
       "    <tr>\n",
       "      <th>18523</th>\n",
       "      <td>Extrovert</td>\n",
       "    </tr>\n",
       "  </tbody>\n",
       "</table>\n",
       "<p>18524 rows × 1 columns</p>\n",
       "</div>"
      ],
      "text/plain": [
       "      Personality\n",
       "0       Extrovert\n",
       "1       Extrovert\n",
       "2       Introvert\n",
       "3       Extrovert\n",
       "4       Extrovert\n",
       "...           ...\n",
       "18519   Extrovert\n",
       "18520   Extrovert\n",
       "18521   Introvert\n",
       "18522   Introvert\n",
       "18523   Extrovert\n",
       "\n",
       "[18524 rows x 1 columns]"
      ]
     },
     "execution_count": 16,
     "metadata": {},
     "output_type": "execute_result"
    }
   ],
   "source": [
    "Y = pd.DataFrame(y)\n",
    "Y"
   ]
  },
  {
   "cell_type": "code",
   "execution_count": 17,
   "id": "a4b14532",
   "metadata": {
    "execution": {
     "iopub.execute_input": "2025-07-05T22:13:32.725587Z",
     "iopub.status.busy": "2025-07-05T22:13:32.725259Z",
     "iopub.status.idle": "2025-07-05T22:13:32.734824Z",
     "shell.execute_reply": "2025-07-05T22:13:32.733617Z"
    },
    "papermill": {
     "duration": 0.019031,
     "end_time": "2025-07-05T22:13:32.736803",
     "exception": false,
     "start_time": "2025-07-05T22:13:32.717772",
     "status": "completed"
    },
    "tags": []
   },
   "outputs": [],
   "source": [
    "label_encoder = LabelEncoder()\n",
    "Y['Personality'] = label_encoder.fit_transform(Y['Personality'])"
   ]
  },
  {
   "cell_type": "code",
   "execution_count": 18,
   "id": "bf11625c",
   "metadata": {
    "execution": {
     "iopub.execute_input": "2025-07-05T22:13:32.751786Z",
     "iopub.status.busy": "2025-07-05T22:13:32.751438Z",
     "iopub.status.idle": "2025-07-05T22:13:32.762284Z",
     "shell.execute_reply": "2025-07-05T22:13:32.761254Z"
    },
    "papermill": {
     "duration": 0.020246,
     "end_time": "2025-07-05T22:13:32.764027",
     "exception": false,
     "start_time": "2025-07-05T22:13:32.743781",
     "status": "completed"
    },
    "tags": []
   },
   "outputs": [],
   "source": [
    "# Split the data\n",
    "X_train, X_test, y_train, y_test = train_test_split(X, Y, test_size=0.3, random_state=42)"
   ]
  },
  {
   "cell_type": "code",
   "execution_count": 19,
   "id": "664242f6",
   "metadata": {
    "execution": {
     "iopub.execute_input": "2025-07-05T22:13:32.778630Z",
     "iopub.status.busy": "2025-07-05T22:13:32.778296Z",
     "iopub.status.idle": "2025-07-05T22:13:34.024858Z",
     "shell.execute_reply": "2025-07-05T22:13:34.023508Z"
    },
    "papermill": {
     "duration": 1.256004,
     "end_time": "2025-07-05T22:13:34.026673",
     "exception": false,
     "start_time": "2025-07-05T22:13:32.770669",
     "status": "completed"
    },
    "tags": []
   },
   "outputs": [
    {
     "name": "stdout",
     "output_type": "stream",
     "text": [
      "Accuracy: 0.9667146455559554\n",
      "Precision: 0.9665615466573811\n",
      "Recall: 0.9667146455559554\n",
      "              precision    recall  f1-score   support\n",
      "\n",
      "           0       0.97      0.98      0.98      4115\n",
      "           1       0.94      0.93      0.94      1443\n",
      "\n",
      "    accuracy                           0.97      5558\n",
      "   macro avg       0.96      0.95      0.96      5558\n",
      "weighted avg       0.97      0.97      0.97      5558\n",
      "\n"
     ]
    }
   ],
   "source": [
    "model = xgb.XGBClassifier(max_depth=200,learning_rate=0.01,n_estimators=300)\n",
    "model.fit(X_train, y_train)\n",
    "\n",
    "# Predict and evaluate\n",
    "y_pred = model.predict(X_test)\n",
    "print(\"Accuracy:\", accuracy_score(y_test, y_pred))\n",
    "print(\"Precision:\", precision_score(y_test, y_pred, average='weighted'))\n",
    "print(\"Recall:\", recall_score(y_test, y_pred, average='weighted'))\n",
    "print(classification_report(y_test, y_pred))"
   ]
  },
  {
   "cell_type": "code",
   "execution_count": 20,
   "id": "626f9704",
   "metadata": {
    "execution": {
     "iopub.execute_input": "2025-07-05T22:13:34.043377Z",
     "iopub.status.busy": "2025-07-05T22:13:34.043049Z",
     "iopub.status.idle": "2025-07-05T22:13:34.087206Z",
     "shell.execute_reply": "2025-07-05T22:13:34.086333Z"
    },
    "papermill": {
     "duration": 0.055308,
     "end_time": "2025-07-05T22:13:34.089606",
     "exception": false,
     "start_time": "2025-07-05T22:13:34.034298",
     "status": "completed"
    },
    "tags": []
   },
   "outputs": [],
   "source": [
    "prediction = model.predict(test)"
   ]
  },
  {
   "cell_type": "code",
   "execution_count": 21,
   "id": "9a4f824c",
   "metadata": {
    "execution": {
     "iopub.execute_input": "2025-07-05T22:13:34.107402Z",
     "iopub.status.busy": "2025-07-05T22:13:34.107083Z",
     "iopub.status.idle": "2025-07-05T22:13:34.117433Z",
     "shell.execute_reply": "2025-07-05T22:13:34.116545Z"
    },
    "papermill": {
     "duration": 0.020595,
     "end_time": "2025-07-05T22:13:34.119058",
     "exception": false,
     "start_time": "2025-07-05T22:13:34.098463",
     "status": "completed"
    },
    "tags": []
   },
   "outputs": [
    {
     "data": {
      "text/html": [
       "<div>\n",
       "<style scoped>\n",
       "    .dataframe tbody tr th:only-of-type {\n",
       "        vertical-align: middle;\n",
       "    }\n",
       "\n",
       "    .dataframe tbody tr th {\n",
       "        vertical-align: top;\n",
       "    }\n",
       "\n",
       "    .dataframe thead th {\n",
       "        text-align: right;\n",
       "    }\n",
       "</style>\n",
       "<table border=\"1\" class=\"dataframe\">\n",
       "  <thead>\n",
       "    <tr style=\"text-align: right;\">\n",
       "      <th></th>\n",
       "      <th>id</th>\n",
       "      <th>Personality</th>\n",
       "    </tr>\n",
       "  </thead>\n",
       "  <tbody>\n",
       "    <tr>\n",
       "      <th>0</th>\n",
       "      <td>18524</td>\n",
       "      <td>Extrovert</td>\n",
       "    </tr>\n",
       "    <tr>\n",
       "      <th>1</th>\n",
       "      <td>18525</td>\n",
       "      <td>Extrovert</td>\n",
       "    </tr>\n",
       "    <tr>\n",
       "      <th>2</th>\n",
       "      <td>18526</td>\n",
       "      <td>Extrovert</td>\n",
       "    </tr>\n",
       "  </tbody>\n",
       "</table>\n",
       "</div>"
      ],
      "text/plain": [
       "      id Personality\n",
       "0  18524   Extrovert\n",
       "1  18525   Extrovert\n",
       "2  18526   Extrovert"
      ]
     },
     "execution_count": 21,
     "metadata": {},
     "output_type": "execute_result"
    }
   ],
   "source": [
    "sample.head(3)"
   ]
  },
  {
   "cell_type": "code",
   "execution_count": 22,
   "id": "252aa140",
   "metadata": {
    "execution": {
     "iopub.execute_input": "2025-07-05T22:13:34.134632Z",
     "iopub.status.busy": "2025-07-05T22:13:34.134293Z",
     "iopub.status.idle": "2025-07-05T22:13:34.140796Z",
     "shell.execute_reply": "2025-07-05T22:13:34.139459Z"
    },
    "papermill": {
     "duration": 0.016371,
     "end_time": "2025-07-05T22:13:34.142751",
     "exception": false,
     "start_time": "2025-07-05T22:13:34.126380",
     "status": "completed"
    },
    "tags": []
   },
   "outputs": [],
   "source": [
    "original_labels = label_encoder.inverse_transform(prediction)\n"
   ]
  },
  {
   "cell_type": "code",
   "execution_count": 23,
   "id": "7faae9ef",
   "metadata": {
    "execution": {
     "iopub.execute_input": "2025-07-05T22:13:34.159075Z",
     "iopub.status.busy": "2025-07-05T22:13:34.158707Z",
     "iopub.status.idle": "2025-07-05T22:13:34.168138Z",
     "shell.execute_reply": "2025-07-05T22:13:34.167146Z"
    },
    "papermill": {
     "duration": 0.019695,
     "end_time": "2025-07-05T22:13:34.169599",
     "exception": false,
     "start_time": "2025-07-05T22:13:34.149904",
     "status": "completed"
    },
    "tags": []
   },
   "outputs": [
    {
     "data": {
      "text/html": [
       "<div>\n",
       "<style scoped>\n",
       "    .dataframe tbody tr th:only-of-type {\n",
       "        vertical-align: middle;\n",
       "    }\n",
       "\n",
       "    .dataframe tbody tr th {\n",
       "        vertical-align: top;\n",
       "    }\n",
       "\n",
       "    .dataframe thead th {\n",
       "        text-align: right;\n",
       "    }\n",
       "</style>\n",
       "<table border=\"1\" class=\"dataframe\">\n",
       "  <thead>\n",
       "    <tr style=\"text-align: right;\">\n",
       "      <th></th>\n",
       "      <th>id</th>\n",
       "      <th>Personality</th>\n",
       "    </tr>\n",
       "  </thead>\n",
       "  <tbody>\n",
       "    <tr>\n",
       "      <th>0</th>\n",
       "      <td>18524</td>\n",
       "      <td>Extrovert</td>\n",
       "    </tr>\n",
       "    <tr>\n",
       "      <th>1</th>\n",
       "      <td>18525</td>\n",
       "      <td>Introvert</td>\n",
       "    </tr>\n",
       "    <tr>\n",
       "      <th>2</th>\n",
       "      <td>18526</td>\n",
       "      <td>Extrovert</td>\n",
       "    </tr>\n",
       "  </tbody>\n",
       "</table>\n",
       "</div>"
      ],
      "text/plain": [
       "      id Personality\n",
       "0  18524   Extrovert\n",
       "1  18525   Introvert\n",
       "2  18526   Extrovert"
      ]
     },
     "execution_count": 23,
     "metadata": {},
     "output_type": "execute_result"
    }
   ],
   "source": [
    "sample['Personality'] = original_labels\n",
    "sample.head(3)"
   ]
  },
  {
   "cell_type": "code",
   "execution_count": 24,
   "id": "dbaa9c63",
   "metadata": {
    "execution": {
     "iopub.execute_input": "2025-07-05T22:13:34.185536Z",
     "iopub.status.busy": "2025-07-05T22:13:34.185144Z",
     "iopub.status.idle": "2025-07-05T22:13:34.201670Z",
     "shell.execute_reply": "2025-07-05T22:13:34.200678Z"
    },
    "papermill": {
     "duration": 0.026412,
     "end_time": "2025-07-05T22:13:34.203584",
     "exception": false,
     "start_time": "2025-07-05T22:13:34.177172",
     "status": "completed"
    },
    "tags": []
   },
   "outputs": [],
   "source": [
    "sample.to_csv('submission.csv',index=False)"
   ]
  },
  {
   "cell_type": "code",
   "execution_count": null,
   "id": "61164ab5",
   "metadata": {
    "papermill": {
     "duration": 0.006765,
     "end_time": "2025-07-05T22:13:34.217600",
     "exception": false,
     "start_time": "2025-07-05T22:13:34.210835",
     "status": "completed"
    },
    "tags": []
   },
   "outputs": [],
   "source": []
  }
 ],
 "metadata": {
  "kaggle": {
   "accelerator": "none",
   "dataSources": [
    {
     "databundleVersionId": 12738969,
     "sourceId": 91718,
     "sourceType": "competition"
    }
   ],
   "dockerImageVersionId": 31040,
   "isGpuEnabled": false,
   "isInternetEnabled": true,
   "language": "python",
   "sourceType": "notebook"
  },
  "kernelspec": {
   "display_name": "Python 3",
   "language": "python",
   "name": "python3"
  },
  "language_info": {
   "codemirror_mode": {
    "name": "ipython",
    "version": 3
   },
   "file_extension": ".py",
   "mimetype": "text/x-python",
   "name": "python",
   "nbconvert_exporter": "python",
   "pygments_lexer": "ipython3",
   "version": "3.11.11"
  },
  "papermill": {
   "default_parameters": {},
   "duration": 13.088237,
   "end_time": "2025-07-05T22:13:34.846024",
   "environment_variables": {},
   "exception": null,
   "input_path": "__notebook__.ipynb",
   "output_path": "__notebook__.ipynb",
   "parameters": {},
   "start_time": "2025-07-05T22:13:21.757787",
   "version": "2.6.0"
  }
 },
 "nbformat": 4,
 "nbformat_minor": 5
}
