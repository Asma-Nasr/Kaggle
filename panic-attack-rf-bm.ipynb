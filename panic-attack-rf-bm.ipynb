{
 "cells": [
  {
   "cell_type": "code",
   "execution_count": 1,
   "id": "d9a8e1ff",
   "metadata": {
    "_cell_guid": "b1076dfc-b9ad-4769-8c92-a6c4dae69d19",
    "_uuid": "8f2839f25d086af736a60e9eeb907d3b93b6e0e5",
    "execution": {
     "iopub.execute_input": "2025-01-24T18:51:30.749104Z",
     "iopub.status.busy": "2025-01-24T18:51:30.748601Z",
     "iopub.status.idle": "2025-01-24T18:51:33.913474Z",
     "shell.execute_reply": "2025-01-24T18:51:33.912555Z"
    },
    "papermill": {
     "duration": 3.173457,
     "end_time": "2025-01-24T18:51:33.915324",
     "exception": false,
     "start_time": "2025-01-24T18:51:30.741867",
     "status": "completed"
    },
    "tags": []
   },
   "outputs": [],
   "source": [
    "import numpy as np # linear algebra\n",
    "import pandas as pd # data processing, CSV file I/O (e.g. pd.read_csv)\n",
    "import matplotlib.pyplot as plt\n",
    "import seaborn as sns\n",
    "from sklearn.ensemble import GradientBoostingClassifier, RandomForestClassifier\n",
    "from sklearn.metrics import classification_report, confusion_matrix, ConfusionMatrixDisplay\n",
    "from sklearn.model_selection import train_test_split"
   ]
  },
  {
   "cell_type": "code",
   "execution_count": 2,
   "id": "47142b2f",
   "metadata": {
    "execution": {
     "iopub.execute_input": "2025-01-24T18:51:33.925373Z",
     "iopub.status.busy": "2025-01-24T18:51:33.924840Z",
     "iopub.status.idle": "2025-01-24T18:51:33.950703Z",
     "shell.execute_reply": "2025-01-24T18:51:33.949752Z"
    },
    "papermill": {
     "duration": 0.032581,
     "end_time": "2025-01-24T18:51:33.952558",
     "exception": false,
     "start_time": "2025-01-24T18:51:33.919977",
     "status": "completed"
    },
    "tags": []
   },
   "outputs": [],
   "source": [
    "data = pd.read_csv('/kaggle/input/panic-attack-dataset/panic_attack_dataset.csv')"
   ]
  },
  {
   "cell_type": "code",
   "execution_count": 3,
   "id": "3c5d8354",
   "metadata": {
    "execution": {
     "iopub.execute_input": "2025-01-24T18:51:33.961821Z",
     "iopub.status.busy": "2025-01-24T18:51:33.961497Z",
     "iopub.status.idle": "2025-01-24T18:51:33.999883Z",
     "shell.execute_reply": "2025-01-24T18:51:33.998905Z"
    },
    "papermill": {
     "duration": 0.044935,
     "end_time": "2025-01-24T18:51:34.001734",
     "exception": false,
     "start_time": "2025-01-24T18:51:33.956799",
     "status": "completed"
    },
    "tags": []
   },
   "outputs": [
    {
     "data": {
      "text/html": [
       "<div>\n",
       "<style scoped>\n",
       "    .dataframe tbody tr th:only-of-type {\n",
       "        vertical-align: middle;\n",
       "    }\n",
       "\n",
       "    .dataframe tbody tr th {\n",
       "        vertical-align: top;\n",
       "    }\n",
       "\n",
       "    .dataframe thead th {\n",
       "        text-align: right;\n",
       "    }\n",
       "</style>\n",
       "<table border=\"1\" class=\"dataframe\">\n",
       "  <thead>\n",
       "    <tr style=\"text-align: right;\">\n",
       "      <th></th>\n",
       "      <th>ID</th>\n",
       "      <th>Age</th>\n",
       "      <th>Gender</th>\n",
       "      <th>Panic_Attack_Frequency</th>\n",
       "      <th>Duration_Minutes</th>\n",
       "      <th>Trigger</th>\n",
       "      <th>Heart_Rate</th>\n",
       "      <th>Sweating</th>\n",
       "      <th>Shortness_of_Breath</th>\n",
       "      <th>Dizziness</th>\n",
       "      <th>...</th>\n",
       "      <th>Trembling</th>\n",
       "      <th>Medical_History</th>\n",
       "      <th>Medication</th>\n",
       "      <th>Caffeine_Intake</th>\n",
       "      <th>Exercise_Frequency</th>\n",
       "      <th>Sleep_Hours</th>\n",
       "      <th>Alcohol_Consumption</th>\n",
       "      <th>Smoking</th>\n",
       "      <th>Therapy</th>\n",
       "      <th>Panic_Score</th>\n",
       "    </tr>\n",
       "  </thead>\n",
       "  <tbody>\n",
       "    <tr>\n",
       "      <th>0</th>\n",
       "      <td>1</td>\n",
       "      <td>56</td>\n",
       "      <td>Female</td>\n",
       "      <td>9</td>\n",
       "      <td>5</td>\n",
       "      <td>Caffeine</td>\n",
       "      <td>134</td>\n",
       "      <td>Yes</td>\n",
       "      <td>No</td>\n",
       "      <td>Yes</td>\n",
       "      <td>...</td>\n",
       "      <td>No</td>\n",
       "      <td>Anxiety</td>\n",
       "      <td>No</td>\n",
       "      <td>2</td>\n",
       "      <td>3</td>\n",
       "      <td>6.4</td>\n",
       "      <td>5</td>\n",
       "      <td>Yes</td>\n",
       "      <td>Yes</td>\n",
       "      <td>5</td>\n",
       "    </tr>\n",
       "    <tr>\n",
       "      <th>1</th>\n",
       "      <td>2</td>\n",
       "      <td>46</td>\n",
       "      <td>Male</td>\n",
       "      <td>8</td>\n",
       "      <td>9</td>\n",
       "      <td>Stress</td>\n",
       "      <td>139</td>\n",
       "      <td>Yes</td>\n",
       "      <td>Yes</td>\n",
       "      <td>No</td>\n",
       "      <td>...</td>\n",
       "      <td>No</td>\n",
       "      <td>PTSD</td>\n",
       "      <td>Yes</td>\n",
       "      <td>2</td>\n",
       "      <td>5</td>\n",
       "      <td>5.0</td>\n",
       "      <td>3</td>\n",
       "      <td>No</td>\n",
       "      <td>Yes</td>\n",
       "      <td>7</td>\n",
       "    </tr>\n",
       "    <tr>\n",
       "      <th>2</th>\n",
       "      <td>3</td>\n",
       "      <td>32</td>\n",
       "      <td>Female</td>\n",
       "      <td>6</td>\n",
       "      <td>31</td>\n",
       "      <td>PTSD</td>\n",
       "      <td>141</td>\n",
       "      <td>No</td>\n",
       "      <td>Yes</td>\n",
       "      <td>Yes</td>\n",
       "      <td>...</td>\n",
       "      <td>No</td>\n",
       "      <td>Depression</td>\n",
       "      <td>No</td>\n",
       "      <td>4</td>\n",
       "      <td>0</td>\n",
       "      <td>8.3</td>\n",
       "      <td>8</td>\n",
       "      <td>No</td>\n",
       "      <td>Yes</td>\n",
       "      <td>7</td>\n",
       "    </tr>\n",
       "  </tbody>\n",
       "</table>\n",
       "<p>3 rows × 21 columns</p>\n",
       "</div>"
      ],
      "text/plain": [
       "   ID  Age  Gender  Panic_Attack_Frequency  Duration_Minutes   Trigger  \\\n",
       "0   1   56  Female                       9                 5  Caffeine   \n",
       "1   2   46    Male                       8                 9    Stress   \n",
       "2   3   32  Female                       6                31      PTSD   \n",
       "\n",
       "   Heart_Rate Sweating Shortness_of_Breath Dizziness  ... Trembling  \\\n",
       "0         134      Yes                  No       Yes  ...        No   \n",
       "1         139      Yes                 Yes        No  ...        No   \n",
       "2         141       No                 Yes       Yes  ...        No   \n",
       "\n",
       "  Medical_History Medication Caffeine_Intake  Exercise_Frequency  Sleep_Hours  \\\n",
       "0         Anxiety         No               2                   3          6.4   \n",
       "1            PTSD        Yes               2                   5          5.0   \n",
       "2      Depression         No               4                   0          8.3   \n",
       "\n",
       "   Alcohol_Consumption  Smoking Therapy Panic_Score  \n",
       "0                    5      Yes     Yes           5  \n",
       "1                    3       No     Yes           7  \n",
       "2                    8       No     Yes           7  \n",
       "\n",
       "[3 rows x 21 columns]"
      ]
     },
     "execution_count": 3,
     "metadata": {},
     "output_type": "execute_result"
    }
   ],
   "source": [
    "data.head(3)"
   ]
  },
  {
   "cell_type": "code",
   "execution_count": 4,
   "id": "99b2b649",
   "metadata": {
    "execution": {
     "iopub.execute_input": "2025-01-24T18:51:34.011824Z",
     "iopub.status.busy": "2025-01-24T18:51:34.011494Z",
     "iopub.status.idle": "2025-01-24T18:51:34.045293Z",
     "shell.execute_reply": "2025-01-24T18:51:34.044272Z"
    },
    "papermill": {
     "duration": 0.040526,
     "end_time": "2025-01-24T18:51:34.046885",
     "exception": false,
     "start_time": "2025-01-24T18:51:34.006359",
     "status": "completed"
    },
    "tags": []
   },
   "outputs": [
    {
     "data": {
      "text/html": [
       "<div>\n",
       "<style scoped>\n",
       "    .dataframe tbody tr th:only-of-type {\n",
       "        vertical-align: middle;\n",
       "    }\n",
       "\n",
       "    .dataframe tbody tr th {\n",
       "        vertical-align: top;\n",
       "    }\n",
       "\n",
       "    .dataframe thead th {\n",
       "        text-align: right;\n",
       "    }\n",
       "</style>\n",
       "<table border=\"1\" class=\"dataframe\">\n",
       "  <thead>\n",
       "    <tr style=\"text-align: right;\">\n",
       "      <th></th>\n",
       "      <th>ID</th>\n",
       "      <th>Age</th>\n",
       "      <th>Panic_Attack_Frequency</th>\n",
       "      <th>Duration_Minutes</th>\n",
       "      <th>Heart_Rate</th>\n",
       "      <th>Caffeine_Intake</th>\n",
       "      <th>Exercise_Frequency</th>\n",
       "      <th>Sleep_Hours</th>\n",
       "      <th>Alcohol_Consumption</th>\n",
       "      <th>Panic_Score</th>\n",
       "    </tr>\n",
       "  </thead>\n",
       "  <tbody>\n",
       "    <tr>\n",
       "      <th>count</th>\n",
       "      <td>1200.000000</td>\n",
       "      <td>1200.000000</td>\n",
       "      <td>1200.000000</td>\n",
       "      <td>1200.00000</td>\n",
       "      <td>1200.000000</td>\n",
       "      <td>1200.000000</td>\n",
       "      <td>1200.000000</td>\n",
       "      <td>1200.000000</td>\n",
       "      <td>1200.000000</td>\n",
       "      <td>1200.000000</td>\n",
       "    </tr>\n",
       "    <tr>\n",
       "      <th>mean</th>\n",
       "      <td>600.500000</td>\n",
       "      <td>41.134167</td>\n",
       "      <td>4.412500</td>\n",
       "      <td>24.39250</td>\n",
       "      <td>120.302500</td>\n",
       "      <td>2.539167</td>\n",
       "      <td>2.955000</td>\n",
       "      <td>6.481583</td>\n",
       "      <td>4.416667</td>\n",
       "      <td>5.569167</td>\n",
       "    </tr>\n",
       "    <tr>\n",
       "      <th>std</th>\n",
       "      <td>346.554469</td>\n",
       "      <td>13.543412</td>\n",
       "      <td>2.847648</td>\n",
       "      <td>11.39993</td>\n",
       "      <td>23.369912</td>\n",
       "      <td>1.716854</td>\n",
       "      <td>2.061516</td>\n",
       "      <td>1.405625</td>\n",
       "      <td>2.902598</td>\n",
       "      <td>2.793155</td>\n",
       "    </tr>\n",
       "    <tr>\n",
       "      <th>min</th>\n",
       "      <td>1.000000</td>\n",
       "      <td>18.000000</td>\n",
       "      <td>0.000000</td>\n",
       "      <td>5.00000</td>\n",
       "      <td>80.000000</td>\n",
       "      <td>0.000000</td>\n",
       "      <td>0.000000</td>\n",
       "      <td>4.000000</td>\n",
       "      <td>0.000000</td>\n",
       "      <td>1.000000</td>\n",
       "    </tr>\n",
       "    <tr>\n",
       "      <th>25%</th>\n",
       "      <td>300.750000</td>\n",
       "      <td>29.000000</td>\n",
       "      <td>2.000000</td>\n",
       "      <td>15.00000</td>\n",
       "      <td>100.000000</td>\n",
       "      <td>1.000000</td>\n",
       "      <td>1.000000</td>\n",
       "      <td>5.300000</td>\n",
       "      <td>2.000000</td>\n",
       "      <td>3.000000</td>\n",
       "    </tr>\n",
       "    <tr>\n",
       "      <th>50%</th>\n",
       "      <td>600.500000</td>\n",
       "      <td>42.000000</td>\n",
       "      <td>4.000000</td>\n",
       "      <td>24.00000</td>\n",
       "      <td>121.000000</td>\n",
       "      <td>3.000000</td>\n",
       "      <td>3.000000</td>\n",
       "      <td>6.500000</td>\n",
       "      <td>4.000000</td>\n",
       "      <td>6.000000</td>\n",
       "    </tr>\n",
       "    <tr>\n",
       "      <th>75%</th>\n",
       "      <td>900.250000</td>\n",
       "      <td>53.000000</td>\n",
       "      <td>7.000000</td>\n",
       "      <td>34.00000</td>\n",
       "      <td>141.000000</td>\n",
       "      <td>4.000000</td>\n",
       "      <td>5.000000</td>\n",
       "      <td>7.600000</td>\n",
       "      <td>7.000000</td>\n",
       "      <td>8.000000</td>\n",
       "    </tr>\n",
       "    <tr>\n",
       "      <th>max</th>\n",
       "      <td>1200.000000</td>\n",
       "      <td>64.000000</td>\n",
       "      <td>9.000000</td>\n",
       "      <td>44.00000</td>\n",
       "      <td>159.000000</td>\n",
       "      <td>5.000000</td>\n",
       "      <td>6.000000</td>\n",
       "      <td>9.000000</td>\n",
       "      <td>9.000000</td>\n",
       "      <td>10.000000</td>\n",
       "    </tr>\n",
       "  </tbody>\n",
       "</table>\n",
       "</div>"
      ],
      "text/plain": [
       "                ID          Age  Panic_Attack_Frequency  Duration_Minutes  \\\n",
       "count  1200.000000  1200.000000             1200.000000        1200.00000   \n",
       "mean    600.500000    41.134167                4.412500          24.39250   \n",
       "std     346.554469    13.543412                2.847648          11.39993   \n",
       "min       1.000000    18.000000                0.000000           5.00000   \n",
       "25%     300.750000    29.000000                2.000000          15.00000   \n",
       "50%     600.500000    42.000000                4.000000          24.00000   \n",
       "75%     900.250000    53.000000                7.000000          34.00000   \n",
       "max    1200.000000    64.000000                9.000000          44.00000   \n",
       "\n",
       "        Heart_Rate  Caffeine_Intake  Exercise_Frequency  Sleep_Hours  \\\n",
       "count  1200.000000      1200.000000         1200.000000  1200.000000   \n",
       "mean    120.302500         2.539167            2.955000     6.481583   \n",
       "std      23.369912         1.716854            2.061516     1.405625   \n",
       "min      80.000000         0.000000            0.000000     4.000000   \n",
       "25%     100.000000         1.000000            1.000000     5.300000   \n",
       "50%     121.000000         3.000000            3.000000     6.500000   \n",
       "75%     141.000000         4.000000            5.000000     7.600000   \n",
       "max     159.000000         5.000000            6.000000     9.000000   \n",
       "\n",
       "       Alcohol_Consumption  Panic_Score  \n",
       "count          1200.000000  1200.000000  \n",
       "mean              4.416667     5.569167  \n",
       "std               2.902598     2.793155  \n",
       "min               0.000000     1.000000  \n",
       "25%               2.000000     3.000000  \n",
       "50%               4.000000     6.000000  \n",
       "75%               7.000000     8.000000  \n",
       "max               9.000000    10.000000  "
      ]
     },
     "execution_count": 4,
     "metadata": {},
     "output_type": "execute_result"
    }
   ],
   "source": [
    "data.describe()"
   ]
  },
  {
   "cell_type": "code",
   "execution_count": 5,
   "id": "aacb3d32",
   "metadata": {
    "execution": {
     "iopub.execute_input": "2025-01-24T18:51:34.057669Z",
     "iopub.status.busy": "2025-01-24T18:51:34.057342Z",
     "iopub.status.idle": "2025-01-24T18:51:34.076805Z",
     "shell.execute_reply": "2025-01-24T18:51:34.075509Z"
    },
    "papermill": {
     "duration": 0.026509,
     "end_time": "2025-01-24T18:51:34.078431",
     "exception": false,
     "start_time": "2025-01-24T18:51:34.051922",
     "status": "completed"
    },
    "tags": []
   },
   "outputs": [
    {
     "name": "stdout",
     "output_type": "stream",
     "text": [
      "<class 'pandas.core.frame.DataFrame'>\n",
      "RangeIndex: 1200 entries, 0 to 1199\n",
      "Data columns (total 21 columns):\n",
      " #   Column                  Non-Null Count  Dtype  \n",
      "---  ------                  --------------  -----  \n",
      " 0   ID                      1200 non-null   int64  \n",
      " 1   Age                     1200 non-null   int64  \n",
      " 2   Gender                  1200 non-null   object \n",
      " 3   Panic_Attack_Frequency  1200 non-null   int64  \n",
      " 4   Duration_Minutes        1200 non-null   int64  \n",
      " 5   Trigger                 1200 non-null   object \n",
      " 6   Heart_Rate              1200 non-null   int64  \n",
      " 7   Sweating                1200 non-null   object \n",
      " 8   Shortness_of_Breath     1200 non-null   object \n",
      " 9   Dizziness               1200 non-null   object \n",
      " 10  Chest_Pain              1200 non-null   object \n",
      " 11  Trembling               1200 non-null   object \n",
      " 12  Medical_History         1078 non-null   object \n",
      " 13  Medication              1200 non-null   object \n",
      " 14  Caffeine_Intake         1200 non-null   int64  \n",
      " 15  Exercise_Frequency      1200 non-null   int64  \n",
      " 16  Sleep_Hours             1200 non-null   float64\n",
      " 17  Alcohol_Consumption     1200 non-null   int64  \n",
      " 18  Smoking                 1200 non-null   object \n",
      " 19  Therapy                 1200 non-null   object \n",
      " 20  Panic_Score             1200 non-null   int64  \n",
      "dtypes: float64(1), int64(9), object(11)\n",
      "memory usage: 197.0+ KB\n"
     ]
    }
   ],
   "source": [
    "data.info()"
   ]
  },
  {
   "cell_type": "code",
   "execution_count": 6,
   "id": "343ec6ec",
   "metadata": {
    "execution": {
     "iopub.execute_input": "2025-01-24T18:51:34.089188Z",
     "iopub.status.busy": "2025-01-24T18:51:34.088790Z",
     "iopub.status.idle": "2025-01-24T18:51:34.097426Z",
     "shell.execute_reply": "2025-01-24T18:51:34.096357Z"
    },
    "papermill": {
     "duration": 0.0159,
     "end_time": "2025-01-24T18:51:34.099036",
     "exception": false,
     "start_time": "2025-01-24T18:51:34.083136",
     "status": "completed"
    },
    "tags": []
   },
   "outputs": [
    {
     "data": {
      "text/plain": [
       "ID                          0\n",
       "Age                         0\n",
       "Gender                      0\n",
       "Panic_Attack_Frequency      0\n",
       "Duration_Minutes            0\n",
       "Trigger                     0\n",
       "Heart_Rate                  0\n",
       "Sweating                    0\n",
       "Shortness_of_Breath         0\n",
       "Dizziness                   0\n",
       "Chest_Pain                  0\n",
       "Trembling                   0\n",
       "Medical_History           122\n",
       "Medication                  0\n",
       "Caffeine_Intake             0\n",
       "Exercise_Frequency          0\n",
       "Sleep_Hours                 0\n",
       "Alcohol_Consumption         0\n",
       "Smoking                     0\n",
       "Therapy                     0\n",
       "Panic_Score                 0\n",
       "dtype: int64"
      ]
     },
     "execution_count": 6,
     "metadata": {},
     "output_type": "execute_result"
    }
   ],
   "source": [
    "data.isna().sum()"
   ]
  },
  {
   "cell_type": "code",
   "execution_count": 7,
   "id": "b897220f",
   "metadata": {
    "execution": {
     "iopub.execute_input": "2025-01-24T18:51:34.109718Z",
     "iopub.status.busy": "2025-01-24T18:51:34.109373Z",
     "iopub.status.idle": "2025-01-24T18:51:34.115294Z",
     "shell.execute_reply": "2025-01-24T18:51:34.114246Z"
    },
    "papermill": {
     "duration": 0.012938,
     "end_time": "2025-01-24T18:51:34.116819",
     "exception": false,
     "start_time": "2025-01-24T18:51:34.103881",
     "status": "completed"
    },
    "tags": []
   },
   "outputs": [
    {
     "data": {
      "text/plain": [
       "Index(['ID', 'Age', 'Gender', 'Panic_Attack_Frequency', 'Duration_Minutes',\n",
       "       'Trigger', 'Heart_Rate', 'Sweating', 'Shortness_of_Breath', 'Dizziness',\n",
       "       'Chest_Pain', 'Trembling', 'Medical_History', 'Medication',\n",
       "       'Caffeine_Intake', 'Exercise_Frequency', 'Sleep_Hours',\n",
       "       'Alcohol_Consumption', 'Smoking', 'Therapy', 'Panic_Score'],\n",
       "      dtype='object')"
      ]
     },
     "execution_count": 7,
     "metadata": {},
     "output_type": "execute_result"
    }
   ],
   "source": [
    "data.columns"
   ]
  },
  {
   "cell_type": "code",
   "execution_count": 8,
   "id": "03a64064",
   "metadata": {
    "execution": {
     "iopub.execute_input": "2025-01-24T18:51:34.128050Z",
     "iopub.status.busy": "2025-01-24T18:51:34.127603Z",
     "iopub.status.idle": "2025-01-24T18:51:34.605469Z",
     "shell.execute_reply": "2025-01-24T18:51:34.604450Z"
    },
    "papermill": {
     "duration": 0.485164,
     "end_time": "2025-01-24T18:51:34.607023",
     "exception": false,
     "start_time": "2025-01-24T18:51:34.121859",
     "status": "completed"
    },
    "tags": []
   },
   "outputs": [
    {
     "data": {
      "image/png": "[encoded data removed]",
      "text/plain": [
       "<Figure size 640x480 with 1 Axes>"
      ]
     },
     "metadata": {},
     "output_type": "display_data"
    }
   ],
   "source": [
    "panic_gender_counts = data.groupby(['Panic_Score','Gender']).size().unstack()\n",
    "\n",
    "panic_gender_counts.plot(kind='bar', stacked=True, color=['lightcoral', 'lightblue','lightgreen'])\n",
    "plt.title('Panic_Score by Gender')\n",
    "plt.xlabel('Panic Score')\n",
    "plt.ylabel('Number of Individuals')\n",
    "plt.xticks(rotation=45)\n",
    "plt.legend(title='Gender')\n",
    "plt.grid(axis='y')\n",
    "\n",
    "plt.tight_layout()\n",
    "plt.show()"
   ]
  },
  {
   "cell_type": "markdown",
   "id": "71a14db7",
   "metadata": {
    "papermill": {
     "duration": 0.005161,
     "end_time": "2025-01-24T18:51:34.617643",
     "exception": false,
     "start_time": "2025-01-24T18:51:34.612482",
     "status": "completed"
    },
    "tags": []
   },
   "source": [
    "### Introducing new features"
   ]
  },
  {
   "cell_type": "code",
   "execution_count": 9,
   "id": "46ac7990",
   "metadata": {
    "execution": {
     "iopub.execute_input": "2025-01-24T18:51:34.629626Z",
     "iopub.status.busy": "2025-01-24T18:51:34.629238Z",
     "iopub.status.idle": "2025-01-24T18:51:34.649558Z",
     "shell.execute_reply": "2025-01-24T18:51:34.648343Z"
    },
    "papermill": {
     "duration": 0.028513,
     "end_time": "2025-01-24T18:51:34.651530",
     "exception": false,
     "start_time": "2025-01-24T18:51:34.623017",
     "status": "completed"
    },
    "tags": []
   },
   "outputs": [],
   "source": [
    "data['Age_Group'] = pd.cut(data['Age'], bins=[0, 20, 30, 40, 50, 60, 70, 80], labels=['0-20', '21-30', '31-40', '41-50', '51-60', '61-70', '71-80'])\n",
    "data['Panic_Severity'] = data['Panic_Attack_Frequency'].apply(lambda x: 'High' if x >= 7 else 'Moderate' if x >= 4 else 'Low')\n",
    "data['Caffeine_Level'] = data['Caffeine_Intake'].apply(lambda x: 'High' if x > 3 else 'Low')\n",
    "data['Sleep_Quality'] = pd.cut(data['Sleep_Hours'], bins=[0, 5, 7, 9, 24], labels=['Poor', 'Average', 'Good', 'Excellent'])\n",
    "stress_triggers = ['Stress', 'Social Anxiety', 'Caffeine']\n",
    "data['Stress_Level'] = data['Trigger'].apply(lambda x: 1 if x in stress_triggers else 0)\n",
    "data['Medical_History_Indicator'] = data['Medical_History'].apply(lambda x: 1 if x in ['Anxiety', 'Depression', 'PTSD'] else 0)\n",
    "\n",
    "bins = [0, 3, 6, 10]\n",
    "labels = ['Low', 'Medium', 'High']\n",
    "data['Panic_Category'] = pd.cut(data['Panic_Score'], bins=bins, labels=labels)"
   ]
  },
  {
   "cell_type": "code",
   "execution_count": 10,
   "id": "d0c90b6a",
   "metadata": {
    "execution": {
     "iopub.execute_input": "2025-01-24T18:51:34.663833Z",
     "iopub.status.busy": "2025-01-24T18:51:34.663455Z",
     "iopub.status.idle": "2025-01-24T18:51:34.669431Z",
     "shell.execute_reply": "2025-01-24T18:51:34.668407Z"
    },
    "papermill": {
     "duration": 0.013874,
     "end_time": "2025-01-24T18:51:34.671057",
     "exception": false,
     "start_time": "2025-01-24T18:51:34.657183",
     "status": "completed"
    },
    "tags": []
   },
   "outputs": [],
   "source": [
    "mapping_dict = {'High': 2, 'Medium': 1,'Low':0}\n",
    "data['Panic_Category'] = data['Panic_Category'].map(mapping_dict)"
   ]
  },
  {
   "cell_type": "code",
   "execution_count": 11,
   "id": "f0e0a4f0",
   "metadata": {
    "execution": {
     "iopub.execute_input": "2025-01-24T18:51:34.683142Z",
     "iopub.status.busy": "2025-01-24T18:51:34.682788Z",
     "iopub.status.idle": "2025-01-24T18:51:34.789342Z",
     "shell.execute_reply": "2025-01-24T18:51:34.788410Z"
    },
    "papermill": {
     "duration": 0.114898,
     "end_time": "2025-01-24T18:51:34.791488",
     "exception": false,
     "start_time": "2025-01-24T18:51:34.676590",
     "status": "completed"
    },
    "tags": []
   },
   "outputs": [],
   "source": [
    "features_to_use = ['Age_Group', 'Panic_Severity', 'Caffeine_Level', 'Sleep_Quality', 'Stress_Level', 'Medical_History_Indicator', 'Heart_Rate', 'Sweating', 'Shortness_of_Breath', 'Dizziness', 'Chest_Pain', 'Trembling', 'Exercise_Frequency', 'Alcohol_Consumption', 'Smoking', 'Therapy']\n",
    "dataa = data[features_to_use]\n",
    "dataa = pd.get_dummies(dataa, drop_first=True)"
   ]
  },
  {
   "cell_type": "code",
   "execution_count": 12,
   "id": "aecc02d2",
   "metadata": {
    "execution": {
     "iopub.execute_input": "2025-01-24T18:51:34.803921Z",
     "iopub.status.busy": "2025-01-24T18:51:34.803581Z",
     "iopub.status.idle": "2025-01-24T18:51:34.809345Z",
     "shell.execute_reply": "2025-01-24T18:51:34.808535Z"
    },
    "papermill": {
     "duration": 0.013607,
     "end_time": "2025-01-24T18:51:34.810819",
     "exception": false,
     "start_time": "2025-01-24T18:51:34.797212",
     "status": "completed"
    },
    "tags": []
   },
   "outputs": [
    {
     "data": {
      "text/plain": [
       "Index(['Stress_Level', 'Medical_History_Indicator', 'Heart_Rate',\n",
       "       'Exercise_Frequency', 'Alcohol_Consumption', 'Age_Group_21-30',\n",
       "       'Age_Group_31-40', 'Age_Group_41-50', 'Age_Group_51-60',\n",
       "       'Age_Group_61-70', 'Age_Group_71-80', 'Panic_Severity_Low',\n",
       "       'Panic_Severity_Moderate', 'Caffeine_Level_Low',\n",
       "       'Sleep_Quality_Average', 'Sleep_Quality_Good',\n",
       "       'Sleep_Quality_Excellent', 'Sweating_Yes', 'Shortness_of_Breath_Yes',\n",
       "       'Dizziness_Yes', 'Chest_Pain_Yes', 'Trembling_Yes', 'Smoking_Yes',\n",
       "       'Therapy_Yes'],\n",
       "      dtype='object')"
      ]
     },
     "execution_count": 12,
     "metadata": {},
     "output_type": "execute_result"
    }
   ],
   "source": [
    "dataa.columns"
   ]
  },
  {
   "cell_type": "code",
   "execution_count": 13,
   "id": "f4e79a8e",
   "metadata": {
    "execution": {
     "iopub.execute_input": "2025-01-24T18:51:34.823087Z",
     "iopub.status.busy": "2025-01-24T18:51:34.822740Z",
     "iopub.status.idle": "2025-01-24T18:51:34.826595Z",
     "shell.execute_reply": "2025-01-24T18:51:34.825742Z"
    },
    "papermill": {
     "duration": 0.011554,
     "end_time": "2025-01-24T18:51:34.827960",
     "exception": false,
     "start_time": "2025-01-24T18:51:34.816406",
     "status": "completed"
    },
    "tags": []
   },
   "outputs": [],
   "source": [
    "X = dataa\n",
    "y = data['Panic_Category']"
   ]
  },
  {
   "cell_type": "code",
   "execution_count": 14,
   "id": "f9c8f910",
   "metadata": {
    "execution": {
     "iopub.execute_input": "2025-01-24T18:51:34.840490Z",
     "iopub.status.busy": "2025-01-24T18:51:34.840114Z",
     "iopub.status.idle": "2025-01-24T18:51:34.847419Z",
     "shell.execute_reply": "2025-01-24T18:51:34.846547Z"
    },
    "papermill": {
     "duration": 0.01548,
     "end_time": "2025-01-24T18:51:34.849037",
     "exception": false,
     "start_time": "2025-01-24T18:51:34.833557",
     "status": "completed"
    },
    "tags": []
   },
   "outputs": [],
   "source": [
    "X_train, X_test, y_train, y_test = train_test_split(X, y, test_size=0.2, random_state=42)"
   ]
  },
  {
   "cell_type": "code",
   "execution_count": 15,
   "id": "4c476ff7",
   "metadata": {
    "execution": {
     "iopub.execute_input": "2025-01-24T18:51:34.861836Z",
     "iopub.status.busy": "2025-01-24T18:51:34.861507Z",
     "iopub.status.idle": "2025-01-24T18:51:37.626080Z",
     "shell.execute_reply": "2025-01-24T18:51:37.624992Z"
    },
    "papermill": {
     "duration": 2.772918,
     "end_time": "2025-01-24T18:51:37.627695",
     "exception": false,
     "start_time": "2025-01-24T18:51:34.854777",
     "status": "completed"
    },
    "tags": []
   },
   "outputs": [
    {
     "name": "stdout",
     "output_type": "stream",
     "text": [
      "              precision    recall  f1-score   support\n",
      "\n",
      "           0       0.24      0.13      0.17        62\n",
      "           1       0.30      0.28      0.29        79\n",
      "           2       0.37      0.49      0.42        99\n",
      "\n",
      "    accuracy                           0.33       240\n",
      "   macro avg       0.30      0.30      0.29       240\n",
      "weighted avg       0.31      0.33      0.31       240\n",
      "\n"
     ]
    },
    {
     "data": {
      "image/png": "[encoded data removed]",
      "text/plain": [
       "<Figure size 640x480 with 2 Axes>"
      ]
     },
     "metadata": {},
     "output_type": "display_data"
    }
   ],
   "source": [
    "model = RandomForestClassifier(n_estimators=1000)\n",
    "model.fit(X_train, y_train)\n",
    "\n",
    "y_pred = model.predict(X_test)\n",
    "\n",
    "print(classification_report(y_test, y_pred))\n",
    "sns.heatmap(confusion_matrix(y_test, y_pred), annot=True, fmt='d')\n",
    "plt.title('Confusion Matrix')\n",
    "plt.xlabel('Predicted')\n",
    "plt.ylabel('Actual')\n",
    "plt.show()"
   ]
  },
  {
   "cell_type": "code",
   "execution_count": 16,
   "id": "13d63da4",
   "metadata": {
    "execution": {
     "iopub.execute_input": "2025-01-24T18:51:37.641332Z",
     "iopub.status.busy": "2025-01-24T18:51:37.640944Z",
     "iopub.status.idle": "2025-01-24T18:52:13.083331Z",
     "shell.execute_reply": "2025-01-24T18:52:13.081948Z"
    },
    "papermill": {
     "duration": 35.456627,
     "end_time": "2025-01-24T18:52:13.090608",
     "exception": false,
     "start_time": "2025-01-24T18:51:37.633981",
     "status": "completed"
    },
    "tags": []
   },
   "outputs": [
    {
     "name": "stdout",
     "output_type": "stream",
     "text": [
      "Classification Report:\n",
      "              precision    recall  f1-score   support\n",
      "\n",
      "           0       0.27      0.24      0.26        62\n",
      "           1       0.42      0.42      0.42        79\n",
      "           2       0.44      0.47      0.46        99\n",
      "\n",
      "    accuracy                           0.40       240\n",
      "   macro avg       0.38      0.38      0.38       240\n",
      "weighted avg       0.39      0.40      0.39       240\n",
      "\n"
     ]
    }
   ],
   "source": [
    "#0.091\n",
    "gbm_model = GradientBoostingClassifier(n_estimators=10000, learning_rate=0.098, max_depth=10, random_state=42)\n",
    "gbm_model.fit(X_train, y_train)\n",
    "\n",
    "y_pred = gbm_model.predict(X_test)\n",
    "\n",
    "print(\"Classification Report:\")\n",
    "print(classification_report(y_test, y_pred))\n"
   ]
  },
  {
   "cell_type": "code",
   "execution_count": 17,
   "id": "13a0b32c",
   "metadata": {
    "execution": {
     "iopub.execute_input": "2025-01-24T18:52:13.105009Z",
     "iopub.status.busy": "2025-01-24T18:52:13.104610Z",
     "iopub.status.idle": "2025-01-24T18:52:13.359185Z",
     "shell.execute_reply": "2025-01-24T18:52:13.357915Z"
    },
    "papermill": {
     "duration": 0.26357,
     "end_time": "2025-01-24T18:52:13.361071",
     "exception": false,
     "start_time": "2025-01-24T18:52:13.097501",
     "status": "completed"
    },
    "tags": []
   },
   "outputs": [
    {
     "data": {
      "image/png": "[encoded data removed]",
      "text/plain": [
       "<Figure size 640x480 with 2 Axes>"
      ]
     },
     "metadata": {},
     "output_type": "display_data"
    }
   ],
   "source": [
    "sns.heatmap(confusion_matrix(y_test, y_pred), annot=True, fmt='d')\n",
    "plt.title('Confusion Matrix')\n",
    "plt.xlabel('Predicted')\n",
    "plt.ylabel('Actual')\n",
    "plt.show()"
   ]
  }
 ],
 "metadata": {
  "kaggle": {
   "accelerator": "none",
   "dataSources": [
    {
     "datasetId": 6502343,
     "sourceId": 10503067,
     "sourceType": "datasetVersion"
    }
   ],
   "dockerImageVersionId": 30839,
   "isGpuEnabled": false,
   "isInternetEnabled": true,
   "language": "python",
   "sourceType": "notebook"
  },
  "kernelspec": {
   "display_name": "Python 3",
   "language": "python",
   "name": "python3"
  },
  "language_info": {
   "codemirror_mode": {
    "name": "ipython",
    "version": 3
   },
   "file_extension": ".py",
   "mimetype": "text/x-python",
   "name": "python",
   "nbconvert_exporter": "python",
   "pygments_lexer": "ipython3",
   "version": "3.10.12"
  },
  "papermill": {
   "default_parameters": {},
   "duration": 46.179446,
   "end_time": "2025-01-24T18:52:14.191647",
   "environment_variables": {},
   "exception": null,
   "input_path": "__notebook__.ipynb",
   "output_path": "__notebook__.ipynb",
   "parameters": {},
   "start_time": "2025-01-24T18:51:28.012201",
   "version": "2.6.0"
  }
 },
 "nbformat": 4,
 "nbformat_minor": 5
}
