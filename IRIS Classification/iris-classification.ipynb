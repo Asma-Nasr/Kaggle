{
 "cells": [
  {
   "cell_type": "markdown",
   "id": "eda4f1d7",
   "metadata": {
    "papermill": {
     "duration": 0.00497,
     "end_time": "2025-02-03T14:30:24.885420",
     "exception": false,
     "start_time": "2025-02-03T14:30:24.880450",
     "status": "completed"
    },
    "tags": []
   },
   "source": [
    "# Importing Libraries"
   ]
  },
  {
   "cell_type": "code",
   "execution_count": 1,
   "id": "c82c0013",
   "metadata": {
    "_cell_guid": "b1076dfc-b9ad-4769-8c92-a6c4dae69d19",
    "_uuid": "8f2839f25d086af736a60e9eeb907d3b93b6e0e5",
    "execution": {
     "iopub.execute_input": "2025-02-03T14:30:24.894571Z",
     "iopub.status.busy": "2025-02-03T14:30:24.894133Z",
     "iopub.status.idle": "2025-02-03T14:30:28.318177Z",
     "shell.execute_reply": "2025-02-03T14:30:28.316999Z"
    },
    "papermill": {
     "duration": 3.430413,
     "end_time": "2025-02-03T14:30:28.320097",
     "exception": false,
     "start_time": "2025-02-03T14:30:24.889684",
     "status": "completed"
    },
    "tags": []
   },
   "outputs": [],
   "source": [
    "import numpy as np # linear algebra\n",
    "import pandas as pd # data processing, CSV file I/O (e.g. pd.read_csv)\n",
    "from sklearn.model_selection import train_test_split\n",
    "from sklearn.metrics import accuracy_score, classification_report, confusion_matrix, ConfusionMatrixDisplay\n",
    "import matplotlib.pyplot as plt\n",
    "import seaborn as sns\n",
    "from sklearn.ensemble import GradientBoostingClassifier"
   ]
  },
  {
   "cell_type": "markdown",
   "id": "5064d86f",
   "metadata": {
    "papermill": {
     "duration": 0.002955,
     "end_time": "2025-02-03T14:30:28.326582",
     "exception": false,
     "start_time": "2025-02-03T14:30:28.323627",
     "status": "completed"
    },
    "tags": []
   },
   "source": [
    "# Loading data"
   ]
  },
  {
   "cell_type": "code",
   "execution_count": 2,
   "id": "e610d3dc",
   "metadata": {
    "execution": {
     "iopub.execute_input": "2025-02-03T14:30:28.334549Z",
     "iopub.status.busy": "2025-02-03T14:30:28.333724Z",
     "iopub.status.idle": "2025-02-03T14:30:28.366442Z",
     "shell.execute_reply": "2025-02-03T14:30:28.365330Z"
    },
    "papermill": {
     "duration": 0.038968,
     "end_time": "2025-02-03T14:30:28.368600",
     "exception": false,
     "start_time": "2025-02-03T14:30:28.329632",
     "status": "completed"
    },
    "tags": []
   },
   "outputs": [],
   "source": [
    "data = pd.read_csv('/kaggle/input/iris-dataset-elarged-with-smote/iris_synthetic_data.csv')"
   ]
  },
  {
   "cell_type": "code",
   "execution_count": 3,
   "id": "4347c7f8",
   "metadata": {
    "execution": {
     "iopub.execute_input": "2025-02-03T14:30:28.377085Z",
     "iopub.status.busy": "2025-02-03T14:30:28.376733Z",
     "iopub.status.idle": "2025-02-03T14:30:28.401052Z",
     "shell.execute_reply": "2025-02-03T14:30:28.399928Z"
    },
    "papermill": {
     "duration": 0.030542,
     "end_time": "2025-02-03T14:30:28.402983",
     "exception": false,
     "start_time": "2025-02-03T14:30:28.372441",
     "status": "completed"
    },
    "tags": []
   },
   "outputs": [
    {
     "data": {
      "text/html": [
       "<div>\n",
       "<style scoped>\n",
       "    .dataframe tbody tr th:only-of-type {\n",
       "        vertical-align: middle;\n",
       "    }\n",
       "\n",
       "    .dataframe tbody tr th {\n",
       "        vertical-align: top;\n",
       "    }\n",
       "\n",
       "    .dataframe thead th {\n",
       "        text-align: right;\n",
       "    }\n",
       "</style>\n",
       "<table border=\"1\" class=\"dataframe\">\n",
       "  <thead>\n",
       "    <tr style=\"text-align: right;\">\n",
       "      <th></th>\n",
       "      <th>sepal length</th>\n",
       "      <th>sepal width</th>\n",
       "      <th>petal length</th>\n",
       "      <th>petal width</th>\n",
       "      <th>label</th>\n",
       "    </tr>\n",
       "  </thead>\n",
       "  <tbody>\n",
       "    <tr>\n",
       "      <th>0</th>\n",
       "      <td>5.2</td>\n",
       "      <td>3.8</td>\n",
       "      <td>1.5</td>\n",
       "      <td>0.3</td>\n",
       "      <td>Iris-setosa</td>\n",
       "    </tr>\n",
       "    <tr>\n",
       "      <th>1</th>\n",
       "      <td>5.3</td>\n",
       "      <td>4.1</td>\n",
       "      <td>1.5</td>\n",
       "      <td>0.1</td>\n",
       "      <td>Iris-setosa</td>\n",
       "    </tr>\n",
       "    <tr>\n",
       "      <th>2</th>\n",
       "      <td>4.8</td>\n",
       "      <td>3.1</td>\n",
       "      <td>1.5</td>\n",
       "      <td>0.2</td>\n",
       "      <td>Iris-setosa</td>\n",
       "    </tr>\n",
       "  </tbody>\n",
       "</table>\n",
       "</div>"
      ],
      "text/plain": [
       "   sepal length  sepal width  petal length  petal width        label\n",
       "0           5.2          3.8           1.5          0.3  Iris-setosa\n",
       "1           5.3          4.1           1.5          0.1  Iris-setosa\n",
       "2           4.8          3.1           1.5          0.2  Iris-setosa"
      ]
     },
     "execution_count": 3,
     "metadata": {},
     "output_type": "execute_result"
    }
   ],
   "source": [
    "data.head(3)"
   ]
  },
  {
   "cell_type": "markdown",
   "id": "4e44b1cf",
   "metadata": {
    "papermill": {
     "duration": 0.003238,
     "end_time": "2025-02-03T14:30:28.410351",
     "exception": false,
     "start_time": "2025-02-03T14:30:28.407113",
     "status": "completed"
    },
    "tags": []
   },
   "source": [
    "# Checking for missing values"
   ]
  },
  {
   "cell_type": "code",
   "execution_count": 4,
   "id": "494166ca",
   "metadata": {
    "execution": {
     "iopub.execute_input": "2025-02-03T14:30:28.418951Z",
     "iopub.status.busy": "2025-02-03T14:30:28.418572Z",
     "iopub.status.idle": "2025-02-03T14:30:28.427575Z",
     "shell.execute_reply": "2025-02-03T14:30:28.426608Z"
    },
    "papermill": {
     "duration": 0.015673,
     "end_time": "2025-02-03T14:30:28.429626",
     "exception": false,
     "start_time": "2025-02-03T14:30:28.413953",
     "status": "completed"
    },
    "tags": []
   },
   "outputs": [
    {
     "data": {
      "text/plain": [
       "sepal length    0\n",
       "sepal width     0\n",
       "petal length    0\n",
       "petal width     0\n",
       "label           0\n",
       "dtype: int64"
      ]
     },
     "execution_count": 4,
     "metadata": {},
     "output_type": "execute_result"
    }
   ],
   "source": [
    "data.isna().sum()"
   ]
  },
  {
   "cell_type": "markdown",
   "id": "f8f55631",
   "metadata": {
    "papermill": {
     "duration": 0.003436,
     "end_time": "2025-02-03T14:30:28.437314",
     "exception": false,
     "start_time": "2025-02-03T14:30:28.433878",
     "status": "completed"
    },
    "tags": []
   },
   "source": [
    "# Data Splitting"
   ]
  },
  {
   "cell_type": "code",
   "execution_count": 5,
   "id": "40bf1346",
   "metadata": {
    "execution": {
     "iopub.execute_input": "2025-02-03T14:30:28.445737Z",
     "iopub.status.busy": "2025-02-03T14:30:28.445376Z",
     "iopub.status.idle": "2025-02-03T14:30:28.456003Z",
     "shell.execute_reply": "2025-02-03T14:30:28.454847Z"
    },
    "papermill": {
     "duration": 0.017178,
     "end_time": "2025-02-03T14:30:28.457985",
     "exception": false,
     "start_time": "2025-02-03T14:30:28.440807",
     "status": "completed"
    },
    "tags": []
   },
   "outputs": [],
   "source": [
    "X = data.drop(columns=['label'])\n",
    "y = data['label']"
   ]
  },
  {
   "cell_type": "code",
   "execution_count": 6,
   "id": "5b44cfa9",
   "metadata": {
    "execution": {
     "iopub.execute_input": "2025-02-03T14:30:28.467087Z",
     "iopub.status.busy": "2025-02-03T14:30:28.466770Z",
     "iopub.status.idle": "2025-02-03T14:30:28.473991Z",
     "shell.execute_reply": "2025-02-03T14:30:28.472776Z"
    },
    "papermill": {
     "duration": 0.013451,
     "end_time": "2025-02-03T14:30:28.475810",
     "exception": false,
     "start_time": "2025-02-03T14:30:28.462359",
     "status": "completed"
    },
    "tags": []
   },
   "outputs": [],
   "source": [
    "X_train, X_test, y_train, y_test = train_test_split(X, y, test_size=0.3, random_state=42)"
   ]
  },
  {
   "cell_type": "markdown",
   "id": "caf8dc93",
   "metadata": {
    "papermill": {
     "duration": 0.003426,
     "end_time": "2025-02-03T14:30:28.483009",
     "exception": false,
     "start_time": "2025-02-03T14:30:28.479583",
     "status": "completed"
    },
    "tags": []
   },
   "source": [
    "# Gradient Boosting Classifier"
   ]
  },
  {
   "cell_type": "code",
   "execution_count": 7,
   "id": "9ea405ed",
   "metadata": {
    "execution": {
     "iopub.execute_input": "2025-02-03T14:30:28.491375Z",
     "iopub.status.busy": "2025-02-03T14:30:28.490960Z",
     "iopub.status.idle": "2025-02-03T14:30:28.601885Z",
     "shell.execute_reply": "2025-02-03T14:30:28.600688Z"
    },
    "papermill": {
     "duration": 0.117402,
     "end_time": "2025-02-03T14:30:28.603940",
     "exception": false,
     "start_time": "2025-02-03T14:30:28.486538",
     "status": "completed"
    },
    "tags": []
   },
   "outputs": [],
   "source": [
    "gbm_model = GradientBoostingClassifier(n_estimators=10, learning_rate=0.098, max_depth=80, random_state=42)\n",
    "gbm_model.fit(X_train, y_train)\n",
    "\n",
    "y_pred = gbm_model.predict(X_test)"
   ]
  },
  {
   "cell_type": "markdown",
   "id": "7be574af",
   "metadata": {
    "papermill": {
     "duration": 0.003783,
     "end_time": "2025-02-03T14:30:28.611585",
     "exception": false,
     "start_time": "2025-02-03T14:30:28.607802",
     "status": "completed"
    },
    "tags": []
   },
   "source": [
    "# Classification Report"
   ]
  },
  {
   "cell_type": "code",
   "execution_count": 8,
   "id": "52dccd8c",
   "metadata": {
    "execution": {
     "iopub.execute_input": "2025-02-03T14:30:28.619857Z",
     "iopub.status.busy": "2025-02-03T14:30:28.619525Z",
     "iopub.status.idle": "2025-02-03T14:30:28.653626Z",
     "shell.execute_reply": "2025-02-03T14:30:28.652538Z"
    },
    "papermill": {
     "duration": 0.040136,
     "end_time": "2025-02-03T14:30:28.655183",
     "exception": false,
     "start_time": "2025-02-03T14:30:28.615047",
     "status": "completed"
    },
    "tags": []
   },
   "outputs": [
    {
     "name": "stdout",
     "output_type": "stream",
     "text": [
      "Classification Report:\n",
      "                 precision    recall  f1-score   support\n",
      "\n",
      "    Iris-setosa       1.00      1.00      1.00       313\n",
      "Iris-versicolor       1.00      1.00      1.00       291\n",
      " Iris-virginica       1.00      1.00      1.00       296\n",
      "\n",
      "       accuracy                           1.00       900\n",
      "      macro avg       1.00      1.00      1.00       900\n",
      "   weighted avg       1.00      1.00      1.00       900\n",
      "\n"
     ]
    }
   ],
   "source": [
    "print(\"Classification Report:\")\n",
    "print(classification_report(y_test, y_pred))"
   ]
  },
  {
   "cell_type": "markdown",
   "id": "1226add9",
   "metadata": {
    "papermill": {
     "duration": 0.003427,
     "end_time": "2025-02-03T14:30:28.662959",
     "exception": false,
     "start_time": "2025-02-03T14:30:28.659532",
     "status": "completed"
    },
    "tags": []
   },
   "source": [
    "# Confusion Matrix"
   ]
  },
  {
   "cell_type": "code",
   "execution_count": 9,
   "id": "4997c3f4",
   "metadata": {
    "execution": {
     "iopub.execute_input": "2025-02-03T14:30:28.672359Z",
     "iopub.status.busy": "2025-02-03T14:30:28.671858Z",
     "iopub.status.idle": "2025-02-03T14:30:28.986592Z",
     "shell.execute_reply": "2025-02-03T14:30:28.985566Z"
    },
    "papermill": {
     "duration": 0.3214,
     "end_time": "2025-02-03T14:30:28.988112",
     "exception": false,
     "start_time": "2025-02-03T14:30:28.666712",
     "status": "completed"
    },
    "tags": []
   },
   "outputs": [
    {
     "data": {
      "image/png": "[encoded data removed]",
      "text/plain": [
       "<Figure size 640x480 with 2 Axes>"
      ]
     },
     "metadata": {},
     "output_type": "display_data"
    }
   ],
   "source": [
    "sns.heatmap(confusion_matrix(y_test, y_pred), annot=True, fmt='d')\n",
    "plt.title('Confusion Matrix')\n",
    "plt.xlabel('Predicted')\n",
    "plt.ylabel('Actual')\n",
    "plt.show()"
   ]
  }
 ],
 "metadata": {
  "kaggle": {
   "accelerator": "none",
   "dataSources": [
    {
     "datasetId": 6450126,
     "sourceId": 10408569,
     "sourceType": "datasetVersion"
    }
   ],
   "dockerImageVersionId": 30839,
   "isGpuEnabled": false,
   "isInternetEnabled": true,
   "language": "python",
   "sourceType": "notebook"
  },
  "kernelspec": {
   "display_name": "Python 3",
   "language": "python",
   "name": "python3"
  },
  "language_info": {
   "codemirror_mode": {
    "name": "ipython",
    "version": 3
   },
   "file_extension": ".py",
   "mimetype": "text/x-python",
   "name": "python",
   "nbconvert_exporter": "python",
   "pygments_lexer": "ipython3",
   "version": "3.10.12"
  },
  "papermill": {
   "default_parameters": {},
   "duration": 7.51992,
   "end_time": "2025-02-03T14:30:29.712443",
   "environment_variables": {},
   "exception": null,
   "input_path": "__notebook__.ipynb",
   "output_path": "__notebook__.ipynb",
   "parameters": {},
   "start_time": "2025-02-03T14:30:22.192523",
   "version": "2.6.0"
  }
 },
 "nbformat": 4,
 "nbformat_minor": 5
}
