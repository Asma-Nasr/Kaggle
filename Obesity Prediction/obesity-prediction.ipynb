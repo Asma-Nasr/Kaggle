{
 "cells": [
  {
   "cell_type": "markdown",
   "id": "83fe371f",
   "metadata": {
    "papermill": {
     "duration": 0.004777,
     "end_time": "2025-01-26T20:54:10.809371",
     "exception": false,
     "start_time": "2025-01-26T20:54:10.804594",
     "status": "completed"
    },
    "tags": []
   },
   "source": [
    "### Importing Libraries"
   ]
  },
  {
   "cell_type": "code",
   "execution_count": 1,
   "id": "a774ff3f",
   "metadata": {
    "_cell_guid": "b1076dfc-b9ad-4769-8c92-a6c4dae69d19",
    "_uuid": "8f2839f25d086af736a60e9eeb907d3b93b6e0e5",
    "execution": {
     "iopub.execute_input": "2025-01-26T20:54:10.819043Z",
     "iopub.status.busy": "2025-01-26T20:54:10.818663Z",
     "iopub.status.idle": "2025-01-26T20:54:13.781248Z",
     "shell.execute_reply": "2025-01-26T20:54:13.780292Z"
    },
    "papermill": {
     "duration": 2.969632,
     "end_time": "2025-01-26T20:54:13.783282",
     "exception": false,
     "start_time": "2025-01-26T20:54:10.813650",
     "status": "completed"
    },
    "tags": []
   },
   "outputs": [],
   "source": [
    "import numpy as np # linear algebra\n",
    "import pandas as pd # data processing, CSV file I/O (e.g. pd.read_csv)\n",
    "import matplotlib.pyplot as plt\n",
    "import seaborn as sns\n",
    "from sklearn.ensemble import RandomForestClassifier\n",
    "from sklearn.metrics import classification_report, confusion_matrix, ConfusionMatrixDisplay\n",
    "from sklearn.model_selection import train_test_split"
   ]
  },
  {
   "cell_type": "markdown",
   "id": "ba839c9b",
   "metadata": {
    "papermill": {
     "duration": 0.003959,
     "end_time": "2025-01-26T20:54:13.791782",
     "exception": false,
     "start_time": "2025-01-26T20:54:13.787823",
     "status": "completed"
    },
    "tags": []
   },
   "source": [
    "### Loading the dataset"
   ]
  },
  {
   "cell_type": "code",
   "execution_count": 2,
   "id": "f56ae0c0",
   "metadata": {
    "execution": {
     "iopub.execute_input": "2025-01-26T20:54:13.801719Z",
     "iopub.status.busy": "2025-01-26T20:54:13.801193Z",
     "iopub.status.idle": "2025-01-26T20:54:13.833534Z",
     "shell.execute_reply": "2025-01-26T20:54:13.832379Z"
    },
    "papermill": {
     "duration": 0.039411,
     "end_time": "2025-01-26T20:54:13.835507",
     "exception": false,
     "start_time": "2025-01-26T20:54:13.796096",
     "status": "completed"
    },
    "tags": []
   },
   "outputs": [],
   "source": [
    "data = pd.read_csv('/kaggle/input/obesity-prediction/Obesity prediction.csv')"
   ]
  },
  {
   "cell_type": "code",
   "execution_count": 3,
   "id": "d2e63b9c",
   "metadata": {
    "execution": {
     "iopub.execute_input": "2025-01-26T20:54:13.845357Z",
     "iopub.status.busy": "2025-01-26T20:54:13.844966Z",
     "iopub.status.idle": "2025-01-26T20:54:13.876034Z",
     "shell.execute_reply": "2025-01-26T20:54:13.874989Z"
    },
    "papermill": {
     "duration": 0.038196,
     "end_time": "2025-01-26T20:54:13.878125",
     "exception": false,
     "start_time": "2025-01-26T20:54:13.839929",
     "status": "completed"
    },
    "tags": []
   },
   "outputs": [
    {
     "data": {
      "text/html": [
       "<div>\n",
       "<style scoped>\n",
       "    .dataframe tbody tr th:only-of-type {\n",
       "        vertical-align: middle;\n",
       "    }\n",
       "\n",
       "    .dataframe tbody tr th {\n",
       "        vertical-align: top;\n",
       "    }\n",
       "\n",
       "    .dataframe thead th {\n",
       "        text-align: right;\n",
       "    }\n",
       "</style>\n",
       "<table border=\"1\" class=\"dataframe\">\n",
       "  <thead>\n",
       "    <tr style=\"text-align: right;\">\n",
       "      <th></th>\n",
       "      <th>Gender</th>\n",
       "      <th>Age</th>\n",
       "      <th>Height</th>\n",
       "      <th>Weight</th>\n",
       "      <th>family_history</th>\n",
       "      <th>FAVC</th>\n",
       "      <th>FCVC</th>\n",
       "      <th>NCP</th>\n",
       "      <th>CAEC</th>\n",
       "      <th>SMOKE</th>\n",
       "      <th>CH2O</th>\n",
       "      <th>SCC</th>\n",
       "      <th>FAF</th>\n",
       "      <th>TUE</th>\n",
       "      <th>CALC</th>\n",
       "      <th>MTRANS</th>\n",
       "      <th>Obesity</th>\n",
       "    </tr>\n",
       "  </thead>\n",
       "  <tbody>\n",
       "    <tr>\n",
       "      <th>0</th>\n",
       "      <td>Female</td>\n",
       "      <td>21.0</td>\n",
       "      <td>1.62</td>\n",
       "      <td>64.0</td>\n",
       "      <td>yes</td>\n",
       "      <td>no</td>\n",
       "      <td>2.0</td>\n",
       "      <td>3.0</td>\n",
       "      <td>Sometimes</td>\n",
       "      <td>no</td>\n",
       "      <td>2.0</td>\n",
       "      <td>no</td>\n",
       "      <td>0.0</td>\n",
       "      <td>1.0</td>\n",
       "      <td>no</td>\n",
       "      <td>Public_Transportation</td>\n",
       "      <td>Normal_Weight</td>\n",
       "    </tr>\n",
       "    <tr>\n",
       "      <th>1</th>\n",
       "      <td>Female</td>\n",
       "      <td>21.0</td>\n",
       "      <td>1.52</td>\n",
       "      <td>56.0</td>\n",
       "      <td>yes</td>\n",
       "      <td>no</td>\n",
       "      <td>3.0</td>\n",
       "      <td>3.0</td>\n",
       "      <td>Sometimes</td>\n",
       "      <td>yes</td>\n",
       "      <td>3.0</td>\n",
       "      <td>yes</td>\n",
       "      <td>3.0</td>\n",
       "      <td>0.0</td>\n",
       "      <td>Sometimes</td>\n",
       "      <td>Public_Transportation</td>\n",
       "      <td>Normal_Weight</td>\n",
       "    </tr>\n",
       "    <tr>\n",
       "      <th>2</th>\n",
       "      <td>Male</td>\n",
       "      <td>23.0</td>\n",
       "      <td>1.80</td>\n",
       "      <td>77.0</td>\n",
       "      <td>yes</td>\n",
       "      <td>no</td>\n",
       "      <td>2.0</td>\n",
       "      <td>3.0</td>\n",
       "      <td>Sometimes</td>\n",
       "      <td>no</td>\n",
       "      <td>2.0</td>\n",
       "      <td>no</td>\n",
       "      <td>2.0</td>\n",
       "      <td>1.0</td>\n",
       "      <td>Frequently</td>\n",
       "      <td>Public_Transportation</td>\n",
       "      <td>Normal_Weight</td>\n",
       "    </tr>\n",
       "    <tr>\n",
       "      <th>3</th>\n",
       "      <td>Male</td>\n",
       "      <td>27.0</td>\n",
       "      <td>1.80</td>\n",
       "      <td>87.0</td>\n",
       "      <td>no</td>\n",
       "      <td>no</td>\n",
       "      <td>3.0</td>\n",
       "      <td>3.0</td>\n",
       "      <td>Sometimes</td>\n",
       "      <td>no</td>\n",
       "      <td>2.0</td>\n",
       "      <td>no</td>\n",
       "      <td>2.0</td>\n",
       "      <td>0.0</td>\n",
       "      <td>Frequently</td>\n",
       "      <td>Walking</td>\n",
       "      <td>Overweight_Level_I</td>\n",
       "    </tr>\n",
       "    <tr>\n",
       "      <th>4</th>\n",
       "      <td>Male</td>\n",
       "      <td>22.0</td>\n",
       "      <td>1.78</td>\n",
       "      <td>89.8</td>\n",
       "      <td>no</td>\n",
       "      <td>no</td>\n",
       "      <td>2.0</td>\n",
       "      <td>1.0</td>\n",
       "      <td>Sometimes</td>\n",
       "      <td>no</td>\n",
       "      <td>2.0</td>\n",
       "      <td>no</td>\n",
       "      <td>0.0</td>\n",
       "      <td>0.0</td>\n",
       "      <td>Sometimes</td>\n",
       "      <td>Public_Transportation</td>\n",
       "      <td>Overweight_Level_II</td>\n",
       "    </tr>\n",
       "  </tbody>\n",
       "</table>\n",
       "</div>"
      ],
      "text/plain": [
       "   Gender   Age  Height  Weight family_history FAVC  FCVC  NCP       CAEC  \\\n",
       "0  Female  21.0    1.62    64.0            yes   no   2.0  3.0  Sometimes   \n",
       "1  Female  21.0    1.52    56.0            yes   no   3.0  3.0  Sometimes   \n",
       "2    Male  23.0    1.80    77.0            yes   no   2.0  3.0  Sometimes   \n",
       "3    Male  27.0    1.80    87.0             no   no   3.0  3.0  Sometimes   \n",
       "4    Male  22.0    1.78    89.8             no   no   2.0  1.0  Sometimes   \n",
       "\n",
       "  SMOKE  CH2O  SCC  FAF  TUE        CALC                 MTRANS  \\\n",
       "0    no   2.0   no  0.0  1.0          no  Public_Transportation   \n",
       "1   yes   3.0  yes  3.0  0.0   Sometimes  Public_Transportation   \n",
       "2    no   2.0   no  2.0  1.0  Frequently  Public_Transportation   \n",
       "3    no   2.0   no  2.0  0.0  Frequently                Walking   \n",
       "4    no   2.0   no  0.0  0.0   Sometimes  Public_Transportation   \n",
       "\n",
       "               Obesity  \n",
       "0        Normal_Weight  \n",
       "1        Normal_Weight  \n",
       "2        Normal_Weight  \n",
       "3   Overweight_Level_I  \n",
       "4  Overweight_Level_II  "
      ]
     },
     "execution_count": 3,
     "metadata": {},
     "output_type": "execute_result"
    }
   ],
   "source": [
    "data.head()"
   ]
  },
  {
   "cell_type": "markdown",
   "id": "2b0c3388",
   "metadata": {
    "papermill": {
     "duration": 0.004579,
     "end_time": "2025-01-26T20:54:13.887354",
     "exception": false,
     "start_time": "2025-01-26T20:54:13.882775",
     "status": "completed"
    },
    "tags": []
   },
   "source": [
    "### Categorical data to numerical"
   ]
  },
  {
   "cell_type": "code",
   "execution_count": 4,
   "id": "67ff866d",
   "metadata": {
    "execution": {
     "iopub.execute_input": "2025-01-26T20:54:13.897604Z",
     "iopub.status.busy": "2025-01-26T20:54:13.897223Z",
     "iopub.status.idle": "2025-01-26T20:54:13.902384Z",
     "shell.execute_reply": "2025-01-26T20:54:13.901263Z"
    },
    "papermill": {
     "duration": 0.012563,
     "end_time": "2025-01-26T20:54:13.904370",
     "exception": false,
     "start_time": "2025-01-26T20:54:13.891807",
     "status": "completed"
    },
    "tags": []
   },
   "outputs": [],
   "source": [
    "Categorical_columns = data.select_dtypes(include=['object', 'category']).columns"
   ]
  },
  {
   "cell_type": "code",
   "execution_count": 5,
   "id": "550ad4da",
   "metadata": {
    "execution": {
     "iopub.execute_input": "2025-01-26T20:54:13.914632Z",
     "iopub.status.busy": "2025-01-26T20:54:13.914257Z",
     "iopub.status.idle": "2025-01-26T20:54:13.918987Z",
     "shell.execute_reply": "2025-01-26T20:54:13.918016Z"
    },
    "papermill": {
     "duration": 0.011681,
     "end_time": "2025-01-26T20:54:13.920639",
     "exception": false,
     "start_time": "2025-01-26T20:54:13.908958",
     "status": "completed"
    },
    "tags": []
   },
   "outputs": [],
   "source": [
    "def mapping_to_num(data, column):\n",
    "    mapping = {category: idx for idx, category in enumerate(data[column].astype('category').cat.categories)}\n",
    "    data[column] = data[column].map(mapping)\n",
    "    return data, mapping"
   ]
  },
  {
   "cell_type": "code",
   "execution_count": 6,
   "id": "0b9774fd",
   "metadata": {
    "execution": {
     "iopub.execute_input": "2025-01-26T20:54:13.930725Z",
     "iopub.status.busy": "2025-01-26T20:54:13.930379Z",
     "iopub.status.idle": "2025-01-26T20:54:13.952445Z",
     "shell.execute_reply": "2025-01-26T20:54:13.951387Z"
    },
    "papermill": {
     "duration": 0.028884,
     "end_time": "2025-01-26T20:54:13.954110",
     "exception": false,
     "start_time": "2025-01-26T20:54:13.925226",
     "status": "completed"
    },
    "tags": []
   },
   "outputs": [],
   "source": [
    "mappings_dict = {}\n",
    "columns_to_map = Categorical_columns\n",
    "for col in columns_to_map:\n",
    "    data, mapping = mapping_to_num(data, col)\n",
    "    mappings_dict[col] = mapping"
   ]
  },
  {
   "cell_type": "code",
   "execution_count": 7,
   "id": "d6875e65",
   "metadata": {
    "execution": {
     "iopub.execute_input": "2025-01-26T20:54:13.964454Z",
     "iopub.status.busy": "2025-01-26T20:54:13.964103Z",
     "iopub.status.idle": "2025-01-26T20:54:13.979693Z",
     "shell.execute_reply": "2025-01-26T20:54:13.978747Z"
    },
    "papermill": {
     "duration": 0.022349,
     "end_time": "2025-01-26T20:54:13.981162",
     "exception": false,
     "start_time": "2025-01-26T20:54:13.958813",
     "status": "completed"
    },
    "tags": []
   },
   "outputs": [
    {
     "data": {
      "text/html": [
       "<div>\n",
       "<style scoped>\n",
       "    .dataframe tbody tr th:only-of-type {\n",
       "        vertical-align: middle;\n",
       "    }\n",
       "\n",
       "    .dataframe tbody tr th {\n",
       "        vertical-align: top;\n",
       "    }\n",
       "\n",
       "    .dataframe thead th {\n",
       "        text-align: right;\n",
       "    }\n",
       "</style>\n",
       "<table border=\"1\" class=\"dataframe\">\n",
       "  <thead>\n",
       "    <tr style=\"text-align: right;\">\n",
       "      <th></th>\n",
       "      <th>Gender</th>\n",
       "      <th>Age</th>\n",
       "      <th>Height</th>\n",
       "      <th>Weight</th>\n",
       "      <th>family_history</th>\n",
       "      <th>FAVC</th>\n",
       "      <th>FCVC</th>\n",
       "      <th>NCP</th>\n",
       "      <th>CAEC</th>\n",
       "      <th>SMOKE</th>\n",
       "      <th>CH2O</th>\n",
       "      <th>SCC</th>\n",
       "      <th>FAF</th>\n",
       "      <th>TUE</th>\n",
       "      <th>CALC</th>\n",
       "      <th>MTRANS</th>\n",
       "      <th>Obesity</th>\n",
       "    </tr>\n",
       "  </thead>\n",
       "  <tbody>\n",
       "    <tr>\n",
       "      <th>0</th>\n",
       "      <td>0</td>\n",
       "      <td>21.0</td>\n",
       "      <td>1.62</td>\n",
       "      <td>64.0</td>\n",
       "      <td>1</td>\n",
       "      <td>0</td>\n",
       "      <td>2.0</td>\n",
       "      <td>3.0</td>\n",
       "      <td>2</td>\n",
       "      <td>0</td>\n",
       "      <td>2.0</td>\n",
       "      <td>0</td>\n",
       "      <td>0.0</td>\n",
       "      <td>1.0</td>\n",
       "      <td>3</td>\n",
       "      <td>3</td>\n",
       "      <td>1</td>\n",
       "    </tr>\n",
       "    <tr>\n",
       "      <th>1</th>\n",
       "      <td>0</td>\n",
       "      <td>21.0</td>\n",
       "      <td>1.52</td>\n",
       "      <td>56.0</td>\n",
       "      <td>1</td>\n",
       "      <td>0</td>\n",
       "      <td>3.0</td>\n",
       "      <td>3.0</td>\n",
       "      <td>2</td>\n",
       "      <td>1</td>\n",
       "      <td>3.0</td>\n",
       "      <td>1</td>\n",
       "      <td>3.0</td>\n",
       "      <td>0.0</td>\n",
       "      <td>2</td>\n",
       "      <td>3</td>\n",
       "      <td>1</td>\n",
       "    </tr>\n",
       "    <tr>\n",
       "      <th>2</th>\n",
       "      <td>1</td>\n",
       "      <td>23.0</td>\n",
       "      <td>1.80</td>\n",
       "      <td>77.0</td>\n",
       "      <td>1</td>\n",
       "      <td>0</td>\n",
       "      <td>2.0</td>\n",
       "      <td>3.0</td>\n",
       "      <td>2</td>\n",
       "      <td>0</td>\n",
       "      <td>2.0</td>\n",
       "      <td>0</td>\n",
       "      <td>2.0</td>\n",
       "      <td>1.0</td>\n",
       "      <td>1</td>\n",
       "      <td>3</td>\n",
       "      <td>1</td>\n",
       "    </tr>\n",
       "  </tbody>\n",
       "</table>\n",
       "</div>"
      ],
      "text/plain": [
       "   Gender   Age  Height  Weight  family_history  FAVC  FCVC  NCP  CAEC  SMOKE  \\\n",
       "0       0  21.0    1.62    64.0               1     0   2.0  3.0     2      0   \n",
       "1       0  21.0    1.52    56.0               1     0   3.0  3.0     2      1   \n",
       "2       1  23.0    1.80    77.0               1     0   2.0  3.0     2      0   \n",
       "\n",
       "   CH2O  SCC  FAF  TUE  CALC  MTRANS  Obesity  \n",
       "0   2.0    0  0.0  1.0     3       3        1  \n",
       "1   3.0    1  3.0  0.0     2       3        1  \n",
       "2   2.0    0  2.0  1.0     1       3        1  "
      ]
     },
     "execution_count": 7,
     "metadata": {},
     "output_type": "execute_result"
    }
   ],
   "source": [
    "data.head(3)"
   ]
  },
  {
   "cell_type": "markdown",
   "id": "f5cc2a82",
   "metadata": {
    "papermill": {
     "duration": 0.00429,
     "end_time": "2025-01-26T20:54:13.990188",
     "exception": false,
     "start_time": "2025-01-26T20:54:13.985898",
     "status": "completed"
    },
    "tags": []
   },
   "source": [
    "### Checking for missing data"
   ]
  },
  {
   "cell_type": "code",
   "execution_count": 8,
   "id": "97d036be",
   "metadata": {
    "execution": {
     "iopub.execute_input": "2025-01-26T20:54:14.000554Z",
     "iopub.status.busy": "2025-01-26T20:54:14.000191Z",
     "iopub.status.idle": "2025-01-26T20:54:14.011607Z",
     "shell.execute_reply": "2025-01-26T20:54:14.010390Z"
    },
    "papermill": {
     "duration": 0.018694,
     "end_time": "2025-01-26T20:54:14.013440",
     "exception": false,
     "start_time": "2025-01-26T20:54:13.994746",
     "status": "completed"
    },
    "tags": []
   },
   "outputs": [
    {
     "data": {
      "text/plain": [
       "Gender            0\n",
       "Age               0\n",
       "Height            0\n",
       "Weight            0\n",
       "family_history    0\n",
       "FAVC              0\n",
       "FCVC              0\n",
       "NCP               0\n",
       "CAEC              0\n",
       "SMOKE             0\n",
       "CH2O              0\n",
       "SCC               0\n",
       "FAF               0\n",
       "TUE               0\n",
       "CALC              0\n",
       "MTRANS            0\n",
       "Obesity           0\n",
       "dtype: int64"
      ]
     },
     "execution_count": 8,
     "metadata": {},
     "output_type": "execute_result"
    }
   ],
   "source": [
    "data.isna().sum()"
   ]
  },
  {
   "cell_type": "code",
   "execution_count": 9,
   "id": "bcabedc0",
   "metadata": {
    "execution": {
     "iopub.execute_input": "2025-01-26T20:54:14.025688Z",
     "iopub.status.busy": "2025-01-26T20:54:14.025328Z",
     "iopub.status.idle": "2025-01-26T20:54:14.033042Z",
     "shell.execute_reply": "2025-01-26T20:54:14.031971Z"
    },
    "papermill": {
     "duration": 0.015071,
     "end_time": "2025-01-26T20:54:14.034762",
     "exception": false,
     "start_time": "2025-01-26T20:54:14.019691",
     "status": "completed"
    },
    "tags": []
   },
   "outputs": [],
   "source": [
    "X = data.drop(columns=['Obesity'])\n",
    "y = data['Obesity']"
   ]
  },
  {
   "cell_type": "markdown",
   "id": "55c08b01",
   "metadata": {
    "papermill": {
     "duration": 0.004598,
     "end_time": "2025-01-26T20:54:14.044149",
     "exception": false,
     "start_time": "2025-01-26T20:54:14.039551",
     "status": "completed"
    },
    "tags": []
   },
   "source": [
    "### Train Test Split"
   ]
  },
  {
   "cell_type": "code",
   "execution_count": 10,
   "id": "dc8227d6",
   "metadata": {
    "execution": {
     "iopub.execute_input": "2025-01-26T20:54:14.054737Z",
     "iopub.status.busy": "2025-01-26T20:54:14.054407Z",
     "iopub.status.idle": "2025-01-26T20:54:14.061372Z",
     "shell.execute_reply": "2025-01-26T20:54:14.060521Z"
    },
    "papermill": {
     "duration": 0.014267,
     "end_time": "2025-01-26T20:54:14.063065",
     "exception": false,
     "start_time": "2025-01-26T20:54:14.048798",
     "status": "completed"
    },
    "tags": []
   },
   "outputs": [],
   "source": [
    "X_train, X_test, y_train, y_test = train_test_split(X, y, test_size=0.2, random_state=42)"
   ]
  },
  {
   "cell_type": "markdown",
   "id": "8ef9c860",
   "metadata": {
    "papermill": {
     "duration": 0.004427,
     "end_time": "2025-01-26T20:54:14.072425",
     "exception": false,
     "start_time": "2025-01-26T20:54:14.067998",
     "status": "completed"
    },
    "tags": []
   },
   "source": [
    "### Random Forest Model"
   ]
  },
  {
   "cell_type": "code",
   "execution_count": 11,
   "id": "93421a50",
   "metadata": {
    "execution": {
     "iopub.execute_input": "2025-01-26T20:54:14.083108Z",
     "iopub.status.busy": "2025-01-26T20:54:14.082724Z",
     "iopub.status.idle": "2025-01-26T20:54:17.762741Z",
     "shell.execute_reply": "2025-01-26T20:54:17.761560Z"
    },
    "papermill": {
     "duration": 3.687432,
     "end_time": "2025-01-26T20:54:17.764553",
     "exception": false,
     "start_time": "2025-01-26T20:54:14.077121",
     "status": "completed"
    },
    "tags": []
   },
   "outputs": [],
   "source": [
    "model = RandomForestClassifier(n_estimators=1000)\n",
    "model.fit(X_train, y_train)\n",
    "y_pred = model.predict(X_test)"
   ]
  },
  {
   "cell_type": "markdown",
   "id": "4a9a497a",
   "metadata": {
    "papermill": {
     "duration": 0.004442,
     "end_time": "2025-01-26T20:54:17.774108",
     "exception": false,
     "start_time": "2025-01-26T20:54:17.769666",
     "status": "completed"
    },
    "tags": []
   },
   "source": [
    "### Classification Report"
   ]
  },
  {
   "cell_type": "code",
   "execution_count": 12,
   "id": "4d8a46d2",
   "metadata": {
    "execution": {
     "iopub.execute_input": "2025-01-26T20:54:17.784720Z",
     "iopub.status.busy": "2025-01-26T20:54:17.784360Z",
     "iopub.status.idle": "2025-01-26T20:54:17.798548Z",
     "shell.execute_reply": "2025-01-26T20:54:17.797370Z"
    },
    "papermill": {
     "duration": 0.021551,
     "end_time": "2025-01-26T20:54:17.800406",
     "exception": false,
     "start_time": "2025-01-26T20:54:17.778855",
     "status": "completed"
    },
    "tags": []
   },
   "outputs": [
    {
     "name": "stdout",
     "output_type": "stream",
     "text": [
      "              precision    recall  f1-score   support\n",
      "\n",
      "           0       1.00      0.96      0.98        56\n",
      "           1       0.88      0.92      0.90        62\n",
      "           2       0.99      0.97      0.98        78\n",
      "           3       0.97      0.98      0.97        58\n",
      "           4       1.00      1.00      1.00        63\n",
      "           5       0.88      0.88      0.88        56\n",
      "           6       0.98      0.96      0.97        50\n",
      "\n",
      "    accuracy                           0.96       423\n",
      "   macro avg       0.95      0.95      0.95       423\n",
      "weighted avg       0.96      0.96      0.96       423\n",
      "\n"
     ]
    }
   ],
   "source": [
    "print(classification_report(y_test, y_pred))"
   ]
  },
  {
   "cell_type": "markdown",
   "id": "bbf1aa45",
   "metadata": {
    "papermill": {
     "duration": 0.004551,
     "end_time": "2025-01-26T20:54:17.809917",
     "exception": false,
     "start_time": "2025-01-26T20:54:17.805366",
     "status": "completed"
    },
    "tags": []
   },
   "source": [
    "### Confusion Matrix"
   ]
  },
  {
   "cell_type": "code",
   "execution_count": 13,
   "id": "ae52184b",
   "metadata": {
    "execution": {
     "iopub.execute_input": "2025-01-26T20:54:17.820491Z",
     "iopub.status.busy": "2025-01-26T20:54:17.820140Z",
     "iopub.status.idle": "2025-01-26T20:54:18.363862Z",
     "shell.execute_reply": "2025-01-26T20:54:18.362823Z"
    },
    "papermill": {
     "duration": 0.551042,
     "end_time": "2025-01-26T20:54:18.365610",
     "exception": false,
     "start_time": "2025-01-26T20:54:17.814568",
     "status": "completed"
    },
    "tags": []
   },
   "outputs": [
    {
     "data": {
      "image/png": "[encoded data removed]",
      "text/plain": [
       "<Figure size 640x480 with 2 Axes>"
      ]
     },
     "metadata": {},
     "output_type": "display_data"
    }
   ],
   "source": [
    "sns.heatmap(confusion_matrix(y_test, y_pred), annot=True, fmt='d')\n",
    "plt.title('Confusion Matrix')\n",
    "plt.xlabel('Predicted')\n",
    "plt.ylabel('Actual')\n",
    "plt.show()"
   ]
  }
 ],
 "metadata": {
  "kaggle": {
   "accelerator": "none",
   "dataSources": [
    {
     "datasetId": 6479256,
     "sourceId": 10465193,
     "sourceType": "datasetVersion"
    }
   ],
   "dockerImageVersionId": 30839,
   "isGpuEnabled": false,
   "isInternetEnabled": true,
   "language": "python",
   "sourceType": "notebook"
  },
  "kernelspec": {
   "display_name": "Python 3",
   "language": "python",
   "name": "python3"
  },
  "language_info": {
   "codemirror_mode": {
    "name": "ipython",
    "version": 3
   },
   "file_extension": ".py",
   "mimetype": "text/x-python",
   "name": "python",
   "nbconvert_exporter": "python",
   "pygments_lexer": "ipython3",
   "version": "3.10.12"
  },
  "papermill": {
   "default_parameters": {},
   "duration": 11.084763,
   "end_time": "2025-01-26T20:54:19.092080",
   "environment_variables": {},
   "exception": null,
   "input_path": "__notebook__.ipynb",
   "output_path": "__notebook__.ipynb",
   "parameters": {},
   "start_time": "2025-01-26T20:54:08.007317",
   "version": "2.6.0"
  }
 },
 "nbformat": 4,
 "nbformat_minor": 5
}
