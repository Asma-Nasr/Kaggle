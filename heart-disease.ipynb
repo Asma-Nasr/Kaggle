{
 "cells": [
  {
   "cell_type": "markdown",
   "id": "322818af",
   "metadata": {
    "papermill": {
     "duration": 0.003866,
     "end_time": "2025-01-29T22:08:15.034389",
     "exception": false,
     "start_time": "2025-01-29T22:08:15.030523",
     "status": "completed"
    },
    "tags": []
   },
   "source": [
    "# Import libraries"
   ]
  },
  {
   "cell_type": "code",
   "execution_count": 1,
   "id": "de467fb0",
   "metadata": {
    "_cell_guid": "b1076dfc-b9ad-4769-8c92-a6c4dae69d19",
    "_uuid": "8f2839f25d086af736a60e9eeb907d3b93b6e0e5",
    "execution": {
     "iopub.execute_input": "2025-01-29T22:08:15.042951Z",
     "iopub.status.busy": "2025-01-29T22:08:15.042361Z",
     "iopub.status.idle": "2025-01-29T22:08:18.296832Z",
     "shell.execute_reply": "2025-01-29T22:08:18.295504Z"
    },
    "papermill": {
     "duration": 3.261643,
     "end_time": "2025-01-29T22:08:18.299480",
     "exception": false,
     "start_time": "2025-01-29T22:08:15.037837",
     "status": "completed"
    },
    "tags": []
   },
   "outputs": [],
   "source": [
    "import numpy as np # linear algebra\n",
    "import pandas as pd # data processing, CSV file I/O (e.g. pd.read_csv)\n",
    "import matplotlib.pyplot as plt\n",
    "import seaborn as sns\n",
    "from sklearn.model_selection import train_test_split\n",
    "from sklearn.ensemble import RandomForestClassifier\n",
    "from sklearn.metrics import classification_report, confusion_matrix, ConfusionMatrixDisplay"
   ]
  },
  {
   "cell_type": "markdown",
   "id": "ead0e0de",
   "metadata": {
    "papermill": {
     "duration": 0.003216,
     "end_time": "2025-01-29T22:08:18.306518",
     "exception": false,
     "start_time": "2025-01-29T22:08:18.303302",
     "status": "completed"
    },
    "tags": []
   },
   "source": [
    "# Loading the dataset"
   ]
  },
  {
   "cell_type": "code",
   "execution_count": 2,
   "id": "bc88945d",
   "metadata": {
    "execution": {
     "iopub.execute_input": "2025-01-29T22:08:18.314233Z",
     "iopub.status.busy": "2025-01-29T22:08:18.313736Z",
     "iopub.status.idle": "2025-01-29T22:08:18.330673Z",
     "shell.execute_reply": "2025-01-29T22:08:18.329749Z"
    },
    "papermill": {
     "duration": 0.022619,
     "end_time": "2025-01-29T22:08:18.332439",
     "exception": false,
     "start_time": "2025-01-29T22:08:18.309820",
     "status": "completed"
    },
    "tags": []
   },
   "outputs": [],
   "source": [
    "data = pd.read_csv('/kaggle/input/heart-disease-statlog/Heart_disease_statlog.csv')"
   ]
  },
  {
   "cell_type": "code",
   "execution_count": 3,
   "id": "848cc19e",
   "metadata": {
    "execution": {
     "iopub.execute_input": "2025-01-29T22:08:18.340257Z",
     "iopub.status.busy": "2025-01-29T22:08:18.339932Z",
     "iopub.status.idle": "2025-01-29T22:08:18.364464Z",
     "shell.execute_reply": "2025-01-29T22:08:18.363459Z"
    },
    "papermill": {
     "duration": 0.030285,
     "end_time": "2025-01-29T22:08:18.366271",
     "exception": false,
     "start_time": "2025-01-29T22:08:18.335986",
     "status": "completed"
    },
    "tags": []
   },
   "outputs": [
    {
     "data": {
      "text/html": [
       "<div>\n",
       "<style scoped>\n",
       "    .dataframe tbody tr th:only-of-type {\n",
       "        vertical-align: middle;\n",
       "    }\n",
       "\n",
       "    .dataframe tbody tr th {\n",
       "        vertical-align: top;\n",
       "    }\n",
       "\n",
       "    .dataframe thead th {\n",
       "        text-align: right;\n",
       "    }\n",
       "</style>\n",
       "<table border=\"1\" class=\"dataframe\">\n",
       "  <thead>\n",
       "    <tr style=\"text-align: right;\">\n",
       "      <th></th>\n",
       "      <th>age</th>\n",
       "      <th>sex</th>\n",
       "      <th>cp</th>\n",
       "      <th>trestbps</th>\n",
       "      <th>chol</th>\n",
       "      <th>fbs</th>\n",
       "      <th>restecg</th>\n",
       "      <th>thalach</th>\n",
       "      <th>exang</th>\n",
       "      <th>oldpeak</th>\n",
       "      <th>slope</th>\n",
       "      <th>ca</th>\n",
       "      <th>thal</th>\n",
       "      <th>target</th>\n",
       "    </tr>\n",
       "  </thead>\n",
       "  <tbody>\n",
       "    <tr>\n",
       "      <th>0</th>\n",
       "      <td>70</td>\n",
       "      <td>1</td>\n",
       "      <td>3</td>\n",
       "      <td>130</td>\n",
       "      <td>322</td>\n",
       "      <td>0</td>\n",
       "      <td>2</td>\n",
       "      <td>109</td>\n",
       "      <td>0</td>\n",
       "      <td>2.4</td>\n",
       "      <td>1</td>\n",
       "      <td>3</td>\n",
       "      <td>1</td>\n",
       "      <td>1</td>\n",
       "    </tr>\n",
       "    <tr>\n",
       "      <th>1</th>\n",
       "      <td>67</td>\n",
       "      <td>0</td>\n",
       "      <td>2</td>\n",
       "      <td>115</td>\n",
       "      <td>564</td>\n",
       "      <td>0</td>\n",
       "      <td>2</td>\n",
       "      <td>160</td>\n",
       "      <td>0</td>\n",
       "      <td>1.6</td>\n",
       "      <td>1</td>\n",
       "      <td>0</td>\n",
       "      <td>3</td>\n",
       "      <td>0</td>\n",
       "    </tr>\n",
       "    <tr>\n",
       "      <th>2</th>\n",
       "      <td>57</td>\n",
       "      <td>1</td>\n",
       "      <td>1</td>\n",
       "      <td>124</td>\n",
       "      <td>261</td>\n",
       "      <td>0</td>\n",
       "      <td>0</td>\n",
       "      <td>141</td>\n",
       "      <td>0</td>\n",
       "      <td>0.3</td>\n",
       "      <td>0</td>\n",
       "      <td>0</td>\n",
       "      <td>3</td>\n",
       "      <td>1</td>\n",
       "    </tr>\n",
       "  </tbody>\n",
       "</table>\n",
       "</div>"
      ],
      "text/plain": [
       "   age  sex  cp  trestbps  chol  fbs  restecg  thalach  exang  oldpeak  slope  \\\n",
       "0   70    1   3       130   322    0        2      109      0      2.4      1   \n",
       "1   67    0   2       115   564    0        2      160      0      1.6      1   \n",
       "2   57    1   1       124   261    0        0      141      0      0.3      0   \n",
       "\n",
       "   ca  thal  target  \n",
       "0   3     1       1  \n",
       "1   0     3       0  \n",
       "2   0     3       1  "
      ]
     },
     "execution_count": 3,
     "metadata": {},
     "output_type": "execute_result"
    }
   ],
   "source": [
    "data.head(3)"
   ]
  },
  {
   "cell_type": "markdown",
   "id": "9b31edd5",
   "metadata": {
    "papermill": {
     "duration": 0.003344,
     "end_time": "2025-01-29T22:08:18.373381",
     "exception": false,
     "start_time": "2025-01-29T22:08:18.370037",
     "status": "completed"
    },
    "tags": []
   },
   "source": [
    "# Checking for missing data"
   ]
  },
  {
   "cell_type": "code",
   "execution_count": 4,
   "id": "5a03d9cb",
   "metadata": {
    "execution": {
     "iopub.execute_input": "2025-01-29T22:08:18.381856Z",
     "iopub.status.busy": "2025-01-29T22:08:18.381524Z",
     "iopub.status.idle": "2025-01-29T22:08:18.392186Z",
     "shell.execute_reply": "2025-01-29T22:08:18.390855Z"
    },
    "papermill": {
     "duration": 0.017219,
     "end_time": "2025-01-29T22:08:18.394180",
     "exception": false,
     "start_time": "2025-01-29T22:08:18.376961",
     "status": "completed"
    },
    "tags": []
   },
   "outputs": [
    {
     "data": {
      "text/plain": [
       "age         0\n",
       "sex         0\n",
       "cp          0\n",
       "trestbps    0\n",
       "chol        0\n",
       "fbs         0\n",
       "restecg     0\n",
       "thalach     0\n",
       "exang       0\n",
       "oldpeak     0\n",
       "slope       0\n",
       "ca          0\n",
       "thal        0\n",
       "target      0\n",
       "dtype: int64"
      ]
     },
     "execution_count": 4,
     "metadata": {},
     "output_type": "execute_result"
    }
   ],
   "source": [
    "data.isna().sum()"
   ]
  },
  {
   "cell_type": "markdown",
   "id": "76b38a83",
   "metadata": {
    "papermill": {
     "duration": 0.005462,
     "end_time": "2025-01-29T22:08:18.406390",
     "exception": false,
     "start_time": "2025-01-29T22:08:18.400928",
     "status": "completed"
    },
    "tags": []
   },
   "source": [
    "# Splitting the data"
   ]
  },
  {
   "cell_type": "code",
   "execution_count": 5,
   "id": "b5b4eb6f",
   "metadata": {
    "execution": {
     "iopub.execute_input": "2025-01-29T22:08:18.416892Z",
     "iopub.status.busy": "2025-01-29T22:08:18.416460Z",
     "iopub.status.idle": "2025-01-29T22:08:18.429724Z",
     "shell.execute_reply": "2025-01-29T22:08:18.428505Z"
    },
    "papermill": {
     "duration": 0.020897,
     "end_time": "2025-01-29T22:08:18.431903",
     "exception": false,
     "start_time": "2025-01-29T22:08:18.411006",
     "status": "completed"
    },
    "tags": []
   },
   "outputs": [],
   "source": [
    "X = data.drop(columns=['target'])\n",
    "y = data['target']"
   ]
  },
  {
   "cell_type": "code",
   "execution_count": 6,
   "id": "8fc4f580",
   "metadata": {
    "execution": {
     "iopub.execute_input": "2025-01-29T22:08:18.443706Z",
     "iopub.status.busy": "2025-01-29T22:08:18.443264Z",
     "iopub.status.idle": "2025-01-29T22:08:18.451123Z",
     "shell.execute_reply": "2025-01-29T22:08:18.449958Z"
    },
    "papermill": {
     "duration": 0.015241,
     "end_time": "2025-01-29T22:08:18.453408",
     "exception": false,
     "start_time": "2025-01-29T22:08:18.438167",
     "status": "completed"
    },
    "tags": []
   },
   "outputs": [],
   "source": [
    "X_train, X_test, y_train, y_test = train_test_split(X, y, test_size=0.3, random_state=42)"
   ]
  },
  {
   "cell_type": "markdown",
   "id": "c3df11be",
   "metadata": {
    "papermill": {
     "duration": 0.00461,
     "end_time": "2025-01-29T22:08:18.464116",
     "exception": false,
     "start_time": "2025-01-29T22:08:18.459506",
     "status": "completed"
    },
    "tags": []
   },
   "source": [
    "# Random Forest Model"
   ]
  },
  {
   "cell_type": "code",
   "execution_count": 7,
   "id": "94847a7f",
   "metadata": {
    "execution": {
     "iopub.execute_input": "2025-01-29T22:08:18.475642Z",
     "iopub.status.busy": "2025-01-29T22:08:18.475279Z",
     "iopub.status.idle": "2025-01-29T22:08:34.270478Z",
     "shell.execute_reply": "2025-01-29T22:08:34.269511Z"
    },
    "papermill": {
     "duration": 15.802872,
     "end_time": "2025-01-29T22:08:34.272502",
     "exception": false,
     "start_time": "2025-01-29T22:08:18.469630",
     "status": "completed"
    },
    "tags": []
   },
   "outputs": [],
   "source": [
    "rf_model = RandomForestClassifier(n_estimators=10000, random_state=42)\n",
    "rf_model.fit(X_train, y_train)\n",
    "y_pred = rf_model.predict(X_test)"
   ]
  },
  {
   "cell_type": "markdown",
   "id": "3e41dff8",
   "metadata": {
    "papermill": {
     "duration": 0.003568,
     "end_time": "2025-01-29T22:08:34.280033",
     "exception": false,
     "start_time": "2025-01-29T22:08:34.276465",
     "status": "completed"
    },
    "tags": []
   },
   "source": [
    "# Confusion Model"
   ]
  },
  {
   "cell_type": "code",
   "execution_count": 8,
   "id": "e41d7079",
   "metadata": {
    "execution": {
     "iopub.execute_input": "2025-01-29T22:08:34.288634Z",
     "iopub.status.busy": "2025-01-29T22:08:34.288301Z",
     "iopub.status.idle": "2025-01-29T22:08:34.605227Z",
     "shell.execute_reply": "2025-01-29T22:08:34.604147Z"
    },
    "papermill": {
     "duration": 0.323291,
     "end_time": "2025-01-29T22:08:34.607009",
     "exception": false,
     "start_time": "2025-01-29T22:08:34.283718",
     "status": "completed"
    },
    "tags": []
   },
   "outputs": [
    {
     "data": {
      "image/png": "[encoded data removed]",
      "text/plain": [
       "<Figure size 640x480 with 2 Axes>"
      ]
     },
     "metadata": {},
     "output_type": "display_data"
    }
   ],
   "source": [
    "cm = confusion_matrix(y_test, y_pred)\n",
    "disp = ConfusionMatrixDisplay(confusion_matrix=cm, display_labels=['No', 'Yes'])\n",
    "disp.plot(cmap=plt.cm.Blues)\n",
    "plt.title('Confusion Matrix for Divorce Status Classification')\n",
    "plt.ylabel('True label')\n",
    "plt.xlabel('Predicted label')\n",
    "plt.grid(False)\n",
    "plt.show()"
   ]
  },
  {
   "cell_type": "markdown",
   "id": "e53e84aa",
   "metadata": {
    "papermill": {
     "duration": 0.004154,
     "end_time": "2025-01-29T22:08:34.615621",
     "exception": false,
     "start_time": "2025-01-29T22:08:34.611467",
     "status": "completed"
    },
    "tags": []
   },
   "source": [
    "# Classification Report"
   ]
  },
  {
   "cell_type": "code",
   "execution_count": 9,
   "id": "851f56d5",
   "metadata": {
    "execution": {
     "iopub.execute_input": "2025-01-29T22:08:34.625680Z",
     "iopub.status.busy": "2025-01-29T22:08:34.625348Z",
     "iopub.status.idle": "2025-01-29T22:08:34.638922Z",
     "shell.execute_reply": "2025-01-29T22:08:34.637868Z"
    },
    "papermill": {
     "duration": 0.020443,
     "end_time": "2025-01-29T22:08:34.640583",
     "exception": false,
     "start_time": "2025-01-29T22:08:34.620140",
     "status": "completed"
    },
    "tags": []
   },
   "outputs": [
    {
     "name": "stdout",
     "output_type": "stream",
     "text": [
      "              precision    recall  f1-score   support\n",
      "\n",
      "           0       0.79      0.94      0.86        49\n",
      "           1       0.87      0.62      0.73        32\n",
      "\n",
      "    accuracy                           0.81        81\n",
      "   macro avg       0.83      0.78      0.79        81\n",
      "weighted avg       0.82      0.81      0.81        81\n",
      "\n"
     ]
    }
   ],
   "source": [
    "print(classification_report(y_test, y_pred))"
   ]
  }
 ],
 "metadata": {
  "kaggle": {
   "accelerator": "none",
   "dataSources": [
    {
     "datasetId": 3055431,
     "sourceId": 5251157,
     "sourceType": "datasetVersion"
    }
   ],
   "dockerImageVersionId": 30839,
   "isGpuEnabled": false,
   "isInternetEnabled": true,
   "language": "python",
   "sourceType": "notebook"
  },
  "kernelspec": {
   "display_name": "Python 3",
   "language": "python",
   "name": "python3"
  },
  "language_info": {
   "codemirror_mode": {
    "name": "ipython",
    "version": 3
   },
   "file_extension": ".py",
   "mimetype": "text/x-python",
   "name": "python",
   "nbconvert_exporter": "python",
   "pygments_lexer": "ipython3",
   "version": "3.10.12"
  },
  "papermill": {
   "default_parameters": {},
   "duration": 23.544386,
   "end_time": "2025-01-29T22:08:35.364767",
   "environment_variables": {},
   "exception": null,
   "input_path": "__notebook__.ipynb",
   "output_path": "__notebook__.ipynb",
   "parameters": {},
   "start_time": "2025-01-29T22:08:11.820381",
   "version": "2.6.0"
  }
 },
 "nbformat": 4,
 "nbformat_minor": 5
}
