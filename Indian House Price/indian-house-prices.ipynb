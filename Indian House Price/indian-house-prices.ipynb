{
 "cells": [
  {
   "cell_type": "markdown",
   "id": "16e67845",
   "metadata": {
    "papermill": {
     "duration": 0.005646,
     "end_time": "2025-02-26T20:28:59.558951",
     "exception": false,
     "start_time": "2025-02-26T20:28:59.553305",
     "status": "completed"
    },
    "tags": []
   },
   "source": [
    "# Import Libraries"
   ]
  },
  {
   "cell_type": "code",
   "execution_count": 1,
   "id": "9f657ee2",
   "metadata": {
    "_cell_guid": "b1076dfc-b9ad-4769-8c92-a6c4dae69d19",
    "_uuid": "8f2839f25d086af736a60e9eeb907d3b93b6e0e5",
    "execution": {
     "iopub.execute_input": "2025-02-26T20:28:59.569825Z",
     "iopub.status.busy": "2025-02-26T20:28:59.569409Z",
     "iopub.status.idle": "2025-02-26T20:29:03.822311Z",
     "shell.execute_reply": "2025-02-26T20:29:03.821199Z"
    },
    "papermill": {
     "duration": 4.259931,
     "end_time": "2025-02-26T20:29:03.824541",
     "exception": false,
     "start_time": "2025-02-26T20:28:59.564610",
     "status": "completed"
    },
    "tags": []
   },
   "outputs": [],
   "source": [
    "import numpy as np # linear algebra\n",
    "import pandas as pd # data processing, CSV file I/O (e.g. pd.read_csv)\n",
    "import matplotlib.pyplot as plt\n",
    "import seaborn as sns\n",
    "from sklearn.ensemble import RandomForestRegressor\n",
    "from sklearn.metrics import mean_squared_error, r2_score\n",
    "from sklearn.model_selection import train_test_split"
   ]
  },
  {
   "cell_type": "markdown",
   "id": "faa5b717",
   "metadata": {
    "papermill": {
     "duration": 0.003334,
     "end_time": "2025-02-26T20:29:03.831456",
     "exception": false,
     "start_time": "2025-02-26T20:29:03.828122",
     "status": "completed"
    },
    "tags": []
   },
   "source": [
    "# Loading data"
   ]
  },
  {
   "cell_type": "code",
   "execution_count": 2,
   "id": "34bfd2d2",
   "metadata": {
    "execution": {
     "iopub.execute_input": "2025-02-26T20:29:03.840490Z",
     "iopub.status.busy": "2025-02-26T20:29:03.839971Z",
     "iopub.status.idle": "2025-02-26T20:29:05.533263Z",
     "shell.execute_reply": "2025-02-26T20:29:05.531626Z"
    },
    "papermill": {
     "duration": 1.700378,
     "end_time": "2025-02-26T20:29:05.535438",
     "exception": false,
     "start_time": "2025-02-26T20:29:03.835060",
     "status": "completed"
    },
    "tags": []
   },
   "outputs": [],
   "source": [
    "data = pd.read_csv('/kaggle/input/india-house-price-prediction/india_housing_prices.csv')"
   ]
  },
  {
   "cell_type": "code",
   "execution_count": 3,
   "id": "175a8aef",
   "metadata": {
    "execution": {
     "iopub.execute_input": "2025-02-26T20:29:05.543520Z",
     "iopub.status.busy": "2025-02-26T20:29:05.543136Z",
     "iopub.status.idle": "2025-02-26T20:29:05.590731Z",
     "shell.execute_reply": "2025-02-26T20:29:05.589587Z"
    },
    "papermill": {
     "duration": 0.053449,
     "end_time": "2025-02-26T20:29:05.592489",
     "exception": false,
     "start_time": "2025-02-26T20:29:05.539040",
     "status": "completed"
    },
    "tags": []
   },
   "outputs": [
    {
     "data": {
      "text/html": [
       "<div>\n",
       "<style scoped>\n",
       "    .dataframe tbody tr th:only-of-type {\n",
       "        vertical-align: middle;\n",
       "    }\n",
       "\n",
       "    .dataframe tbody tr th {\n",
       "        vertical-align: top;\n",
       "    }\n",
       "\n",
       "    .dataframe thead th {\n",
       "        text-align: right;\n",
       "    }\n",
       "</style>\n",
       "<table border=\"1\" class=\"dataframe\">\n",
       "  <thead>\n",
       "    <tr style=\"text-align: right;\">\n",
       "      <th></th>\n",
       "      <th>ID</th>\n",
       "      <th>State</th>\n",
       "      <th>City</th>\n",
       "      <th>Locality</th>\n",
       "      <th>Property_Type</th>\n",
       "      <th>BHK</th>\n",
       "      <th>Size_in_SqFt</th>\n",
       "      <th>Price_in_Lakhs</th>\n",
       "      <th>Price_per_SqFt</th>\n",
       "      <th>Year_Built</th>\n",
       "      <th>...</th>\n",
       "      <th>Age_of_Property</th>\n",
       "      <th>Nearby_Schools</th>\n",
       "      <th>Nearby_Hospitals</th>\n",
       "      <th>Public_Transport_Accessibility</th>\n",
       "      <th>Parking_Space</th>\n",
       "      <th>Security</th>\n",
       "      <th>Amenities</th>\n",
       "      <th>Facing</th>\n",
       "      <th>Owner_Type</th>\n",
       "      <th>Availability_Status</th>\n",
       "    </tr>\n",
       "  </thead>\n",
       "  <tbody>\n",
       "    <tr>\n",
       "      <th>0</th>\n",
       "      <td>1</td>\n",
       "      <td>Tamil Nadu</td>\n",
       "      <td>Chennai</td>\n",
       "      <td>Locality_84</td>\n",
       "      <td>Apartment</td>\n",
       "      <td>1</td>\n",
       "      <td>4740</td>\n",
       "      <td>489.76</td>\n",
       "      <td>0.10</td>\n",
       "      <td>1990</td>\n",
       "      <td>...</td>\n",
       "      <td>35</td>\n",
       "      <td>10</td>\n",
       "      <td>3</td>\n",
       "      <td>High</td>\n",
       "      <td>No</td>\n",
       "      <td>No</td>\n",
       "      <td>Playground, Gym, Garden, Pool, Clubhouse</td>\n",
       "      <td>West</td>\n",
       "      <td>Owner</td>\n",
       "      <td>Ready_to_Move</td>\n",
       "    </tr>\n",
       "    <tr>\n",
       "      <th>1</th>\n",
       "      <td>2</td>\n",
       "      <td>Maharashtra</td>\n",
       "      <td>Pune</td>\n",
       "      <td>Locality_490</td>\n",
       "      <td>Independent House</td>\n",
       "      <td>3</td>\n",
       "      <td>2364</td>\n",
       "      <td>195.52</td>\n",
       "      <td>0.08</td>\n",
       "      <td>2008</td>\n",
       "      <td>...</td>\n",
       "      <td>17</td>\n",
       "      <td>8</td>\n",
       "      <td>1</td>\n",
       "      <td>Low</td>\n",
       "      <td>No</td>\n",
       "      <td>Yes</td>\n",
       "      <td>Playground, Clubhouse, Pool, Gym, Garden</td>\n",
       "      <td>North</td>\n",
       "      <td>Builder</td>\n",
       "      <td>Under_Construction</td>\n",
       "    </tr>\n",
       "    <tr>\n",
       "      <th>2</th>\n",
       "      <td>3</td>\n",
       "      <td>Punjab</td>\n",
       "      <td>Ludhiana</td>\n",
       "      <td>Locality_167</td>\n",
       "      <td>Apartment</td>\n",
       "      <td>2</td>\n",
       "      <td>3642</td>\n",
       "      <td>183.79</td>\n",
       "      <td>0.05</td>\n",
       "      <td>1997</td>\n",
       "      <td>...</td>\n",
       "      <td>28</td>\n",
       "      <td>9</td>\n",
       "      <td>8</td>\n",
       "      <td>Low</td>\n",
       "      <td>Yes</td>\n",
       "      <td>No</td>\n",
       "      <td>Clubhouse, Pool, Playground, Gym</td>\n",
       "      <td>South</td>\n",
       "      <td>Broker</td>\n",
       "      <td>Ready_to_Move</td>\n",
       "    </tr>\n",
       "  </tbody>\n",
       "</table>\n",
       "<p>3 rows × 23 columns</p>\n",
       "</div>"
      ],
      "text/plain": [
       "   ID        State      City      Locality      Property_Type  BHK  \\\n",
       "0   1   Tamil Nadu   Chennai   Locality_84          Apartment    1   \n",
       "1   2  Maharashtra      Pune  Locality_490  Independent House    3   \n",
       "2   3       Punjab  Ludhiana  Locality_167          Apartment    2   \n",
       "\n",
       "   Size_in_SqFt  Price_in_Lakhs  Price_per_SqFt  Year_Built  ...  \\\n",
       "0          4740          489.76            0.10        1990  ...   \n",
       "1          2364          195.52            0.08        2008  ...   \n",
       "2          3642          183.79            0.05        1997  ...   \n",
       "\n",
       "  Age_of_Property  Nearby_Schools  Nearby_Hospitals  \\\n",
       "0              35              10                 3   \n",
       "1              17               8                 1   \n",
       "2              28               9                 8   \n",
       "\n",
       "   Public_Transport_Accessibility  Parking_Space  Security  \\\n",
       "0                            High             No        No   \n",
       "1                             Low             No       Yes   \n",
       "2                             Low            Yes        No   \n",
       "\n",
       "                                  Amenities Facing Owner_Type  \\\n",
       "0  Playground, Gym, Garden, Pool, Clubhouse   West      Owner   \n",
       "1  Playground, Clubhouse, Pool, Gym, Garden  North    Builder   \n",
       "2          Clubhouse, Pool, Playground, Gym  South     Broker   \n",
       "\n",
       "  Availability_Status  \n",
       "0       Ready_to_Move  \n",
       "1  Under_Construction  \n",
       "2       Ready_to_Move  \n",
       "\n",
       "[3 rows x 23 columns]"
      ]
     },
     "execution_count": 3,
     "metadata": {},
     "output_type": "execute_result"
    }
   ],
   "source": [
    "data.head(3)"
   ]
  },
  {
   "cell_type": "code",
   "execution_count": 4,
   "id": "4d17b96e",
   "metadata": {
    "execution": {
     "iopub.execute_input": "2025-02-26T20:29:05.602243Z",
     "iopub.status.busy": "2025-02-26T20:29:05.601843Z",
     "iopub.status.idle": "2025-02-26T20:29:05.770170Z",
     "shell.execute_reply": "2025-02-26T20:29:05.769056Z"
    },
    "papermill": {
     "duration": 0.175221,
     "end_time": "2025-02-26T20:29:05.772245",
     "exception": false,
     "start_time": "2025-02-26T20:29:05.597024",
     "status": "completed"
    },
    "tags": []
   },
   "outputs": [
    {
     "data": {
      "text/plain": [
       "ID                                0\n",
       "State                             0\n",
       "City                              0\n",
       "Locality                          0\n",
       "Property_Type                     0\n",
       "BHK                               0\n",
       "Size_in_SqFt                      0\n",
       "Price_in_Lakhs                    0\n",
       "Price_per_SqFt                    0\n",
       "Year_Built                        0\n",
       "Furnished_Status                  0\n",
       "Floor_No                          0\n",
       "Total_Floors                      0\n",
       "Age_of_Property                   0\n",
       "Nearby_Schools                    0\n",
       "Nearby_Hospitals                  0\n",
       "Public_Transport_Accessibility    0\n",
       "Parking_Space                     0\n",
       "Security                          0\n",
       "Amenities                         0\n",
       "Facing                            0\n",
       "Owner_Type                        0\n",
       "Availability_Status               0\n",
       "dtype: int64"
      ]
     },
     "execution_count": 4,
     "metadata": {},
     "output_type": "execute_result"
    }
   ],
   "source": [
    "data.isna().sum()"
   ]
  },
  {
   "cell_type": "markdown",
   "id": "f73a3f0f",
   "metadata": {
    "papermill": {
     "duration": 0.003778,
     "end_time": "2025-02-26T20:29:05.780008",
     "exception": false,
     "start_time": "2025-02-26T20:29:05.776230",
     "status": "completed"
    },
    "tags": []
   },
   "source": [
    "# To numerical"
   ]
  },
  {
   "cell_type": "code",
   "execution_count": 5,
   "id": "acf27a4d",
   "metadata": {
    "execution": {
     "iopub.execute_input": "2025-02-26T20:29:05.789221Z",
     "iopub.status.busy": "2025-02-26T20:29:05.788840Z",
     "iopub.status.idle": "2025-02-26T20:29:06.241078Z",
     "shell.execute_reply": "2025-02-26T20:29:06.240042Z"
    },
    "papermill": {
     "duration": 0.459036,
     "end_time": "2025-02-26T20:29:06.243052",
     "exception": false,
     "start_time": "2025-02-26T20:29:05.784016",
     "status": "completed"
    },
    "tags": []
   },
   "outputs": [],
   "source": [
    "Categorical_columns = data.select_dtypes(include=['object', 'category']).columns\n",
    "def mapping_to_num(data, column):\n",
    "    mapping = {category: idx for idx, category in enumerate(data[column].astype('category').cat.categories)}\n",
    "    data[column] = data[column].map(mapping)\n",
    "    return data, mapping\n",
    "mappings_dict = {}\n",
    "columns_to_map = Categorical_columns\n",
    "for col in columns_to_map:\n",
    "    data, mapping = mapping_to_num(data, col)\n",
    "    mappings_dict[col] = mapping"
   ]
  },
  {
   "cell_type": "markdown",
   "id": "ca4fd48b",
   "metadata": {
    "papermill": {
     "duration": 0.003564,
     "end_time": "2025-02-26T20:29:06.251170",
     "exception": false,
     "start_time": "2025-02-26T20:29:06.247606",
     "status": "completed"
    },
    "tags": []
   },
   "source": [
    "# Splitting the data"
   ]
  },
  {
   "cell_type": "code",
   "execution_count": 6,
   "id": "acaf79ac",
   "metadata": {
    "execution": {
     "iopub.execute_input": "2025-02-26T20:29:06.261959Z",
     "iopub.status.busy": "2025-02-26T20:29:06.261476Z",
     "iopub.status.idle": "2025-02-26T20:29:06.299994Z",
     "shell.execute_reply": "2025-02-26T20:29:06.298785Z"
    },
    "papermill": {
     "duration": 0.046889,
     "end_time": "2025-02-26T20:29:06.302407",
     "exception": false,
     "start_time": "2025-02-26T20:29:06.255518",
     "status": "completed"
    },
    "tags": []
   },
   "outputs": [],
   "source": [
    "X = data.drop(columns=['Price_in_Lakhs','ID'])\n",
    "y = data['Price_in_Lakhs']"
   ]
  },
  {
   "cell_type": "code",
   "execution_count": 7,
   "id": "d16aee02",
   "metadata": {
    "execution": {
     "iopub.execute_input": "2025-02-26T20:29:06.313049Z",
     "iopub.status.busy": "2025-02-26T20:29:06.312579Z",
     "iopub.status.idle": "2025-02-26T20:29:06.436800Z",
     "shell.execute_reply": "2025-02-26T20:29:06.435586Z"
    },
    "papermill": {
     "duration": 0.131999,
     "end_time": "2025-02-26T20:29:06.438696",
     "exception": false,
     "start_time": "2025-02-26T20:29:06.306697",
     "status": "completed"
    },
    "tags": []
   },
   "outputs": [],
   "source": [
    "X_train, X_test, y_train, y_test = train_test_split(X, y, test_size=0.2, random_state=42)"
   ]
  },
  {
   "cell_type": "markdown",
   "id": "ebdebd7b",
   "metadata": {
    "papermill": {
     "duration": 0.003701,
     "end_time": "2025-02-26T20:29:06.446549",
     "exception": false,
     "start_time": "2025-02-26T20:29:06.442848",
     "status": "completed"
    },
    "tags": []
   },
   "source": [
    "# Random Forest Model"
   ]
  },
  {
   "cell_type": "code",
   "execution_count": 8,
   "id": "ba4215a5",
   "metadata": {
    "execution": {
     "iopub.execute_input": "2025-02-26T20:29:06.456441Z",
     "iopub.status.busy": "2025-02-26T20:29:06.456070Z",
     "iopub.status.idle": "2025-02-26T20:33:03.877380Z",
     "shell.execute_reply": "2025-02-26T20:33:03.876129Z"
    },
    "papermill": {
     "duration": 237.428659,
     "end_time": "2025-02-26T20:33:03.879677",
     "exception": false,
     "start_time": "2025-02-26T20:29:06.451018",
     "status": "completed"
    },
    "tags": []
   },
   "outputs": [],
   "source": [
    "model = RandomForestRegressor(n_estimators=100)\n",
    "model.fit(X_train, y_train)\n",
    "y_pred = model.predict(X_test)"
   ]
  },
  {
   "cell_type": "markdown",
   "id": "22fd45fa",
   "metadata": {
    "papermill": {
     "duration": 0.003581,
     "end_time": "2025-02-26T20:33:03.888104",
     "exception": false,
     "start_time": "2025-02-26T20:33:03.884523",
     "status": "completed"
    },
    "tags": []
   },
   "source": [
    "# Performance Metrics"
   ]
  },
  {
   "cell_type": "code",
   "execution_count": 9,
   "id": "a0a7d2fd",
   "metadata": {
    "execution": {
     "iopub.execute_input": "2025-02-26T20:33:03.896897Z",
     "iopub.status.busy": "2025-02-26T20:33:03.896550Z",
     "iopub.status.idle": "2025-02-26T20:33:03.914998Z",
     "shell.execute_reply": "2025-02-26T20:33:03.913669Z"
    },
    "papermill": {
     "duration": 0.024935,
     "end_time": "2025-02-26T20:33:03.916838",
     "exception": false,
     "start_time": "2025-02-26T20:33:03.891903",
     "status": "completed"
    },
    "tags": []
   },
   "outputs": [
    {
     "name": "stdout",
     "output_type": "stream",
     "text": [
      "Mean Squared Error (MSE): 79.2279991443008\n",
      "Root Mean Squared Error (RMSE): 8.90101113044472\n",
      "R-squared (R² Score): 0.9960257842975496\n"
     ]
    }
   ],
   "source": [
    "mse = mean_squared_error(y_test, y_pred)\n",
    "print(f'Mean Squared Error (MSE): {mse}')\n",
    "\n",
    "rmse = np.sqrt(mse)\n",
    "print(f'Root Mean Squared Error (RMSE): {rmse}')\n",
    "\n",
    "r2 = r2_score(y_test, y_pred)\n",
    "print(f'R-squared (R² Score): {r2}')"
   ]
  }
 ],
 "metadata": {
  "kaggle": {
   "accelerator": "none",
   "dataSources": [
    {
     "datasetId": 6476388,
     "sourceId": 10461053,
     "sourceType": "datasetVersion"
    }
   ],
   "dockerImageVersionId": 30839,
   "isGpuEnabled": false,
   "isInternetEnabled": true,
   "language": "python",
   "sourceType": "notebook"
  },
  "kernelspec": {
   "display_name": "Python 3",
   "language": "python",
   "name": "python3"
  },
  "language_info": {
   "codemirror_mode": {
    "name": "ipython",
    "version": 3
   },
   "file_extension": ".py",
   "mimetype": "text/x-python",
   "name": "python",
   "nbconvert_exporter": "python",
   "pygments_lexer": "ipython3",
   "version": "3.10.12"
  },
  "papermill": {
   "default_parameters": {},
   "duration": 248.861582,
   "end_time": "2025-02-26T20:33:04.943478",
   "environment_variables": {},
   "exception": null,
   "input_path": "__notebook__.ipynb",
   "output_path": "__notebook__.ipynb",
   "parameters": {},
   "start_time": "2025-02-26T20:28:56.081896",
   "version": "2.6.0"
  }
 },
 "nbformat": 4,
 "nbformat_minor": 5
}
