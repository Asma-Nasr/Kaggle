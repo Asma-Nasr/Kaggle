{
 "cells": [
  {
   "cell_type": "markdown",
   "id": "80630e2c",
   "metadata": {
    "papermill": {
     "duration": 0.005456,
     "end_time": "2025-02-08T18:15:27.007542",
     "exception": false,
     "start_time": "2025-02-08T18:15:27.002086",
     "status": "completed"
    },
    "tags": []
   },
   "source": [
    "# Importing libraries"
   ]
  },
  {
   "cell_type": "code",
   "execution_count": 1,
   "id": "09183dce",
   "metadata": {
    "_cell_guid": "b1076dfc-b9ad-4769-8c92-a6c4dae69d19",
    "_uuid": "8f2839f25d086af736a60e9eeb907d3b93b6e0e5",
    "execution": {
     "iopub.execute_input": "2025-02-08T18:15:27.020035Z",
     "iopub.status.busy": "2025-02-08T18:15:27.019532Z",
     "iopub.status.idle": "2025-02-08T18:15:30.775914Z",
     "shell.execute_reply": "2025-02-08T18:15:30.774249Z"
    },
    "papermill": {
     "duration": 3.7644,
     "end_time": "2025-02-08T18:15:30.777926",
     "exception": false,
     "start_time": "2025-02-08T18:15:27.013526",
     "status": "completed"
    },
    "tags": []
   },
   "outputs": [],
   "source": [
    "import numpy as np # linear algebra\n",
    "import pandas as pd # data processing, CSV file I/O (e.g. pd.read_csv)\n",
    "import matplotlib.pyplot as plt\n",
    "import seaborn as sns\n",
    "from sklearn.ensemble import RandomForestClassifier\n",
    "from sklearn.metrics import classification_report, confusion_matrix, ConfusionMatrixDisplay\n",
    "from sklearn.model_selection import train_test_split"
   ]
  },
  {
   "cell_type": "markdown",
   "id": "9424d4a6",
   "metadata": {
    "papermill": {
     "duration": 0.004342,
     "end_time": "2025-02-08T18:15:30.787217",
     "exception": false,
     "start_time": "2025-02-08T18:15:30.782875",
     "status": "completed"
    },
    "tags": []
   },
   "source": [
    "# Loading Data"
   ]
  },
  {
   "cell_type": "code",
   "execution_count": 2,
   "id": "a80e7535",
   "metadata": {
    "execution": {
     "iopub.execute_input": "2025-02-08T18:15:30.797971Z",
     "iopub.status.busy": "2025-02-08T18:15:30.797463Z",
     "iopub.status.idle": "2025-02-08T18:15:31.909695Z",
     "shell.execute_reply": "2025-02-08T18:15:31.908451Z"
    },
    "papermill": {
     "duration": 1.120372,
     "end_time": "2025-02-08T18:15:31.912202",
     "exception": false,
     "start_time": "2025-02-08T18:15:30.791830",
     "status": "completed"
    },
    "tags": []
   },
   "outputs": [],
   "source": [
    "data = pd.read_csv('/kaggle/input/lung-cancer-risk-and-trends-across-25-countries/lung_cancer_prediction_dataset.csv')"
   ]
  },
  {
   "cell_type": "code",
   "execution_count": 3,
   "id": "05d0a344",
   "metadata": {
    "execution": {
     "iopub.execute_input": "2025-02-08T18:15:31.923112Z",
     "iopub.status.busy": "2025-02-08T18:15:31.922756Z",
     "iopub.status.idle": "2025-02-08T18:15:31.966423Z",
     "shell.execute_reply": "2025-02-08T18:15:31.965269Z"
    },
    "papermill": {
     "duration": 0.051296,
     "end_time": "2025-02-08T18:15:31.968375",
     "exception": false,
     "start_time": "2025-02-08T18:15:31.917079",
     "status": "completed"
    },
    "tags": []
   },
   "outputs": [
    {
     "data": {
      "text/html": [
       "<div>\n",
       "<style scoped>\n",
       "    .dataframe tbody tr th:only-of-type {\n",
       "        vertical-align: middle;\n",
       "    }\n",
       "\n",
       "    .dataframe tbody tr th {\n",
       "        vertical-align: top;\n",
       "    }\n",
       "\n",
       "    .dataframe thead th {\n",
       "        text-align: right;\n",
       "    }\n",
       "</style>\n",
       "<table border=\"1\" class=\"dataframe\">\n",
       "  <thead>\n",
       "    <tr style=\"text-align: right;\">\n",
       "      <th></th>\n",
       "      <th>ID</th>\n",
       "      <th>Country</th>\n",
       "      <th>Population_Size</th>\n",
       "      <th>Age</th>\n",
       "      <th>Gender</th>\n",
       "      <th>Smoker</th>\n",
       "      <th>Years_of_Smoking</th>\n",
       "      <th>Cigarettes_per_Day</th>\n",
       "      <th>Passive_Smoker</th>\n",
       "      <th>Family_History</th>\n",
       "      <th>...</th>\n",
       "      <th>Air_Pollution_Exposure</th>\n",
       "      <th>Occupational_Exposure</th>\n",
       "      <th>Indoor_Pollution</th>\n",
       "      <th>Healthcare_Access</th>\n",
       "      <th>Early_Detection</th>\n",
       "      <th>Treatment_Type</th>\n",
       "      <th>Developed_or_Developing</th>\n",
       "      <th>Annual_Lung_Cancer_Deaths</th>\n",
       "      <th>Lung_Cancer_Prevalence_Rate</th>\n",
       "      <th>Mortality_Rate</th>\n",
       "    </tr>\n",
       "  </thead>\n",
       "  <tbody>\n",
       "    <tr>\n",
       "      <th>0</th>\n",
       "      <td>0</td>\n",
       "      <td>China</td>\n",
       "      <td>1400</td>\n",
       "      <td>80</td>\n",
       "      <td>Male</td>\n",
       "      <td>Yes</td>\n",
       "      <td>30</td>\n",
       "      <td>29</td>\n",
       "      <td>No</td>\n",
       "      <td>No</td>\n",
       "      <td>...</td>\n",
       "      <td>Low</td>\n",
       "      <td>Yes</td>\n",
       "      <td>No</td>\n",
       "      <td>Poor</td>\n",
       "      <td>No</td>\n",
       "      <td>NaN</td>\n",
       "      <td>Developing</td>\n",
       "      <td>690000</td>\n",
       "      <td>2.44</td>\n",
       "      <td>0.0</td>\n",
       "    </tr>\n",
       "    <tr>\n",
       "      <th>1</th>\n",
       "      <td>1</td>\n",
       "      <td>Iran</td>\n",
       "      <td>84</td>\n",
       "      <td>53</td>\n",
       "      <td>Male</td>\n",
       "      <td>No</td>\n",
       "      <td>0</td>\n",
       "      <td>0</td>\n",
       "      <td>Yes</td>\n",
       "      <td>No</td>\n",
       "      <td>...</td>\n",
       "      <td>Low</td>\n",
       "      <td>Yes</td>\n",
       "      <td>No</td>\n",
       "      <td>Poor</td>\n",
       "      <td>No</td>\n",
       "      <td>NaN</td>\n",
       "      <td>Developing</td>\n",
       "      <td>27000</td>\n",
       "      <td>2.10</td>\n",
       "      <td>0.0</td>\n",
       "    </tr>\n",
       "    <tr>\n",
       "      <th>2</th>\n",
       "      <td>2</td>\n",
       "      <td>Mexico</td>\n",
       "      <td>128</td>\n",
       "      <td>47</td>\n",
       "      <td>Male</td>\n",
       "      <td>Yes</td>\n",
       "      <td>12</td>\n",
       "      <td>6</td>\n",
       "      <td>Yes</td>\n",
       "      <td>No</td>\n",
       "      <td>...</td>\n",
       "      <td>Medium</td>\n",
       "      <td>No</td>\n",
       "      <td>No</td>\n",
       "      <td>Poor</td>\n",
       "      <td>Yes</td>\n",
       "      <td>NaN</td>\n",
       "      <td>Developing</td>\n",
       "      <td>28000</td>\n",
       "      <td>1.11</td>\n",
       "      <td>0.0</td>\n",
       "    </tr>\n",
       "  </tbody>\n",
       "</table>\n",
       "<p>3 rows × 24 columns</p>\n",
       "</div>"
      ],
      "text/plain": [
       "   ID Country  Population_Size  Age Gender Smoker  Years_of_Smoking  \\\n",
       "0   0   China             1400   80   Male    Yes                30   \n",
       "1   1    Iran               84   53   Male     No                 0   \n",
       "2   2  Mexico              128   47   Male    Yes                12   \n",
       "\n",
       "   Cigarettes_per_Day Passive_Smoker Family_History  ...  \\\n",
       "0                  29             No             No  ...   \n",
       "1                   0            Yes             No  ...   \n",
       "2                   6            Yes             No  ...   \n",
       "\n",
       "  Air_Pollution_Exposure Occupational_Exposure  Indoor_Pollution  \\\n",
       "0                    Low                   Yes                No   \n",
       "1                    Low                   Yes                No   \n",
       "2                 Medium                    No                No   \n",
       "\n",
       "  Healthcare_Access Early_Detection Treatment_Type Developed_or_Developing  \\\n",
       "0              Poor              No            NaN              Developing   \n",
       "1              Poor              No            NaN              Developing   \n",
       "2              Poor             Yes            NaN              Developing   \n",
       "\n",
       "  Annual_Lung_Cancer_Deaths Lung_Cancer_Prevalence_Rate Mortality_Rate  \n",
       "0                    690000                        2.44            0.0  \n",
       "1                     27000                        2.10            0.0  \n",
       "2                     28000                        1.11            0.0  \n",
       "\n",
       "[3 rows x 24 columns]"
      ]
     },
     "execution_count": 3,
     "metadata": {},
     "output_type": "execute_result"
    }
   ],
   "source": [
    "data.head(3)"
   ]
  },
  {
   "cell_type": "markdown",
   "id": "aed8ba63",
   "metadata": {
    "papermill": {
     "duration": 0.004492,
     "end_time": "2025-02-08T18:15:31.977933",
     "exception": false,
     "start_time": "2025-02-08T18:15:31.973441",
     "status": "completed"
    },
    "tags": []
   },
   "source": [
    "# Checking for missing data"
   ]
  },
  {
   "cell_type": "code",
   "execution_count": 4,
   "id": "6b10de86",
   "metadata": {
    "execution": {
     "iopub.execute_input": "2025-02-08T18:15:31.988998Z",
     "iopub.status.busy": "2025-02-08T18:15:31.988643Z",
     "iopub.status.idle": "2025-02-08T18:15:32.151529Z",
     "shell.execute_reply": "2025-02-08T18:15:32.149995Z"
    },
    "papermill": {
     "duration": 0.171158,
     "end_time": "2025-02-08T18:15:32.153934",
     "exception": false,
     "start_time": "2025-02-08T18:15:31.982776",
     "status": "completed"
    },
    "tags": []
   },
   "outputs": [
    {
     "data": {
      "text/plain": [
       "ID                                  0\n",
       "Country                             0\n",
       "Population_Size                     0\n",
       "Age                                 0\n",
       "Gender                              0\n",
       "Smoker                              0\n",
       "Years_of_Smoking                    0\n",
       "Cigarettes_per_Day                  0\n",
       "Passive_Smoker                      0\n",
       "Family_History                      0\n",
       "Lung_Cancer_Diagnosis               0\n",
       "Cancer_Stage                   211671\n",
       "Survival_Years                      0\n",
       "Adenocarcinoma_Type                 0\n",
       "Air_Pollution_Exposure              0\n",
       "Occupational_Exposure               0\n",
       "Indoor_Pollution                    0\n",
       "Healthcare_Access                   0\n",
       "Early_Detection                     0\n",
       "Treatment_Type                 213968\n",
       "Developed_or_Developing             0\n",
       "Annual_Lung_Cancer_Deaths           0\n",
       "Lung_Cancer_Prevalence_Rate         0\n",
       "Mortality_Rate                      0\n",
       "dtype: int64"
      ]
     },
     "execution_count": 4,
     "metadata": {},
     "output_type": "execute_result"
    }
   ],
   "source": [
    "data.isna().sum()"
   ]
  },
  {
   "cell_type": "markdown",
   "id": "306f1f69",
   "metadata": {
    "papermill": {
     "duration": 0.006991,
     "end_time": "2025-02-08T18:15:32.170073",
     "exception": false,
     "start_time": "2025-02-08T18:15:32.163082",
     "status": "completed"
    },
    "tags": []
   },
   "source": [
    "# Converting Categorical values to numerical"
   ]
  },
  {
   "cell_type": "code",
   "execution_count": 5,
   "id": "eb33e618",
   "metadata": {
    "execution": {
     "iopub.execute_input": "2025-02-08T18:15:32.184750Z",
     "iopub.status.busy": "2025-02-08T18:15:32.184216Z",
     "iopub.status.idle": "2025-02-08T18:15:32.212677Z",
     "shell.execute_reply": "2025-02-08T18:15:32.210411Z"
    },
    "papermill": {
     "duration": 0.039186,
     "end_time": "2025-02-08T18:15:32.215077",
     "exception": false,
     "start_time": "2025-02-08T18:15:32.175891",
     "status": "completed"
    },
    "tags": []
   },
   "outputs": [],
   "source": [
    "Categorical_columns = data.select_dtypes(include=['object', 'category']).columns"
   ]
  },
  {
   "cell_type": "code",
   "execution_count": 6,
   "id": "3703da94",
   "metadata": {
    "execution": {
     "iopub.execute_input": "2025-02-08T18:15:32.230653Z",
     "iopub.status.busy": "2025-02-08T18:15:32.230283Z",
     "iopub.status.idle": "2025-02-08T18:15:32.235454Z",
     "shell.execute_reply": "2025-02-08T18:15:32.234330Z"
    },
    "papermill": {
     "duration": 0.014113,
     "end_time": "2025-02-08T18:15:32.237393",
     "exception": false,
     "start_time": "2025-02-08T18:15:32.223280",
     "status": "completed"
    },
    "tags": []
   },
   "outputs": [],
   "source": [
    "def mapping_to_num(data, column):\n",
    "    mapping = {category: idx for idx, category in enumerate(data[column].astype('category').cat.categories)}\n",
    "    data[column] = data[column].map(mapping)\n",
    "    return data, mapping"
   ]
  },
  {
   "cell_type": "code",
   "execution_count": 7,
   "id": "a8e31ea2",
   "metadata": {
    "execution": {
     "iopub.execute_input": "2025-02-08T18:15:32.248689Z",
     "iopub.status.busy": "2025-02-08T18:15:32.248327Z",
     "iopub.status.idle": "2025-02-08T18:15:32.678760Z",
     "shell.execute_reply": "2025-02-08T18:15:32.677500Z"
    },
    "papermill": {
     "duration": 0.438798,
     "end_time": "2025-02-08T18:15:32.681269",
     "exception": false,
     "start_time": "2025-02-08T18:15:32.242471",
     "status": "completed"
    },
    "tags": []
   },
   "outputs": [],
   "source": [
    "mappings_dict = {}\n",
    "columns_to_map = Categorical_columns\n",
    "for col in columns_to_map:\n",
    "    data, mapping = mapping_to_num(data, col)\n",
    "    mappings_dict[col] = mapping"
   ]
  },
  {
   "cell_type": "markdown",
   "id": "a97313ec",
   "metadata": {
    "papermill": {
     "duration": 0.004764,
     "end_time": "2025-02-08T18:15:32.691282",
     "exception": false,
     "start_time": "2025-02-08T18:15:32.686518",
     "status": "completed"
    },
    "tags": []
   },
   "source": [
    "# Imputing missing values"
   ]
  },
  {
   "cell_type": "code",
   "execution_count": 8,
   "id": "edadea95",
   "metadata": {
    "execution": {
     "iopub.execute_input": "2025-02-08T18:15:32.702582Z",
     "iopub.status.busy": "2025-02-08T18:15:32.702223Z",
     "iopub.status.idle": "2025-02-08T18:15:32.714621Z",
     "shell.execute_reply": "2025-02-08T18:15:32.713473Z"
    },
    "papermill": {
     "duration": 0.020304,
     "end_time": "2025-02-08T18:15:32.716592",
     "exception": false,
     "start_time": "2025-02-08T18:15:32.696288",
     "status": "completed"
    },
    "tags": []
   },
   "outputs": [
    {
     "name": "stderr",
     "output_type": "stream",
     "text": [
      "<ipython-input-8-24cb95c71bef>:1: FutureWarning: A value is trying to be set on a copy of a DataFrame or Series through chained assignment using an inplace method.\n",
      "The behavior will change in pandas 3.0. This inplace method will never work because the intermediate object on which we are setting values always behaves as a copy.\n",
      "\n",
      "For example, when doing 'df[col].method(value, inplace=True)', try using 'df.method({col: value}, inplace=True)' or df[col] = df[col].method(value) instead, to perform the operation inplace on the original object.\n",
      "\n",
      "\n",
      "  data['Cancer_Stage'].fillna(data['Cancer_Stage'].mean(), inplace=True)\n",
      "<ipython-input-8-24cb95c71bef>:2: FutureWarning: A value is trying to be set on a copy of a DataFrame or Series through chained assignment using an inplace method.\n",
      "The behavior will change in pandas 3.0. This inplace method will never work because the intermediate object on which we are setting values always behaves as a copy.\n",
      "\n",
      "For example, when doing 'df[col].method(value, inplace=True)', try using 'df.method({col: value}, inplace=True)' or df[col] = df[col].method(value) instead, to perform the operation inplace on the original object.\n",
      "\n",
      "\n",
      "  data['Treatment_Type'].fillna(data['Treatment_Type'].mean(), inplace=True)\n"
     ]
    }
   ],
   "source": [
    "data['Cancer_Stage'].fillna(data['Cancer_Stage'].mean(), inplace=True)\n",
    "data['Treatment_Type'].fillna(data['Treatment_Type'].mean(), inplace=True)"
   ]
  },
  {
   "cell_type": "code",
   "execution_count": 9,
   "id": "bad8fd2a",
   "metadata": {
    "execution": {
     "iopub.execute_input": "2025-02-08T18:15:32.728885Z",
     "iopub.status.busy": "2025-02-08T18:15:32.728397Z",
     "iopub.status.idle": "2025-02-08T18:15:32.747448Z",
     "shell.execute_reply": "2025-02-08T18:15:32.746073Z"
    },
    "papermill": {
     "duration": 0.027203,
     "end_time": "2025-02-08T18:15:32.749510",
     "exception": false,
     "start_time": "2025-02-08T18:15:32.722307",
     "status": "completed"
    },
    "tags": []
   },
   "outputs": [
    {
     "data": {
      "text/plain": [
       "ID                             0\n",
       "Country                        0\n",
       "Population_Size                0\n",
       "Age                            0\n",
       "Gender                         0\n",
       "Smoker                         0\n",
       "Years_of_Smoking               0\n",
       "Cigarettes_per_Day             0\n",
       "Passive_Smoker                 0\n",
       "Family_History                 0\n",
       "Lung_Cancer_Diagnosis          0\n",
       "Cancer_Stage                   0\n",
       "Survival_Years                 0\n",
       "Adenocarcinoma_Type            0\n",
       "Air_Pollution_Exposure         0\n",
       "Occupational_Exposure          0\n",
       "Indoor_Pollution               0\n",
       "Healthcare_Access              0\n",
       "Early_Detection                0\n",
       "Treatment_Type                 0\n",
       "Developed_or_Developing        0\n",
       "Annual_Lung_Cancer_Deaths      0\n",
       "Lung_Cancer_Prevalence_Rate    0\n",
       "Mortality_Rate                 0\n",
       "dtype: int64"
      ]
     },
     "execution_count": 9,
     "metadata": {},
     "output_type": "execute_result"
    }
   ],
   "source": [
    "data.isna().sum()"
   ]
  },
  {
   "cell_type": "markdown",
   "id": "82f42c2d",
   "metadata": {
    "papermill": {
     "duration": 0.005129,
     "end_time": "2025-02-08T18:15:32.760276",
     "exception": false,
     "start_time": "2025-02-08T18:15:32.755147",
     "status": "completed"
    },
    "tags": []
   },
   "source": [
    "# Splitting data"
   ]
  },
  {
   "cell_type": "code",
   "execution_count": 10,
   "id": "898af275",
   "metadata": {
    "execution": {
     "iopub.execute_input": "2025-02-08T18:15:32.773296Z",
     "iopub.status.busy": "2025-02-08T18:15:32.772866Z",
     "iopub.status.idle": "2025-02-08T18:15:32.792401Z",
     "shell.execute_reply": "2025-02-08T18:15:32.791135Z"
    },
    "papermill": {
     "duration": 0.028565,
     "end_time": "2025-02-08T18:15:32.794467",
     "exception": false,
     "start_time": "2025-02-08T18:15:32.765902",
     "status": "completed"
    },
    "tags": []
   },
   "outputs": [],
   "source": [
    "X = data.drop(columns=['ID','Lung_Cancer_Diagnosis'])\n",
    "y = data['Lung_Cancer_Diagnosis']"
   ]
  },
  {
   "cell_type": "code",
   "execution_count": 11,
   "id": "07baa829",
   "metadata": {
    "execution": {
     "iopub.execute_input": "2025-02-08T18:15:32.806650Z",
     "iopub.status.busy": "2025-02-08T18:15:32.806291Z",
     "iopub.status.idle": "2025-02-08T18:15:32.930525Z",
     "shell.execute_reply": "2025-02-08T18:15:32.929130Z"
    },
    "papermill": {
     "duration": 0.132559,
     "end_time": "2025-02-08T18:15:32.932523",
     "exception": false,
     "start_time": "2025-02-08T18:15:32.799964",
     "status": "completed"
    },
    "tags": []
   },
   "outputs": [],
   "source": [
    "X_train, X_test, y_train, y_test = train_test_split(X, y, test_size=0.2, random_state=42)"
   ]
  },
  {
   "cell_type": "markdown",
   "id": "28b59869",
   "metadata": {
    "papermill": {
     "duration": 0.005407,
     "end_time": "2025-02-08T18:15:32.943281",
     "exception": false,
     "start_time": "2025-02-08T18:15:32.937874",
     "status": "completed"
    },
    "tags": []
   },
   "source": [
    "# Random Forest Classifier"
   ]
  },
  {
   "cell_type": "code",
   "execution_count": 12,
   "id": "e4269e49",
   "metadata": {
    "execution": {
     "iopub.execute_input": "2025-02-08T18:15:32.955682Z",
     "iopub.status.busy": "2025-02-08T18:15:32.955316Z",
     "iopub.status.idle": "2025-02-08T18:15:38.827048Z",
     "shell.execute_reply": "2025-02-08T18:15:38.826014Z"
    },
    "papermill": {
     "duration": 5.880668,
     "end_time": "2025-02-08T18:15:38.829134",
     "exception": false,
     "start_time": "2025-02-08T18:15:32.948466",
     "status": "completed"
    },
    "tags": []
   },
   "outputs": [],
   "source": [
    "model = RandomForestClassifier(n_estimators=100)\n",
    "model.fit(X_train, y_train)\n",
    "y_pred = model.predict(X_test)"
   ]
  },
  {
   "cell_type": "markdown",
   "id": "1bcc7e64",
   "metadata": {
    "papermill": {
     "duration": 0.005072,
     "end_time": "2025-02-08T18:15:38.840490",
     "exception": false,
     "start_time": "2025-02-08T18:15:38.835418",
     "status": "completed"
    },
    "tags": []
   },
   "source": [
    "# Classification Report"
   ]
  },
  {
   "cell_type": "code",
   "execution_count": 13,
   "id": "9bfd4cde",
   "metadata": {
    "execution": {
     "iopub.execute_input": "2025-02-08T18:15:38.852581Z",
     "iopub.status.busy": "2025-02-08T18:15:38.852205Z",
     "iopub.status.idle": "2025-02-08T18:15:38.926163Z",
     "shell.execute_reply": "2025-02-08T18:15:38.924788Z"
    },
    "papermill": {
     "duration": 0.082317,
     "end_time": "2025-02-08T18:15:38.928121",
     "exception": false,
     "start_time": "2025-02-08T18:15:38.845804",
     "status": "completed"
    },
    "tags": []
   },
   "outputs": [
    {
     "name": "stdout",
     "output_type": "stream",
     "text": [
      "              precision    recall  f1-score   support\n",
      "\n",
      "           0       1.00      1.00      1.00     42292\n",
      "           1       1.00      1.00      1.00      1835\n",
      "\n",
      "    accuracy                           1.00     44127\n",
      "   macro avg       1.00      1.00      1.00     44127\n",
      "weighted avg       1.00      1.00      1.00     44127\n",
      "\n"
     ]
    }
   ],
   "source": [
    "print(classification_report(y_test, y_pred))"
   ]
  },
  {
   "cell_type": "markdown",
   "id": "01a3955a",
   "metadata": {
    "papermill": {
     "duration": 0.005056,
     "end_time": "2025-02-08T18:15:38.938988",
     "exception": false,
     "start_time": "2025-02-08T18:15:38.933932",
     "status": "completed"
    },
    "tags": []
   },
   "source": [
    "# Confusion Matrix"
   ]
  },
  {
   "cell_type": "code",
   "execution_count": 14,
   "id": "8919a841",
   "metadata": {
    "execution": {
     "iopub.execute_input": "2025-02-08T18:15:38.950945Z",
     "iopub.status.busy": "2025-02-08T18:15:38.950576Z",
     "iopub.status.idle": "2025-02-08T18:15:39.284136Z",
     "shell.execute_reply": "2025-02-08T18:15:39.282938Z"
    },
    "papermill": {
     "duration": 0.342449,
     "end_time": "2025-02-08T18:15:39.286745",
     "exception": false,
     "start_time": "2025-02-08T18:15:38.944296",
     "status": "completed"
    },
    "tags": []
   },
   "outputs": [
    {
     "data": {
      "image/png": "[encoded data removed]",
      "text/plain": [
       "<Figure size 640x480 with 2 Axes>"
      ]
     },
     "metadata": {},
     "output_type": "display_data"
    }
   ],
   "source": [
    "sns.heatmap(confusion_matrix(y_test, y_pred), annot=True, fmt='d')\n",
    "plt.title('Confusion Matrix')\n",
    "plt.xlabel('Predicted')\n",
    "plt.ylabel('Actual')\n",
    "plt.show()"
   ]
  }
 ],
 "metadata": {
  "kaggle": {
   "accelerator": "none",
   "dataSources": [
    {
     "datasetId": 6616693,
     "sourceId": 10680778,
     "sourceType": "datasetVersion"
    }
   ],
   "dockerImageVersionId": 30886,
   "isGpuEnabled": false,
   "isInternetEnabled": true,
   "language": "python",
   "sourceType": "notebook"
  },
  "kernelspec": {
   "display_name": "Python 3",
   "language": "python",
   "name": "python3"
  },
  "language_info": {
   "codemirror_mode": {
    "name": "ipython",
    "version": 3
   },
   "file_extension": ".py",
   "mimetype": "text/x-python",
   "name": "python",
   "nbconvert_exporter": "python",
   "pygments_lexer": "ipython3",
   "version": "3.10.12"
  },
  "papermill": {
   "default_parameters": {},
   "duration": 16.08498,
   "end_time": "2025-02-08T18:15:40.115275",
   "environment_variables": {},
   "exception": null,
   "input_path": "__notebook__.ipynb",
   "output_path": "__notebook__.ipynb",
   "parameters": {},
   "start_time": "2025-02-08T18:15:24.030295",
   "version": "2.6.0"
  }
 },
 "nbformat": 4,
 "nbformat_minor": 5
}
